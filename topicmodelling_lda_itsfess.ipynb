{
  "nbformat": 4,
  "nbformat_minor": 0,
  "metadata": {
    "colab": {
      "provenance": [],
      "include_colab_link": true
    },
    "kernelspec": {
      "name": "python3",
      "display_name": "Python 3"
    },
    "language_info": {
      "name": "python"
    }
  },
  "cells": [
    {
      "cell_type": "markdown",
      "metadata": {
        "id": "view-in-github",
        "colab_type": "text"
      },
      "source": [
        "<a href=\"https://colab.research.google.com/github/naufalfano/topicmodelling_LDA/blob/main/topicmodelling_lda_itsfess.ipynb\" target=\"_parent\"><img src=\"https://colab.research.google.com/assets/colab-badge.svg\" alt=\"Open In Colab\"/></a>"
      ]
    },
    {
      "cell_type": "markdown",
      "source": [
        "# Data Cleansing & Pre-Processing"
      ],
      "metadata": {
        "id": "_5B1VuhxgWQx"
      }
    },
    {
      "cell_type": "code",
      "source": [
        "#Upload file local ke dalam Google Colab\n",
        "from google.colab import files\n",
        "uploaded = files.upload()"
      ],
      "metadata": {
        "colab": {
          "base_uri": "https://localhost:8080/",
          "height": 74
        },
        "id": "W9ixwYNUgom9",
        "outputId": "e4ed4872-2d3b-4e95-d96b-f823cd133068"
      },
      "execution_count": 2,
      "outputs": [
        {
          "output_type": "display_data",
          "data": {
            "text/plain": [
              "<IPython.core.display.HTML object>"
            ],
            "text/html": [
              "\n",
              "     <input type=\"file\" id=\"files-d5875ddf-e68b-4c8e-b647-f3a912a0f1f0\" name=\"files[]\" multiple disabled\n",
              "        style=\"border:none\" />\n",
              "     <output id=\"result-d5875ddf-e68b-4c8e-b647-f3a912a0f1f0\">\n",
              "      Upload widget is only available when the cell has been executed in the\n",
              "      current browser session. Please rerun this cell to enable.\n",
              "      </output>\n",
              "      <script>// Copyright 2017 Google LLC\n",
              "//\n",
              "// Licensed under the Apache License, Version 2.0 (the \"License\");\n",
              "// you may not use this file except in compliance with the License.\n",
              "// You may obtain a copy of the License at\n",
              "//\n",
              "//      http://www.apache.org/licenses/LICENSE-2.0\n",
              "//\n",
              "// Unless required by applicable law or agreed to in writing, software\n",
              "// distributed under the License is distributed on an \"AS IS\" BASIS,\n",
              "// WITHOUT WARRANTIES OR CONDITIONS OF ANY KIND, either express or implied.\n",
              "// See the License for the specific language governing permissions and\n",
              "// limitations under the License.\n",
              "\n",
              "/**\n",
              " * @fileoverview Helpers for google.colab Python module.\n",
              " */\n",
              "(function(scope) {\n",
              "function span(text, styleAttributes = {}) {\n",
              "  const element = document.createElement('span');\n",
              "  element.textContent = text;\n",
              "  for (const key of Object.keys(styleAttributes)) {\n",
              "    element.style[key] = styleAttributes[key];\n",
              "  }\n",
              "  return element;\n",
              "}\n",
              "\n",
              "// Max number of bytes which will be uploaded at a time.\n",
              "const MAX_PAYLOAD_SIZE = 100 * 1024;\n",
              "\n",
              "function _uploadFiles(inputId, outputId) {\n",
              "  const steps = uploadFilesStep(inputId, outputId);\n",
              "  const outputElement = document.getElementById(outputId);\n",
              "  // Cache steps on the outputElement to make it available for the next call\n",
              "  // to uploadFilesContinue from Python.\n",
              "  outputElement.steps = steps;\n",
              "\n",
              "  return _uploadFilesContinue(outputId);\n",
              "}\n",
              "\n",
              "// This is roughly an async generator (not supported in the browser yet),\n",
              "// where there are multiple asynchronous steps and the Python side is going\n",
              "// to poll for completion of each step.\n",
              "// This uses a Promise to block the python side on completion of each step,\n",
              "// then passes the result of the previous step as the input to the next step.\n",
              "function _uploadFilesContinue(outputId) {\n",
              "  const outputElement = document.getElementById(outputId);\n",
              "  const steps = outputElement.steps;\n",
              "\n",
              "  const next = steps.next(outputElement.lastPromiseValue);\n",
              "  return Promise.resolve(next.value.promise).then((value) => {\n",
              "    // Cache the last promise value to make it available to the next\n",
              "    // step of the generator.\n",
              "    outputElement.lastPromiseValue = value;\n",
              "    return next.value.response;\n",
              "  });\n",
              "}\n",
              "\n",
              "/**\n",
              " * Generator function which is called between each async step of the upload\n",
              " * process.\n",
              " * @param {string} inputId Element ID of the input file picker element.\n",
              " * @param {string} outputId Element ID of the output display.\n",
              " * @return {!Iterable<!Object>} Iterable of next steps.\n",
              " */\n",
              "function* uploadFilesStep(inputId, outputId) {\n",
              "  const inputElement = document.getElementById(inputId);\n",
              "  inputElement.disabled = false;\n",
              "\n",
              "  const outputElement = document.getElementById(outputId);\n",
              "  outputElement.innerHTML = '';\n",
              "\n",
              "  const pickedPromise = new Promise((resolve) => {\n",
              "    inputElement.addEventListener('change', (e) => {\n",
              "      resolve(e.target.files);\n",
              "    });\n",
              "  });\n",
              "\n",
              "  const cancel = document.createElement('button');\n",
              "  inputElement.parentElement.appendChild(cancel);\n",
              "  cancel.textContent = 'Cancel upload';\n",
              "  const cancelPromise = new Promise((resolve) => {\n",
              "    cancel.onclick = () => {\n",
              "      resolve(null);\n",
              "    };\n",
              "  });\n",
              "\n",
              "  // Wait for the user to pick the files.\n",
              "  const files = yield {\n",
              "    promise: Promise.race([pickedPromise, cancelPromise]),\n",
              "    response: {\n",
              "      action: 'starting',\n",
              "    }\n",
              "  };\n",
              "\n",
              "  cancel.remove();\n",
              "\n",
              "  // Disable the input element since further picks are not allowed.\n",
              "  inputElement.disabled = true;\n",
              "\n",
              "  if (!files) {\n",
              "    return {\n",
              "      response: {\n",
              "        action: 'complete',\n",
              "      }\n",
              "    };\n",
              "  }\n",
              "\n",
              "  for (const file of files) {\n",
              "    const li = document.createElement('li');\n",
              "    li.append(span(file.name, {fontWeight: 'bold'}));\n",
              "    li.append(span(\n",
              "        `(${file.type || 'n/a'}) - ${file.size} bytes, ` +\n",
              "        `last modified: ${\n",
              "            file.lastModifiedDate ? file.lastModifiedDate.toLocaleDateString() :\n",
              "                                    'n/a'} - `));\n",
              "    const percent = span('0% done');\n",
              "    li.appendChild(percent);\n",
              "\n",
              "    outputElement.appendChild(li);\n",
              "\n",
              "    const fileDataPromise = new Promise((resolve) => {\n",
              "      const reader = new FileReader();\n",
              "      reader.onload = (e) => {\n",
              "        resolve(e.target.result);\n",
              "      };\n",
              "      reader.readAsArrayBuffer(file);\n",
              "    });\n",
              "    // Wait for the data to be ready.\n",
              "    let fileData = yield {\n",
              "      promise: fileDataPromise,\n",
              "      response: {\n",
              "        action: 'continue',\n",
              "      }\n",
              "    };\n",
              "\n",
              "    // Use a chunked sending to avoid message size limits. See b/62115660.\n",
              "    let position = 0;\n",
              "    do {\n",
              "      const length = Math.min(fileData.byteLength - position, MAX_PAYLOAD_SIZE);\n",
              "      const chunk = new Uint8Array(fileData, position, length);\n",
              "      position += length;\n",
              "\n",
              "      const base64 = btoa(String.fromCharCode.apply(null, chunk));\n",
              "      yield {\n",
              "        response: {\n",
              "          action: 'append',\n",
              "          file: file.name,\n",
              "          data: base64,\n",
              "        },\n",
              "      };\n",
              "\n",
              "      let percentDone = fileData.byteLength === 0 ?\n",
              "          100 :\n",
              "          Math.round((position / fileData.byteLength) * 100);\n",
              "      percent.textContent = `${percentDone}% done`;\n",
              "\n",
              "    } while (position < fileData.byteLength);\n",
              "  }\n",
              "\n",
              "  // All done.\n",
              "  yield {\n",
              "    response: {\n",
              "      action: 'complete',\n",
              "    }\n",
              "  };\n",
              "}\n",
              "\n",
              "scope.google = scope.google || {};\n",
              "scope.google.colab = scope.google.colab || {};\n",
              "scope.google.colab._files = {\n",
              "  _uploadFiles,\n",
              "  _uploadFilesContinue,\n",
              "};\n",
              "})(self);\n",
              "</script> "
            ]
          },
          "metadata": {}
        },
        {
          "output_type": "stream",
          "name": "stdout",
          "text": [
            "Saving twit_fulltext.xlsx to twit_fulltext.xlsx\n"
          ]
        }
      ]
    },
    {
      "cell_type": "code",
      "source": [
        "#Membaca file yang telah diupload\n",
        "import pandas as pd\n",
        "df = pd.read_excel('twit_fulltext.xlsx')\n",
        "\n",
        "first_10_rows = df.head(10)\n",
        "print(first_10_rows)"
      ],
      "metadata": {
        "colab": {
          "base_uri": "https://localhost:8080/"
        },
        "id": "I8QbH4KJp-_Z",
        "outputId": "facd9bfa-1a5b-4527-ea6c-67ecce725558"
      },
      "execution_count": 3,
      "outputs": [
        {
          "output_type": "stream",
          "name": "stdout",
          "text": [
            "                                           full_text\n",
            "0  OK CLOSE DULU YAðŸ«¶ NANTI BUKA LAGI KL BASENY...\n",
            "1  OPEN FOLLBACK ITS_FESS COME BACKâ³  1. RT TWE...\n",
            "2                      its/ BASE LAGI OFF YAAAAA????\n",
            "3  ada yg udah sering banget berkecimpung sama it...\n",
            "4          its/ info perpanjangan kuesioner ipd ðŸ™\n",
            "5              Its/ Untuk angkatanku yang mau magang\n",
            "6  Its/ saran taman deket its buat baca buku atau...\n",
            "7                                 Its/ gabut ga seee\n",
            "8  Its/ nyebelin banget lagi buka multitab buat n...\n",
            "9  its/ rek saran dong kalo di sby enaknya ajak b...\n"
          ]
        }
      ]
    },
    {
      "cell_type": "markdown",
      "source": [
        "**Convert to lowercase**"
      ],
      "metadata": {
        "id": "CtPTHsysrwcT"
      }
    },
    {
      "cell_type": "code",
      "source": [
        "# Mengubah semua text menjadi lowercase\n",
        "df['full_text'] = df['full_text'].str.lower()\n",
        "\n",
        "first_10_rows = df.head(10)\n",
        "print(first_10_rows)"
      ],
      "metadata": {
        "id": "Ge19vsPprv8R",
        "colab": {
          "base_uri": "https://localhost:8080/"
        },
        "outputId": "d24bdaf4-266d-4b3d-b30f-54159a625a00"
      },
      "execution_count": 4,
      "outputs": [
        {
          "output_type": "stream",
          "name": "stdout",
          "text": [
            "                                           full_text\n",
            "0  ok close dulu yaðÿ«¶ nanti buka lagi kl baseny...\n",
            "1  open follback its_fess come backâ³  1. rt twe...\n",
            "2                      its/ base lagi off yaaaaa????\n",
            "3  ada yg udah sering banget berkecimpung sama it...\n",
            "4          its/ info perpanjangan kuesioner ipd ðÿ™\n",
            "5              its/ untuk angkatanku yang mau magang\n",
            "6  its/ saran taman deket its buat baca buku atau...\n",
            "7                                 its/ gabut ga seee\n",
            "8  its/ nyebelin banget lagi buka multitab buat n...\n",
            "9  its/ rek saran dong kalo di sby enaknya ajak b...\n"
          ]
        }
      ]
    },
    {
      "cell_type": "markdown",
      "source": [
        "**Clear URL**"
      ],
      "metadata": {
        "id": "p48gpjCqQmls"
      }
    },
    {
      "cell_type": "code",
      "source": [
        "import re\n",
        "\n",
        "# Mendefinisikan Regex untuk mengidentifikasi pattern URL\n",
        "pattern = r'http[s]?://(?:[a-zA-Z]|[0-9]|[$-_@.&+]|[!*\\\\(\\\\),]|(?:%[0-9a-fA-F][0-9a-fA-F]))+'\n",
        "\n",
        "# Function untuk menghilangkan URL\n",
        "def remove_urls(text):\n",
        "    return re.sub(pattern, '', text)\n",
        "\n",
        "# Menggunakan function pada kolom 'full_text'\n",
        "column_name = 'full_text'\n",
        "df[column_name] = df[column_name].apply(remove_urls)\n"
      ],
      "metadata": {
        "id": "S7Bo3d3RQlRL"
      },
      "execution_count": null,
      "outputs": []
    },
    {
      "cell_type": "markdown",
      "source": [
        "**Clear its/**"
      ],
      "metadata": {
        "id": "uh-SLVvQsA8C"
      }
    },
    {
      "cell_type": "code",
      "source": [
        "#Menghilangkan \"its/\" pada awalan text\n",
        "df['full_text'] = df['full_text'].str.replace('its/', '')\n",
        "\n",
        "#Test\n",
        "first_10_rows = df.head(10)\n",
        "print(first_10_rows)"
      ],
      "metadata": {
        "id": "HgvasqlQsAIF",
        "colab": {
          "base_uri": "https://localhost:8080/"
        },
        "outputId": "e48f3e2b-26dd-4a30-9049-a73ab8957c8a"
      },
      "execution_count": 6,
      "outputs": [
        {
          "output_type": "stream",
          "name": "stdout",
          "text": [
            "                                           full_text\n",
            "0  ok close dulu yaðÿ«¶ nanti buka lagi kl baseny...\n",
            "1  open follback its_fess come backâ³  1. rt twe...\n",
            "2                           base lagi off yaaaaa????\n",
            "3  ada yg udah sering banget berkecimpung sama  f...\n",
            "4               info perpanjangan kuesioner ipd ðÿ™\n",
            "5                   untuk angkatanku yang mau magang\n",
            "6   saran taman deket its buat baca buku atau beb...\n",
            "7                                      gabut ga seee\n",
            "8   nyebelin banget lagi buka multitab buat ngisi...\n",
            "9   rek saran dong kalo di sby enaknya ajak bapak...\n"
          ]
        }
      ]
    },
    {
      "cell_type": "markdown",
      "source": [
        "**Make sure all word in alphabet**"
      ],
      "metadata": {
        "id": "GGf5r0nOsPkT"
      }
    },
    {
      "cell_type": "code",
      "source": [
        "import re\n",
        "import pandas as pd\n",
        "\n",
        "# Pola regex untuk identifikasi karakter non-alphabet\n",
        "pattern = r'[^a-zA-Z\\s]+'\n",
        "\n",
        "# Function untuk menghapus karakter non-alphabet\n",
        "def remove_non_alphabet(text):\n",
        "    return re.sub(pattern, '', text)\n",
        "\n",
        "# Mengubah value text menjadi string\n",
        "df['full_text'] = df['full_text'].apply(lambda x: str(x) if not isinstance(x, str) else x)\n",
        "\n",
        "# Menggunakan function pada kolom 'full_text'\n",
        "df['full_text'] = df['full_text'].apply(remove_non_alphabet)\n",
        "\n",
        "#Test\n",
        "first_10_rows = df.head(10)\n",
        "print(first_10_rows)"
      ],
      "metadata": {
        "id": "irF1yVUYsRs-",
        "colab": {
          "base_uri": "https://localhost:8080/"
        },
        "outputId": "aa034820-1adf-4536-8098-02deea9dc572"
      },
      "execution_count": 9,
      "outputs": [
        {
          "output_type": "stream",
          "name": "stdout",
          "text": [
            "                                           full_text\n",
            "0  ok close dulu ya nanti buka lagi kl basenya ud...\n",
            "1  open follback itsfess come back   rt tweet ini...\n",
            "2                               base lagi off yaaaaa\n",
            "3  ada yg udah sering banget berkecimpung sama  f...\n",
            "4                   info perpanjangan kuesioner ipd \n",
            "5                   untuk angkatanku yang mau magang\n",
            "6   saran taman deket its buat baca buku atau beb...\n",
            "7                                      gabut ga seee\n",
            "8   nyebelin banget lagi buka multitab buat ngisi...\n",
            "9   rek saran dong kalo di sby enaknya ajak bapak...\n"
          ]
        }
      ]
    },
    {
      "cell_type": "markdown",
      "source": [
        "**Remove Punctuation**"
      ],
      "metadata": {
        "id": "dedkHjINBj4N"
      }
    },
    {
      "cell_type": "code",
      "source": [
        "import string\n",
        "\n",
        "# Regex function untuk menghilangkan tanda baca\n",
        "def remove_punctuation(text):\n",
        "    return text.translate(str.maketrans('', '', string.punctuation))\n",
        "\n",
        "# Menggunakan function pada kolom 'full_text'\n",
        "df['full_text'] = df['full_text'].apply(remove_punctuation)\n",
        "\n",
        "#Test\n",
        "first_10_rows = df.head(10)\n",
        "print(first_10_rows)\n"
      ],
      "metadata": {
        "id": "upAuRLDCBluX",
        "colab": {
          "base_uri": "https://localhost:8080/"
        },
        "outputId": "f92e4023-fce9-446a-b1cd-6afa223f981e"
      },
      "execution_count": 12,
      "outputs": [
        {
          "output_type": "stream",
          "name": "stdout",
          "text": [
            "                                           full_text\n",
            "0  ok close dulu ya nanti buka lagi kl basenya ud...\n",
            "1  open follback itsfess come back   rt tweet ini...\n",
            "2                               base lagi off yaaaaa\n",
            "3  ada yg udah sering banget berkecimpung sama  f...\n",
            "4                   info perpanjangan kuesioner ipd \n",
            "5                   untuk angkatanku yang mau magang\n",
            "6   saran taman deket its buat baca buku atau beb...\n",
            "7                                      gabut ga seee\n",
            "8   nyebelin banget lagi buka multitab buat ngisi...\n",
            "9   rek saran dong kalo di sby enaknya ajak bapak...\n"
          ]
        }
      ]
    },
    {
      "cell_type": "markdown",
      "source": [
        "**Remove Leading Space & Extra Whitespace**"
      ],
      "metadata": {
        "id": "0lHZEuM2A2j4"
      }
    },
    {
      "cell_type": "code",
      "source": [
        "# Menghilangkan leading space\n",
        "df['full_text'] = df['full_text'].str.lstrip()\n",
        "\n",
        "# Function untuk menghilangkan extra whitespace pada text\n",
        "def remove_extra_spaces(text):\n",
        "    return re.sub(r'\\s+', ' ', text).strip()\n",
        "\n",
        "# Apply the function to the specified column.\n",
        "df['full_text'] = df['full_text'].apply(remove_extra_spaces)\n",
        "\n",
        "# Test\n",
        "first_10_rows = df.head(10)\n",
        "print(first_10_rows)"
      ],
      "metadata": {
        "id": "E6aZe_XIA2Nk",
        "colab": {
          "base_uri": "https://localhost:8080/"
        },
        "outputId": "23b5883e-8f19-4488-ef03-d26cb6219892"
      },
      "execution_count": 13,
      "outputs": [
        {
          "output_type": "stream",
          "name": "stdout",
          "text": [
            "                                           full_text\n",
            "0  ok close dulu ya nanti buka lagi kl basenya ud...\n",
            "1  open follback itsfess come back rt tweet ini r...\n",
            "2                               base lagi off yaaaaa\n",
            "3  ada yg udah sering banget berkecimpung sama fo...\n",
            "4                    info perpanjangan kuesioner ipd\n",
            "5                   untuk angkatanku yang mau magang\n",
            "6  saran taman deket its buat baca buku atau beba...\n",
            "7                                      gabut ga seee\n",
            "8  nyebelin banget lagi buka multitab buat ngisi ...\n",
            "9  rek saran dong kalo di sby enaknya ajak bapak ...\n"
          ]
        }
      ]
    },
    {
      "cell_type": "markdown",
      "source": [
        "**Remove 1 word item**"
      ],
      "metadata": {
        "id": "-6sXRjrmh5Un"
      }
    },
    {
      "cell_type": "code",
      "source": [
        "# Function untuk menghilangkan kalimat yang hanya terdiri dari 1 kata\n",
        "def remove_single_word(text):\n",
        "    sentences = text.split('.')\n",
        "    filtered_sentences = [sentence.strip() for sentence in sentences if len(sentence.split()) > 1]\n",
        "    return '. '.join(filtered_sentences)\n",
        "\n",
        "# Apply the function to the specified column.\n",
        "df['full_text'] = df['full_text'].apply(remove_single_word)\n",
        "\n",
        "# Test\n",
        "first_10_rows = df.head(10)\n",
        "print(first_10_rows)"
      ],
      "metadata": {
        "colab": {
          "base_uri": "https://localhost:8080/"
        },
        "id": "Nq0PFeaUh9Zg",
        "outputId": "bb31da3f-919b-4526-e68a-5812ade94ba5"
      },
      "execution_count": 16,
      "outputs": [
        {
          "output_type": "stream",
          "name": "stdout",
          "text": [
            "                                           full_text\n",
            "0  ok close dulu ya nanti buka lagi kl basenya ud...\n",
            "1  open follback itsfess come back rt tweet ini r...\n",
            "2                               base lagi off yaaaaa\n",
            "3  ada yg udah sering banget berkecimpung sama fo...\n",
            "4                    info perpanjangan kuesioner ipd\n",
            "5                   untuk angkatanku yang mau magang\n",
            "6  saran taman deket its buat baca buku atau beba...\n",
            "7                                      gabut ga seee\n",
            "8  nyebelin banget lagi buka multitab buat ngisi ...\n",
            "9  rek saran dong kalo di sby enaknya ajak bapak ...\n"
          ]
        }
      ]
    },
    {
      "cell_type": "markdown",
      "source": [
        "**Remove additional stopword**"
      ],
      "metadata": {
        "id": "6T9H1idCCCai"
      }
    },
    {
      "cell_type": "code",
      "source": [
        "#Function untuk menghilangkan additional stopwords\n",
        "def remove_additional_stopwords(text):\n",
        "    # Additional stopwords yang akan dihilangkan\n",
        "    words_to_remove = [\"arek\", \"rek\", \"mas\", \"mba\", \"mbak\", \"rt\", \"ga\", \"g\", \"ada\", \"yg\", \"yang\", \"dong\", \"sby\", \"surabaya\", \"titipan\", \"cowo\", \"cewe\", \"ya\", \"y\", \"km\", \"rekk\", \"apa\", \"gasi\"]\n",
        "\n",
        "    # Regex pattern untuk menyesuaikan kalimat\n",
        "    pattern = r'\\b(?:' + '|'.join(words_to_remove) + r')\\b'\n",
        "    return re.sub(pattern, '', text)\n",
        "\n",
        "# Apply the function to the specified column.\n",
        "df['full_text'] = df['full_text'].apply(remove_additional_stopwords)"
      ],
      "metadata": {
        "id": "ac8FixqGCOcN"
      },
      "execution_count": 17,
      "outputs": []
    },
    {
      "cell_type": "markdown",
      "source": [
        "**Remove Stopword & Tokenizing**"
      ],
      "metadata": {
        "id": "J7sKwnTcBOq4"
      }
    },
    {
      "cell_type": "code",
      "source": [
        "import nltk\n",
        "\n",
        "nltk.download('punkt')\n",
        "nltk.download('wordnet')\n",
        "nltk.download('omw-1.4')\n",
        "\n",
        "import pandas as pd\n",
        "from nltk.corpus import stopwords\n",
        "\n",
        "nltk.download('stopwords')\n",
        "\n",
        "def tokenize_and_remove_stopwords(text):\n",
        "    tokens = nltk.word_tokenize(text)\n",
        "    stop_words = set(stopwords.words('indonesian'))\n",
        "    filtered_tokens = [word for word in tokens if word not in stop_words]\n",
        "    return filtered_tokens\n",
        "\n",
        "tokenized_text = 'full_text'\n",
        "# Apply the function to the 'full_text' column\n",
        "df['tokenized_text'] = df['full_text'].apply(tokenize_and_remove_stopwords)\n",
        "\n",
        "print(df[['full_text', 'tokenized_text']])"
      ],
      "metadata": {
        "colab": {
          "base_uri": "https://localhost:8080/"
        },
        "id": "cBiEa8xw2j9S",
        "outputId": "eb77213d-1938-4fac-94c0-bb7a8c211db2"
      },
      "execution_count": null,
      "outputs": [
        {
          "output_type": "stream",
          "name": "stderr",
          "text": [
            "[nltk_data] Downloading package punkt to /root/nltk_data...\n",
            "[nltk_data]   Unzipping tokenizers/punkt.zip.\n",
            "[nltk_data] Downloading package wordnet to /root/nltk_data...\n",
            "[nltk_data] Downloading package omw-1.4 to /root/nltk_data...\n",
            "[nltk_data] Downloading package stopwords to /root/nltk_data...\n",
            "[nltk_data]   Unzipping corpora/stopwords.zip.\n"
          ]
        },
        {
          "output_type": "stream",
          "name": "stdout",
          "text": [
            "                                              full_text  \\\n",
            "0     ok close dulu  nanti buka lagi kl basenya udah...   \n",
            "1     open follback itsfess come back  tweet ini rep...   \n",
            "2                                  base lagi off yaaaaa   \n",
            "3       udah sering banget berkecimpung sama food ka...   \n",
            "4                       info perpanjangan kuesioner ipd   \n",
            "...                                                 ...   \n",
            "4952                                                      \n",
            "4953                                                      \n",
            "4954      jadi liburan kalian pada ngapain aku sih turu   \n",
            "4955                                    gais mau nanya    \n",
            "4956                                        sender maba   \n",
            "\n",
            "                                         tokenized_text  \n",
            "0           [ok, close, buka, kl, basenya, udah, aktif]  \n",
            "1     [open, follback, itsfess, come, back, tweet, r...  \n",
            "2                                   [base, off, yaaaaa]  \n",
            "3     [udah, banget, berkecimpung, food, kah, tanyat...  \n",
            "4                  [info, perpanjangan, kuesioner, ipd]  \n",
            "...                                                 ...  \n",
            "4952                                                 []  \n",
            "4953                                                 []  \n",
            "4954                      [liburan, ngapain, sih, turu]  \n",
            "4955                                      [gais, nanya]  \n",
            "4956                                     [sender, maba]  \n",
            "\n",
            "[4957 rows x 2 columns]\n"
          ]
        }
      ]
    },
    {
      "cell_type": "markdown",
      "source": [
        "**Remove Null Value in Column**"
      ],
      "metadata": {
        "id": "xYQBtCY_jghg"
      }
    },
    {
      "cell_type": "code",
      "source": [
        "# Variable check null value\n",
        "columns_to_check = ['full_text']\n",
        "\n",
        "# Menghapus baris yang memiliki null value\n",
        "df = df.dropna(subset=columns_to_check)"
      ],
      "metadata": {
        "id": "Vah4k6OIjlaG"
      },
      "execution_count": null,
      "outputs": []
    },
    {
      "cell_type": "markdown",
      "source": [
        "**Export**"
      ],
      "metadata": {
        "id": "rIwKmQs_s1PT"
      }
    },
    {
      "cell_type": "code",
      "source": [
        "# Export hasil cleansing (.csv)\n",
        "output_file = 'twit_cleaned.csv'\n",
        "\n",
        "# Menyimpan dataframe menjadi csv\n",
        "df.to_csv(output_file, index=False)\n",
        "\n",
        "print(f'DataFrame has been saved to {output_file}')"
      ],
      "metadata": {
        "id": "381nliWKs4B-",
        "colab": {
          "base_uri": "https://localhost:8080/"
        },
        "outputId": "5c01bc64-4de8-41aa-b2d7-db1101586f10"
      },
      "execution_count": null,
      "outputs": [
        {
          "output_type": "stream",
          "name": "stdout",
          "text": [
            "DataFrame has been saved to twit_cleaned.csv\n"
          ]
        }
      ]
    },
    {
      "cell_type": "markdown",
      "source": [
        "# Latent Dirichlet Allocation Model"
      ],
      "metadata": {
        "id": "VHzXKwYXBLbv"
      }
    },
    {
      "cell_type": "markdown",
      "source": [
        "**Import File**"
      ],
      "metadata": {
        "id": "zn93Ov8EOFhN"
      }
    },
    {
      "cell_type": "code",
      "source": [
        "#Import file local kedalam Google Colab\n",
        "from google.colab import files\n",
        "uploaded = files.upload()"
      ],
      "metadata": {
        "id": "-zXXR9ppOJUC",
        "colab": {
          "base_uri": "https://localhost:8080/",
          "height": 73
        },
        "outputId": "dfa256c5-ed28-4407-d1bf-26c3041df597"
      },
      "execution_count": null,
      "outputs": [
        {
          "output_type": "display_data",
          "data": {
            "text/plain": [
              "<IPython.core.display.HTML object>"
            ],
            "text/html": [
              "\n",
              "     <input type=\"file\" id=\"files-55601474-648c-4225-9b52-48cbae48bfbb\" name=\"files[]\" multiple disabled\n",
              "        style=\"border:none\" />\n",
              "     <output id=\"result-55601474-648c-4225-9b52-48cbae48bfbb\">\n",
              "      Upload widget is only available when the cell has been executed in the\n",
              "      current browser session. Please rerun this cell to enable.\n",
              "      </output>\n",
              "      <script>// Copyright 2017 Google LLC\n",
              "//\n",
              "// Licensed under the Apache License, Version 2.0 (the \"License\");\n",
              "// you may not use this file except in compliance with the License.\n",
              "// You may obtain a copy of the License at\n",
              "//\n",
              "//      http://www.apache.org/licenses/LICENSE-2.0\n",
              "//\n",
              "// Unless required by applicable law or agreed to in writing, software\n",
              "// distributed under the License is distributed on an \"AS IS\" BASIS,\n",
              "// WITHOUT WARRANTIES OR CONDITIONS OF ANY KIND, either express or implied.\n",
              "// See the License for the specific language governing permissions and\n",
              "// limitations under the License.\n",
              "\n",
              "/**\n",
              " * @fileoverview Helpers for google.colab Python module.\n",
              " */\n",
              "(function(scope) {\n",
              "function span(text, styleAttributes = {}) {\n",
              "  const element = document.createElement('span');\n",
              "  element.textContent = text;\n",
              "  for (const key of Object.keys(styleAttributes)) {\n",
              "    element.style[key] = styleAttributes[key];\n",
              "  }\n",
              "  return element;\n",
              "}\n",
              "\n",
              "// Max number of bytes which will be uploaded at a time.\n",
              "const MAX_PAYLOAD_SIZE = 100 * 1024;\n",
              "\n",
              "function _uploadFiles(inputId, outputId) {\n",
              "  const steps = uploadFilesStep(inputId, outputId);\n",
              "  const outputElement = document.getElementById(outputId);\n",
              "  // Cache steps on the outputElement to make it available for the next call\n",
              "  // to uploadFilesContinue from Python.\n",
              "  outputElement.steps = steps;\n",
              "\n",
              "  return _uploadFilesContinue(outputId);\n",
              "}\n",
              "\n",
              "// This is roughly an async generator (not supported in the browser yet),\n",
              "// where there are multiple asynchronous steps and the Python side is going\n",
              "// to poll for completion of each step.\n",
              "// This uses a Promise to block the python side on completion of each step,\n",
              "// then passes the result of the previous step as the input to the next step.\n",
              "function _uploadFilesContinue(outputId) {\n",
              "  const outputElement = document.getElementById(outputId);\n",
              "  const steps = outputElement.steps;\n",
              "\n",
              "  const next = steps.next(outputElement.lastPromiseValue);\n",
              "  return Promise.resolve(next.value.promise).then((value) => {\n",
              "    // Cache the last promise value to make it available to the next\n",
              "    // step of the generator.\n",
              "    outputElement.lastPromiseValue = value;\n",
              "    return next.value.response;\n",
              "  });\n",
              "}\n",
              "\n",
              "/**\n",
              " * Generator function which is called between each async step of the upload\n",
              " * process.\n",
              " * @param {string} inputId Element ID of the input file picker element.\n",
              " * @param {string} outputId Element ID of the output display.\n",
              " * @return {!Iterable<!Object>} Iterable of next steps.\n",
              " */\n",
              "function* uploadFilesStep(inputId, outputId) {\n",
              "  const inputElement = document.getElementById(inputId);\n",
              "  inputElement.disabled = false;\n",
              "\n",
              "  const outputElement = document.getElementById(outputId);\n",
              "  outputElement.innerHTML = '';\n",
              "\n",
              "  const pickedPromise = new Promise((resolve) => {\n",
              "    inputElement.addEventListener('change', (e) => {\n",
              "      resolve(e.target.files);\n",
              "    });\n",
              "  });\n",
              "\n",
              "  const cancel = document.createElement('button');\n",
              "  inputElement.parentElement.appendChild(cancel);\n",
              "  cancel.textContent = 'Cancel upload';\n",
              "  const cancelPromise = new Promise((resolve) => {\n",
              "    cancel.onclick = () => {\n",
              "      resolve(null);\n",
              "    };\n",
              "  });\n",
              "\n",
              "  // Wait for the user to pick the files.\n",
              "  const files = yield {\n",
              "    promise: Promise.race([pickedPromise, cancelPromise]),\n",
              "    response: {\n",
              "      action: 'starting',\n",
              "    }\n",
              "  };\n",
              "\n",
              "  cancel.remove();\n",
              "\n",
              "  // Disable the input element since further picks are not allowed.\n",
              "  inputElement.disabled = true;\n",
              "\n",
              "  if (!files) {\n",
              "    return {\n",
              "      response: {\n",
              "        action: 'complete',\n",
              "      }\n",
              "    };\n",
              "  }\n",
              "\n",
              "  for (const file of files) {\n",
              "    const li = document.createElement('li');\n",
              "    li.append(span(file.name, {fontWeight: 'bold'}));\n",
              "    li.append(span(\n",
              "        `(${file.type || 'n/a'}) - ${file.size} bytes, ` +\n",
              "        `last modified: ${\n",
              "            file.lastModifiedDate ? file.lastModifiedDate.toLocaleDateString() :\n",
              "                                    'n/a'} - `));\n",
              "    const percent = span('0% done');\n",
              "    li.appendChild(percent);\n",
              "\n",
              "    outputElement.appendChild(li);\n",
              "\n",
              "    const fileDataPromise = new Promise((resolve) => {\n",
              "      const reader = new FileReader();\n",
              "      reader.onload = (e) => {\n",
              "        resolve(e.target.result);\n",
              "      };\n",
              "      reader.readAsArrayBuffer(file);\n",
              "    });\n",
              "    // Wait for the data to be ready.\n",
              "    let fileData = yield {\n",
              "      promise: fileDataPromise,\n",
              "      response: {\n",
              "        action: 'continue',\n",
              "      }\n",
              "    };\n",
              "\n",
              "    // Use a chunked sending to avoid message size limits. See b/62115660.\n",
              "    let position = 0;\n",
              "    do {\n",
              "      const length = Math.min(fileData.byteLength - position, MAX_PAYLOAD_SIZE);\n",
              "      const chunk = new Uint8Array(fileData, position, length);\n",
              "      position += length;\n",
              "\n",
              "      const base64 = btoa(String.fromCharCode.apply(null, chunk));\n",
              "      yield {\n",
              "        response: {\n",
              "          action: 'append',\n",
              "          file: file.name,\n",
              "          data: base64,\n",
              "        },\n",
              "      };\n",
              "\n",
              "      let percentDone = fileData.byteLength === 0 ?\n",
              "          100 :\n",
              "          Math.round((position / fileData.byteLength) * 100);\n",
              "      percent.textContent = `${percentDone}% done`;\n",
              "\n",
              "    } while (position < fileData.byteLength);\n",
              "  }\n",
              "\n",
              "  // All done.\n",
              "  yield {\n",
              "    response: {\n",
              "      action: 'complete',\n",
              "    }\n",
              "  };\n",
              "}\n",
              "\n",
              "scope.google = scope.google || {};\n",
              "scope.google.colab = scope.google.colab || {};\n",
              "scope.google.colab._files = {\n",
              "  _uploadFiles,\n",
              "  _uploadFilesContinue,\n",
              "};\n",
              "})(self);\n",
              "</script> "
            ]
          },
          "metadata": {}
        },
        {
          "output_type": "stream",
          "name": "stdout",
          "text": [
            "Saving twit_cleaned.csv to twit_cleaned (1).csv\n"
          ]
        }
      ]
    },
    {
      "cell_type": "code",
      "source": [
        "#Membaca file csv\n",
        "import pandas as pd\n",
        "df = pd.read_csv('twit_cleaned.csv')\n",
        "\n",
        "text = df['full_text']\n",
        "\n",
        "# Memastikan tidak ada value yang hilang\n",
        "df['full_text'] = df['full_text'].fillna('')\n",
        "\n",
        "# Mengubah teks menjadi list\n",
        "text_list = [text.split() for text in df['full_text']]\n",
        "\n",
        "\n",
        "first_10_rows = df.head(10)\n",
        "print(first_10_rows)"
      ],
      "metadata": {
        "id": "KEU3CK-DONLK",
        "colab": {
          "base_uri": "https://localhost:8080/"
        },
        "outputId": "245713b4-3a00-487e-ed1b-80601edee5c4"
      },
      "execution_count": null,
      "outputs": [
        {
          "output_type": "stream",
          "name": "stdout",
          "text": [
            "                                           full_text  \\\n",
            "0  ok close dulu  nanti buka lagi kl basenya udah...   \n",
            "1  open follback itsfess come back  tweet ini rep...   \n",
            "2                               base lagi off yaaaaa   \n",
            "3    udah sering banget berkecimpung sama food ka...   \n",
            "4                    info perpanjangan kuesioner ipd   \n",
            "5                       untuk angkatanku  mau magang   \n",
            "6  saran taman deket its buat baca buku atau beba...   \n",
            "7                                        gabut  seee   \n",
            "8  nyebelin banget lagi buka multitab buat ngisi ...   \n",
            "9   saran  kalo di  enaknya ajak bapak jalan ke m...   \n",
            "\n",
            "                                      tokenized_text  \n",
            "0  ['ok', 'close', 'buka', 'kl', 'basenya', 'udah...  \n",
            "1  ['open', 'follback', 'itsfess', 'come', 'back'...  \n",
            "2                          ['base', 'off', 'yaaaaa']  \n",
            "3  ['udah', 'banget', 'berkecimpung', 'food', 'ka...  \n",
            "4       ['info', 'perpanjangan', 'kuesioner', 'ipd']  \n",
            "5                           ['angkatanku', 'magang']  \n",
            "6  ['saran', 'taman', 'deket', 'its', 'baca', 'bu...  \n",
            "7                                  ['gabut', 'seee']  \n",
            "8  ['nyebelin', 'banget', 'buka', 'multitab', 'ng...  \n",
            "9  ['saran', 'kalo', 'enaknya', 'ajak', 'jalan', ...  \n"
          ]
        }
      ]
    },
    {
      "cell_type": "markdown",
      "source": [
        "**Creating Bigram & Trigram Model**"
      ],
      "metadata": {
        "id": "L2Y20ryGOSfv"
      }
    },
    {
      "cell_type": "code",
      "source": [
        "import gensim\n",
        "\n",
        "# Membuat model bigram & trigram\n",
        "from gensim.models import Phrases\n",
        "\n",
        "# Menambahkan bigram dan trigram yang muncul <=10 ke dalam document\n",
        "bigram = Phrases(text_list, min_count=10)\n",
        "trigram = Phrases(bigram[text_list])\n",
        "for idx in range(len(text_list)):\n",
        "    # Memeriksa bigram dan trigram yang ditandai dengan identifier \"_\"\n",
        "    for token in bigram[text_list[idx]]:\n",
        "        if '_' in token:\n",
        "            text_list[idx].append(token)\n",
        "    for token in trigram[text_list[idx]]:\n",
        "        if '_' in token:\n",
        "            text_list[idx].append(token)"
      ],
      "metadata": {
        "id": "sD8Ibxt_OWT8"
      },
      "execution_count": null,
      "outputs": []
    },
    {
      "cell_type": "markdown",
      "source": [
        "**Create Dictionary**"
      ],
      "metadata": {
        "id": "Jo3PIAouOdKi"
      }
    },
    {
      "cell_type": "code",
      "source": [
        "from gensim import corpora, models\n",
        "\n",
        "# Membuat\n",
        "dictionary = corpora.Dictionary(text_list)\n",
        "dictionary.filter_extremes(no_below=5, no_above=0.2)\n",
        "\n",
        "#no_below (int, optional) – Menyimpan token yang muncul sebanyak <=\"no_below\" dalam document.\n",
        "#no_above (float, optional) – Menyimpan token yang muncul sebanyak >=\"no_above\" dalam document. (nilai pecahan dari ukuran total corpus, bukan angka absolut).\n",
        "print(dictionary)"
      ],
      "metadata": {
        "id": "_9nloAuuOgnE",
        "colab": {
          "base_uri": "https://localhost:8080/"
        },
        "outputId": "15ae49fd-4cff-420a-e887-c3bdc072651d"
      },
      "execution_count": null,
      "outputs": [
        {
          "output_type": "stream",
          "name": "stdout",
          "text": [
            "Dictionary<1426 unique tokens: ['buka', 'dulu', 'kl', 'lagi', 'nanti']...>\n"
          ]
        }
      ]
    },
    {
      "cell_type": "markdown",
      "source": [
        "**Create Corpus**"
      ],
      "metadata": {
        "id": "K1fSxlN9Ol_W"
      }
    },
    {
      "cell_type": "code",
      "source": [
        "#https://radimrehurek.com/gensim/tut1.html\n",
        "# Build corpus\n",
        "# Converting list of documents (corpus) into Document Term Matrix using dictionary prepared above.\n",
        "doc_term_matrix = [dictionary.doc2bow(doc) for doc in text_list]\n",
        "\n",
        "# The function doc2bow converts document (a list of words) into the bag-of-words format\n",
        "'''The function doc2bow() simply counts the number of occurrences of each distinct word,\n",
        "converts the word to its integer word id and returns the result as a sparse vector.\n",
        "The sparse vector [(0, 1), (1, 1)] therefore reads: in the document “Human computer interaction”,\n",
        "the words computer (id 0) and human (id 1) appear once;\n",
        "the other ten dictionary words appear (implicitly) zero times.'''\n",
        "\n",
        "print(len(doc_term_matrix))\n",
        "print(doc_term_matrix[100])\n",
        "tfidf = models.TfidfModel(doc_term_matrix) #build TF-IDF model\n",
        "corpus_tfidf = tfidf[doc_term_matrix]"
      ],
      "metadata": {
        "id": "WfDwof78OuoS",
        "colab": {
          "base_uri": "https://localhost:8080/"
        },
        "outputId": "0257b7bd-b889-4450-bd4b-2ff24e10d52a"
      },
      "execution_count": null,
      "outputs": [
        {
          "output_type": "stream",
          "name": "stdout",
          "text": [
            "4957\n",
            "[(28, 1), (69, 1), (81, 1), (377, 1), (429, 1), (430, 2)]\n"
          ]
        }
      ]
    },
    {
      "cell_type": "markdown",
      "source": [
        "**Coherence Analysis**"
      ],
      "metadata": {
        "id": "VvZBLxvYO0Sv"
      }
    },
    {
      "cell_type": "code",
      "source": [
        "from gensim.models.coherencemodel import CoherenceModel\n",
        "from gensim.models.ldamodel import LdaModel\n",
        "from gensim.corpora.dictionary import Dictionary\n",
        "from numpy import array\n",
        "\n",
        "# Function untuk menghitung coherence value\n",
        "def compute_coherence_values(dictionary, corpus, texts, limit, start, step):\n",
        "    coherence_values = []\n",
        "    model_list = []\n",
        "    for num_topics in range(start, limit, step):\n",
        "        model = LdaModel(corpus=corpus, id2word=dictionary, num_topics=num_topics, iterations=100)\n",
        "        model_list.append(model)\n",
        "        coherencemodel = CoherenceModel(model=model, texts=texts, dictionary=dictionary, coherence='c_v')\n",
        "        coherence_values.append(coherencemodel.get_coherence())\n",
        "\n",
        "    return model_list, coherence_values\n",
        "\n",
        "start=1\n",
        "limit=21\n",
        "step=1\n",
        "model_list, coherence_values = compute_coherence_values(dictionary, corpus=corpus_tfidf,\n",
        "                                                        texts=text_list, start=start, limit=limit, step=step)\n",
        "# Visualisasi data\n",
        "import matplotlib.pyplot as plt\n",
        "x = range(start, limit, step)\n",
        "plt.plot(x, coherence_values)\n",
        "plt.xlabel(\"Num Topics\")\n",
        "plt.ylabel(\"Coherence score\")\n",
        "plt.legend((\"coherence_values\"), loc='best')\n",
        "plt.show()\n",
        "\n",
        "# Print coherence value\n",
        "for m, cv in zip(x, coherence_values):\n",
        "    print(\"Num Topics =\", m, \" has Coherence Value of\", round(cv, 6))"
      ],
      "metadata": {
        "id": "Hg17r_YFO4nv",
        "colab": {
          "base_uri": "https://localhost:8080/",
          "height": 1000
        },
        "outputId": "6a22d007-c8e6-4c46-afd6-86e61dac06f3"
      },
      "execution_count": null,
      "outputs": [
        {
          "output_type": "stream",
          "name": "stderr",
          "text": [
            "/usr/local/lib/python3.10/dist-packages/ipykernel/ipkernel.py:283: DeprecationWarning: `should_run_async` will not call `transform_cell` automatically in the future. Please pass the result to `transformed_cell` argument and any exception that happen during thetransform in `preprocessing_exc_tuple` in IPython 7.17 and above.\n",
            "  and should_run_async(code)\n",
            "WARNING:gensim.models.ldamodel:too few updates, training might not converge; consider increasing the number of passes or iterations to improve accuracy\n",
            "WARNING:gensim.models.ldamodel:too few updates, training might not converge; consider increasing the number of passes or iterations to improve accuracy\n",
            "WARNING:gensim.models.ldamodel:too few updates, training might not converge; consider increasing the number of passes or iterations to improve accuracy\n",
            "WARNING:gensim.models.ldamodel:too few updates, training might not converge; consider increasing the number of passes or iterations to improve accuracy\n",
            "WARNING:gensim.models.ldamodel:too few updates, training might not converge; consider increasing the number of passes or iterations to improve accuracy\n",
            "WARNING:gensim.models.ldamodel:too few updates, training might not converge; consider increasing the number of passes or iterations to improve accuracy\n",
            "WARNING:gensim.models.ldamodel:too few updates, training might not converge; consider increasing the number of passes or iterations to improve accuracy\n",
            "WARNING:gensim.models.ldamodel:too few updates, training might not converge; consider increasing the number of passes or iterations to improve accuracy\n",
            "WARNING:gensim.models.ldamodel:too few updates, training might not converge; consider increasing the number of passes or iterations to improve accuracy\n",
            "WARNING:gensim.models.ldamodel:too few updates, training might not converge; consider increasing the number of passes or iterations to improve accuracy\n",
            "WARNING:gensim.models.ldamodel:too few updates, training might not converge; consider increasing the number of passes or iterations to improve accuracy\n",
            "WARNING:gensim.models.ldamodel:too few updates, training might not converge; consider increasing the number of passes or iterations to improve accuracy\n",
            "WARNING:gensim.models.ldamodel:too few updates, training might not converge; consider increasing the number of passes or iterations to improve accuracy\n",
            "WARNING:gensim.models.ldamodel:too few updates, training might not converge; consider increasing the number of passes or iterations to improve accuracy\n",
            "WARNING:gensim.models.ldamodel:too few updates, training might not converge; consider increasing the number of passes or iterations to improve accuracy\n",
            "WARNING:gensim.models.ldamodel:too few updates, training might not converge; consider increasing the number of passes or iterations to improve accuracy\n",
            "WARNING:gensim.models.ldamodel:too few updates, training might not converge; consider increasing the number of passes or iterations to improve accuracy\n",
            "WARNING:gensim.models.ldamodel:too few updates, training might not converge; consider increasing the number of passes or iterations to improve accuracy\n",
            "WARNING:gensim.models.ldamodel:too few updates, training might not converge; consider increasing the number of passes or iterations to improve accuracy\n",
            "WARNING:gensim.models.ldamodel:too few updates, training might not converge; consider increasing the number of passes or iterations to improve accuracy\n"
          ]
        },
        {
          "output_type": "display_data",
          "data": {
            "text/plain": [
              "<Figure size 640x480 with 1 Axes>"
            ],
            "image/png": "[encoded data removed]"
          },
          "metadata": {}
        },
        {
          "output_type": "stream",
          "name": "stdout",
          "text": [
            "Num Topics = 1  has Coherence Value of 0.3495\n",
            "Num Topics = 2  has Coherence Value of 0.332655\n",
            "Num Topics = 3  has Coherence Value of 0.310978\n",
            "Num Topics = 4  has Coherence Value of 0.354352\n",
            "Num Topics = 5  has Coherence Value of 0.35319\n",
            "Num Topics = 6  has Coherence Value of 0.382328\n",
            "Num Topics = 7  has Coherence Value of 0.393783\n",
            "Num Topics = 8  has Coherence Value of 0.409657\n",
            "Num Topics = 9  has Coherence Value of 0.425487\n",
            "Num Topics = 10  has Coherence Value of 0.438001\n",
            "Num Topics = 11  has Coherence Value of 0.432393\n",
            "Num Topics = 12  has Coherence Value of 0.46441\n",
            "Num Topics = 13  has Coherence Value of 0.475237\n",
            "Num Topics = 14  has Coherence Value of 0.497327\n",
            "Num Topics = 15  has Coherence Value of 0.492226\n",
            "Num Topics = 16  has Coherence Value of 0.513789\n",
            "Num Topics = 17  has Coherence Value of 0.504349\n",
            "Num Topics = 18  has Coherence Value of 0.498685\n",
            "Num Topics = 19  has Coherence Value of 0.518609\n",
            "Num Topics = 20  has Coherence Value of 0.518712\n"
          ]
        }
      ]
    },
    {
      "cell_type": "markdown",
      "source": [
        "**Build Topic Model**"
      ],
      "metadata": {
        "id": "Bnt30jFEPEgj"
      }
    },
    {
      "cell_type": "code",
      "source": [
        "# Membangun model dengan jumlah topik berdasarkan hasil coherence score\n",
        "model = LdaModel(corpus=corpus_tfidf, id2word=dictionary, num_topics=20)\n",
        "for idx, topic in model.print_topics(-1):\n",
        "    print('Topic: {} Word: {}'.format(idx, topic))"
      ],
      "metadata": {
        "id": "pXDPo4hXPHkg",
        "colab": {
          "base_uri": "https://localhost:8080/"
        },
        "outputId": "9597657b-8a6f-4566-d0cf-8de96080d03e"
      },
      "execution_count": null,
      "outputs": [
        {
          "output_type": "stream",
          "name": "stderr",
          "text": [
            "/usr/local/lib/python3.10/dist-packages/ipykernel/ipkernel.py:283: DeprecationWarning: `should_run_async` will not call `transform_cell` automatically in the future. Please pass the result to `transformed_cell` argument and any exception that happen during thetransform in `preprocessing_exc_tuple` in IPython 7.17 and above.\n",
            "  and should_run_async(code)\n",
            "WARNING:gensim.models.ldamodel:too few updates, training might not converge; consider increasing the number of passes or iterations to improve accuracy\n"
          ]
        },
        {
          "output_type": "stream",
          "name": "stdout",
          "text": [
            "Topic: 0 Word: 0.056*\"review\" + 0.053*\"pkm\" + 0.026*\"smt\" + 0.021*\"dosen\" + 0.015*\"wajib\" + 0.014*\"itu\" + 0.012*\"dosennya\" + 0.011*\"kapan\" + 0.009*\"word\" + 0.009*\"sih\"\n",
            "Topic: 1 Word: 0.019*\"spill\" + 0.015*\"kira_kira\" + 0.012*\"mulu\" + 0.012*\"kira\" + 0.011*\"tiket_kereta\" + 0.010*\"di\" + 0.010*\"pernah\" + 0.010*\"reply\" + 0.010*\"aja\" + 0.010*\"ngasih\"\n",
            "Topic: 2 Word: 0.021*\"menurut_kalian\" + 0.021*\"worth_it\" + 0.015*\"teknik\" + 0.014*\"kuliah\" + 0.013*\"sini\" + 0.012*\"di_sini\" + 0.012*\"di\" + 0.011*\"hal\" + 0.011*\"tia\" + 0.011*\"it\"\n",
            "Topic: 3 Word: 0.045*\"sks\" + 0.022*\"yaa\" + 0.017*\"maaf\" + 0.016*\"organisasi\" + 0.014*\"tau_tempat\" + 0.013*\"lebih\" + 0.012*\"mohon\" + 0.011*\"rekkk\" + 0.011*\"sendiri\" + 0.011*\"rencana\"\n",
            "Topic: 4 Word: 0.079*\"mau_tanya\" + 0.050*\"skem\" + 0.042*\"tanya\" + 0.025*\"yuk\" + 0.022*\"ukt\" + 0.020*\"mau\" + 0.014*\"ets\" + 0.014*\"di\" + 0.013*\"info_kos\" + 0.012*\"bayar\"\n",
            "Topic: 5 Word: 0.038*\"maba\" + 0.021*\"join\" + 0.020*\"bikin\" + 0.017*\"matkul\" + 0.016*\"udah\" + 0.014*\"sender\" + 0.014*\"ayang\" + 0.013*\"belum\" + 0.013*\"nambah\" + 0.013*\"jadwal\"\n",
            "Topic: 6 Word: 0.028*\"balik_ke\" + 0.025*\"balik\" + 0.024*\"halo\" + 0.023*\"tanggal_berapa\" + 0.022*\"tanggal\" + 0.017*\"aku\" + 0.016*\"berapa\" + 0.015*\"kamar_mandi\" + 0.015*\"wa\" + 0.013*\"ges\"\n",
            "Topic: 7 Word: 0.031*\"ambil\" + 0.020*\"murah\" + 0.017*\"di\" + 0.017*\"siakad\" + 0.017*\"info_tempat\" + 0.013*\"beli\" + 0.013*\"sekitaran\" + 0.012*\"dimana\" + 0.011*\"info\" + 0.011*\"tempat\"\n",
            "Topic: 8 Word: 0.056*\"boleh_minta\" + 0.035*\"info\" + 0.019*\"kemarin\" + 0.018*\"dosen\" + 0.015*\"minta\" + 0.015*\"mbakmas\" + 0.013*\"ku\" + 0.013*\"boleh\" + 0.011*\"mutualan\" + 0.011*\"buka\"\n",
            "Topic: 9 Word: 0.034*\"reviewnya\" + 0.031*\"war\" + 0.024*\"mau\" + 0.019*\"ngulang\" + 0.016*\"mau_nanya\" + 0.016*\"matkul_pengayaan\" + 0.015*\"help\" + 0.015*\"k\" + 0.015*\"kalian\" + 0.015*\"matkul\"\n",
            "Topic: 10 Word: 0.055*\"mau_nanya\" + 0.049*\"permisi\" + 0.030*\"minta_tolong\" + 0.027*\"nanya\" + 0.021*\"nanti\" + 0.020*\"anak\" + 0.017*\"mau\" + 0.016*\"sender\" + 0.014*\"hehe\" + 0.014*\"dm\"\n",
            "Topic: 11 Word: 0.027*\"tips\" + 0.023*\"bf\" + 0.018*\"haloo\" + 0.018*\"ta\" + 0.016*\"tedx\" + 0.016*\"ngajuin\" + 0.015*\"rep\" + 0.014*\"mulai\" + 0.014*\"random\" + 0.014*\"akun\"\n",
            "Topic: 12 Word: 0.024*\"misi\" + 0.020*\"masmbak\" + 0.017*\"itu\" + 0.017*\"extend\" + 0.016*\"kelas\" + 0.015*\"buat\" + 0.013*\"info\" + 0.013*\"info_kehilangan\" + 0.013*\"kan\" + 0.012*\"mending\"\n",
            "Topic: 13 Word: 0.016*\"iisma\" + 0.016*\"olahraga\" + 0.016*\"dari\" + 0.015*\"mutualan\" + 0.015*\"wts\" + 0.013*\"seru\" + 0.013*\"luar\" + 0.012*\"kalian\" + 0.012*\"arsi\" + 0.011*\"mulai\"\n",
            "Topic: 14 Word: 0.028*\"oprec\" + 0.021*\"ukm\" + 0.020*\"sem\" + 0.019*\"kok\" + 0.019*\"tutorial\" + 0.018*\"uang\" + 0.017*\"libur\" + 0.016*\"baru\" + 0.015*\"bgt\" + 0.013*\"aku\"\n",
            "Topic: 15 Word: 0.039*\"matkul_pengayaan\" + 0.031*\"pengayaan\" + 0.021*\"boleh\" + 0.020*\"ikut\" + 0.020*\"banget\" + 0.017*\"wdyt\" + 0.014*\"misal\" + 0.014*\"ini\" + 0.013*\"serius\" + 0.013*\"hima\"\n",
            "Topic: 16 Word: 0.034*\"jam_berapa\" + 0.034*\"hari_ini\" + 0.024*\"ini\" + 0.022*\"liburan\" + 0.017*\"hari\" + 0.016*\"cara\" + 0.015*\"tim\" + 0.014*\"berapa\" + 0.013*\"buat\" + 0.013*\"siapa\"\n",
            "Topic: 17 Word: 0.020*\"di\" + 0.019*\"kegiatan\" + 0.019*\"tolong\" + 0.018*\"atm\" + 0.017*\"info\" + 0.017*\"yaynay\" + 0.017*\"gebang\" + 0.016*\"buka_jasa\" + 0.016*\"isi\" + 0.014*\"infonya\"\n",
            "Topic: 18 Word: 0.030*\"dimana_yaa\" + 0.026*\"kimia\" + 0.024*\"yay_or\" + 0.021*\"masmba\" + 0.018*\"or\" + 0.018*\"inpo\" + 0.015*\"pgn\" + 0.014*\"biasanya\" + 0.013*\"hujan\" + 0.012*\"dimana\"\n",
            "Topic: 19 Word: 0.075*\"info_kos\" + 0.032*\"kos\" + 0.019*\"kalian\" + 0.017*\"info\" + 0.016*\"dicari\" + 0.014*\"dept\" + 0.013*\"daerah_keputih\" + 0.013*\"cewek\" + 0.012*\"foto\" + 0.012*\"sedih\"\n"
          ]
        }
      ]
    },
    {
      "cell_type": "markdown",
      "source": [
        "**Save top-word to CSV**"
      ],
      "metadata": {
        "id": "yhRq4F2hPLWc"
      }
    },
    {
      "cell_type": "code",
      "source": [
        "# Import top_word (Kata yang sering muncul dalam setiap topik) dalam bentuk CSV\n",
        "import pandas as pd\n",
        "top_words_per_topic = []\n",
        "for t in range(model.num_topics):\n",
        "    top_words_per_topic.extend([(t, ) + x for x in model.show_topic(t, topn = 10)])\n",
        "df = pd.DataFrame(top_words_per_topic, columns=['Topic', 'Word','P']).to_csv(\"top_words.csv\")\n",
        "print(df)"
      ],
      "metadata": {
        "id": "h22Hn29gPOdo",
        "colab": {
          "base_uri": "https://localhost:8080/"
        },
        "outputId": "8947034d-1169-4c75-ab5d-cb5205b4a4ec"
      },
      "execution_count": null,
      "outputs": [
        {
          "output_type": "stream",
          "name": "stdout",
          "text": [
            "None\n"
          ]
        },
        {
          "output_type": "stream",
          "name": "stderr",
          "text": [
            "/usr/local/lib/python3.10/dist-packages/ipykernel/ipkernel.py:283: DeprecationWarning: `should_run_async` will not call `transform_cell` automatically in the future. Please pass the result to `transformed_cell` argument and any exception that happen during thetransform in `preprocessing_exc_tuple` in IPython 7.17 and above.\n",
            "  and should_run_async(code)\n"
          ]
        }
      ]
    },
    {
      "cell_type": "markdown",
      "source": [
        "**Visualization**"
      ],
      "metadata": {
        "id": "-DuQtGTzPTQB"
      }
    },
    {
      "cell_type": "code",
      "source": [
        "import gensim\n",
        "import pyLDAvis\n",
        "import pyLDAvis.gensim_models as gensimvis\n",
        "\n",
        "# Visualisasi hasil topic modelling\n",
        "data = gensimvis.prepare(model, corpus_tfidf, dictionary)\n",
        "print(data)\n",
        "\n",
        "pyLDAvis.display(data)\n"
      ],
      "metadata": {
        "id": "-4GpmyN3PWsV",
        "colab": {
          "base_uri": "https://localhost:8080/",
          "height": 1000
        },
        "outputId": "d03f436c-dd4a-48b3-cb64-f04b948c4195"
      },
      "execution_count": null,
      "outputs": [
        {
          "output_type": "stream",
          "name": "stderr",
          "text": [
            "/usr/local/lib/python3.10/dist-packages/ipykernel/ipkernel.py:283: DeprecationWarning: `should_run_async` will not call `transform_cell` automatically in the future. Please pass the result to `transformed_cell` argument and any exception that happen during thetransform in `preprocessing_exc_tuple` in IPython 7.17 and above.\n",
            "  and should_run_async(code)\n"
          ]
        },
        {
          "output_type": "stream",
          "name": "stdout",
          "text": [
            "PreparedData(topic_coordinates=              x         y  topics  cluster      Freq\n",
            "topic                                               \n",
            "1      0.005582 -0.014627       1        1  6.296258\n",
            "0      0.086506 -0.104469       2        1  5.839810\n",
            "8     -0.047726 -0.057146       3        1  5.555005\n",
            "7      0.012483 -0.042536       4        1  5.442505\n",
            "19    -0.191892 -0.034824       5        1  5.409266\n",
            "13     0.077342 -0.032495       6        1  5.322711\n",
            "10    -0.086953  0.122592       7        1  5.259972\n",
            "2      0.076226 -0.060270       8        1  5.237543\n",
            "16     0.120549  0.005508       9        1  5.193120\n",
            "5      0.009732 -0.024656      10        1  5.059530\n",
            "4     -0.064771 -0.177818      11        1  5.049069\n",
            "9      0.028375  0.091091      12        1  4.909769\n",
            "6      0.023420  0.030650      13        1  4.682535\n",
            "3      0.049708  0.060145      14        1  4.655809\n",
            "17    -0.128952  0.033555      15        1  4.594858\n",
            "14     0.026505  0.082679      16        1  4.591659\n",
            "18     0.018418  0.073400      17        1  4.490414\n",
            "15     0.000661 -0.017883      18        1  4.451510\n",
            "12    -0.023195 -0.001074      19        1  4.378071\n",
            "11     0.007980  0.068178      20        1  3.580585, topic_info=            Term       Freq      Total Category  logprob  loglift\n",
            "238    mau_tanya  51.000000  51.000000  Default  30.0000  30.0000\n",
            "112     info_kos  60.000000  60.000000  Default  29.0000  29.0000\n",
            "729       review  38.000000  38.000000  Default  28.0000  28.0000\n",
            "669          pkm  36.000000  36.000000  Default  27.0000  27.0000\n",
            "118  boleh_minta  38.000000  38.000000  Default  26.0000  26.0000\n",
            "..           ...        ...        ...      ...      ...      ...\n",
            "41         saran   4.093703  16.651888  Topic20  -4.5493   1.9266\n",
            "12         reply   3.451286  18.129115  Topic20  -4.7200   1.6709\n",
            "361        harus   3.176098  15.156769  Topic20  -4.8031   1.7669\n",
            "389           dm   3.255835  19.728202  Topic20  -4.7783   1.5280\n",
            "67           gak   3.424487  37.914520  Topic20  -4.7278   0.9253\n",
            "\n",
            "[996 rows x 6 columns], token_table=      Topic      Freq    Term\n",
            "term                         \n",
            "753       4  0.193794       a\n",
            "753       8  0.096897       a\n",
            "753      10  0.581382       a\n",
            "1115      5  0.761255      ac\n",
            "144       2  0.141676  adakah\n",
            "...     ...       ...     ...\n",
            "743      10  0.307552     you\n",
            "826      10  0.752011      yu\n",
            "509      10  0.112392     yuk\n",
            "509      11  0.730551     yuk\n",
            "1294      6  0.618917     yuu\n",
            "\n",
            "[2414 rows x 3 columns], R=30, lambda_step=0.01, plot_opts={'xlab': 'PC1', 'ylab': 'PC2'}, topic_order=[2, 1, 9, 8, 20, 14, 11, 3, 17, 6, 5, 10, 7, 4, 18, 15, 19, 16, 13, 12])\n"
          ]
        },
        {
          "output_type": "execute_result",
          "data": {
            "text/plain": [
              "<IPython.core.display.HTML object>"
            ],
            "text/html": [
              "\n",
              "<link rel=\"stylesheet\" type=\"text/css\" href=\"https://cdn.jsdelivr.net/gh/bmabey/pyLDAvis@3.4.0/pyLDAvis/js/ldavis.v1.0.0.css\">\n",
              "\n",
              "\n",
              "<div id=\"ldavis_el20501397626795767524359154258\" style=\"background-color:white;\"></div>\n",
              "<script type=\"text/javascript\">\n",
              "\n",
              "var ldavis_el20501397626795767524359154258_data = {\"mdsDat\": {\"x\": [0.005581985315472938, 0.08650635723709059, -0.047725932801929674, 0.012482593840710309, -0.19189161163420354, 0.07734242023444915, -0.08695280521047243, 0.0762256313250746, 0.1205494246207622, 0.009732332383154723, -0.06477071656706877, 0.02837514635239996, 0.023420308295712886, 0.04970786648456829, -0.1289523136875591, 0.026504847622990695, 0.01841833394756277, 0.0006612094241391763, -0.023194792086776335, 0.007979714903921211], \"y\": [-0.014626798860007074, -0.10446868149678862, -0.057146024822374075, -0.04253555291883125, -0.03482365849792631, -0.03249519657321635, 0.12259210531746492, -0.06026989367300329, 0.005508109308085144, -0.024656114655180743, -0.17781828304491148, 0.09109092408161269, 0.030649500131112388, 0.060145363350440614, 0.03355463458559744, 0.0826794238409826, 0.07339963608218962, -0.017883281373293456, -0.0010743443400466363, 0.06817813355809389], \"topics\": [1, 2, 3, 4, 5, 6, 7, 8, 9, 10, 11, 12, 13, 14, 15, 16, 17, 18, 19, 20], \"cluster\": [1, 1, 1, 1, 1, 1, 1, 1, 1, 1, 1, 1, 1, 1, 1, 1, 1, 1, 1, 1], \"Freq\": [6.2962581832173194, 5.839809658740294, 5.555005252717486, 5.442504930973943, 5.409265966610267, 5.322710991974237, 5.259972308467416, 5.23754262706344, 5.193120164596753, 5.059530106949107, 5.049069385052999, 4.909768640912655, 4.682535040471216, 4.655808890624975, 4.594858197491791, 4.591659176467091, 4.4904144168267806, 4.4515097255609195, 4.3780714759800405, 3.580584859301265]}, \"tinfo\": {\"Term\": [\"mau_tanya\", \"info_kos\", \"review\", \"pkm\", \"boleh_minta\", \"mau_nanya\", \"skem\", \"permisi\", \"sks\", \"matkul_pengayaan\", \"tanya\", \"reviewnya\", \"jam_berapa\", \"ambil\", \"war\", \"pengayaan\", \"hari_ini\", \"dosen\", \"smt\", \"dimana_yaa\", \"minta_tolong\", \"maba\", \"balik_ke\", \"kos\", \"oprec\", \"nanya\", \"kimia\", \"yuk\", \"balik\", \"matkul\", \"mulu\", \"masjid\", \"oot\", \"komunitas\", \"include\", \"belom\", \"reply_yaa\", \"bekas\", \"gue\", \"teknologi\", \"kira_kira\", \"kilat\", \"barangkali\", \"ngasih\", \"kkn\", \"bau\", \"gara\", \"staff\", \"tingkat\", \"bukti\", \"ngurus\", \"adalah\", \"naik_kereta\", \"lantai\", \"listrik\", \"iphone\", \"salah\", \"ip\", \"bengkel\", \"tiket_kereta\", \"spill\", \"kira\", \"pen\", \"kereta\", \"blm\", \"reply\", \"yaaa\", \"sampai\", \"rekomendasi\", \"maaf\", \"pernah\", \"jadwal\", \"aja\", \"ke\", \"di\", \"tempat\", \"tuh\", \"kalian\", \"jual\", \"info\", \"matkul\", \"smt\", \"pkm\", \"review\", \"dosennya\", \"word\", \"lagi_nyari\", \"wajib\", \"kwn\", \"pendapat\", \"setelah\", \"yak\", \"gaiss\", \"lagu\", \"obat\", \"bu\", \"nilainya\", \"dkv\", \"rekomin\", \"dokter\", \"bukanya\", \"start\", \"beda\", \"m\", \"tanpa\", \"bindo\", \"mengisi\", \"ipad\", \"jujur\", \"dapat\", \"pak\", \"ngisi\", \"dosen\", \"ngapain\", \"tugas\", \"kapan\", \"bener\", \"u\", \"sekitar_keputih\", \"itu\", \"kelas\", \"sih\", \"ikut\", \"masih\", \"apakah\", \"di\", \"kalian\", \"udah\", \"bisa\", \"keputih\", \"kalo\", \"aja\", \"boleh_minta\", \"mata_kuliah\", \"kemarin\", \"buka_pas\", \"knp\", \"mulyosari\", \"antar_jemput\", \"ukuran\", \"j\", \"telah\", \"antar\", \"part\", \"stiker\", \"one\", \"makasiii\", \"mbakmas\", \"duit\", \"time\", \"part_time\", \"follow\", \"pacar\", \"jam_malem\", \"sampe_jam\", \"ku\", \"service\", \"jemput\", \"ps\", \"jt\", \"sistem\", \"thanks\", \"ber\", \"mandiri\", \"dr\", \"dosen\", \"minta\", \"info\", \"mutualan\", \"sekitar_its\", \"nilai\", \"daerah\", \"an\", \"boleh\", \"kuliah\", \"buka\", \"daerah_keputih\", \"dari\", \"sekitar\", \"anak\", \"jam\", \"pernah\", \"atau\", \"di\", \"sih\", \"ngga\", \"gak\", \"siakad\", \"mk\", \"ambil\", \"bme\", \"sekali\", \"nunggu\", \"doong\", \"sama_sekali\", \"kekurangan\", \"tes\", \"berarti\", \"rusak\", \"poster\", \"sesuai\", \"murah\", \"sekitaran\", \"mantan\", \"sekitaran_its\", \"ngeprint\", \"besar\", \"ikutan\", \"ngadain\", \"tas\", \"info_tempat\", \"terima_kasih\", \"catering\", \"depart\", \"tombo\", \"verifikasi\", \"hasil\", \"mata\", \"paling\", \"i\", \"enak\", \"gini\", \"beli\", \"tempat\", \"dimana\", \"di\", \"info\", \"bisa\", \"mau\", \"kalo\", \"kan\", \"jual\", \"buat\", \"its\", \"dari\", \"dept\", \"pap\", \"siap\", \"sedih\", \"ac\", \"diri\", \"klean\", \"cung\", \"dicari\", \"kasi\", \"foto\", \"l\", \"ampe\", \"saranin\", \"info_kos\", \"stuck\", \"kepikiran\", \"dapur_bersama\", \"kunci\", \"cewek\", \"ketik\", \"expo\", \"tangan\", \"gapunya\", \"dapur\", \"kamu\", \"kunci_motor\", \"despro\", \"putri\", \"tmn\", \"uda\", \"daerah_keputih\", \"kos\", \"cowok\", \"kosong\", \"mohon_bantuannya\", \"tentang\", \"lg\", \"kamar\", \"info_kost\", \"semua\", \"kalian\", \"info\", \"belum\", \"mohon\", \"dalam\", \"buat\", \"sama\", \"jadi\", \"iisma\", \"olahraga\", \"seru\", \"arsi\", \"wts\", \"kirakira\", \"perlu\", \"gass\", \"rantau\", \"bentar\", \"yuu\", \"ketemu\", \"sakit\", \"ikoma\", \"luar\", \"kenal\", \"naik_bus\", \"gtu\", \"laptop\", \"online\", \"lumayan\", \"gocar\", \"surat\", \"putra\", \"fee\", \"ftk\", \"kota\", \"data\", \"f\", \"gpp\", \"mutualan\", \"mulai\", \"selama\", \"dulu\", \"tu\", \"cuma\", \"kayak\", \"bagus\", \"dari\", \"deket_its\", \"brp\", \"kita\", \"kalian\", \"juga\", \"its\", \"punya\", \"di\", \"mau\", \"buat\", \"aja\", \"informatika\", \"nanti_sender\", \"permisi\", \"tweet\", \"ilang\", \"musim\", \"keluarga\", \"dalem\", \"minta_tolong\", \"hehe\", \"komen\", \"elektro\", \"bs\", \"ide\", \"pls\", \"tinggi\", \"dipake\", \"mau_nanya\", \"aplikasi\", \"bisa_dipake\", \"sebenernya\", \"bni\", \"kayak_gini\", \"fess\", \"semuaa\", \"nanya\", \"tukang\", \"ketika\", \"ditanya\", \"nanti\", \"kamis\", \"dm\", \"bakal\", \"bagi\", \"anak\", \"masmbak\", \"tolong\", \"sender\", \"minat\", \"minta\", \"mau\", \"fisika\", \"bisa\", \"sama\", \"gaa\", \"its\", \"libur\", \"di\", \"hal\", \"sabar\", \"di_sini\", \"so\", \"skpb\", \"kmart\", \"divisi\", \"worth_it\", \"sini\", \"sayur\", \"linknya\", \"worth\", \"perkuliahan\", \"of\", \"it\", \"jahim\", \"menurut_kalian\", \"me\", \"akan\", \"on\", \"menurut\", \"cek\", \"apapun\", \"teknik\", \"himpunan\", \"how\", \"scientific\", \"rekom\", \"bumi\", \"is\", \"you\", \"malah\", \"depan\", \"up\", \"kuliah\", \"mat\", \"mahasiswa\", \"i\", \"tia\", \"offline\", \"suka\", \"di\", \"kan\", \"kalian\", \"ayang\", \"buka\", \"lainnya\", \"termasuk\", \"curhat\", \"gate\", \"mari\", \"hi\", \"inggris\", \"gabut\", \"liburan\", \"kami\", \"bahasa_inggris\", \"bagian\", \"download\", \"gasih\", \"ig\", \"sedang\", \"gimana_cara\", \"jam_berapa\", \"sponsorship\", \"semangat_buat\", \"apaa\", \"hari_ini\", \"kecil\", \"tim\", \"ajaa\", \"met\", \"ngerasa\", \"bahasa\", \"plis\", \"seng\", \"nrp\", \"hari\", \"siapa\", \"berapa\", \"cara\", \"ini\", \"terus\", \"bayar\", \"buat\", \"masih\", \"jam\", \"dari\", \"mau\", \"di\", \"kepanitiaan\", \"porto\", \"nt\", \"yo\", \"join\", \"berapaan\", \"nyimpen\", \"tinggal\", \"yu\", \"mtk\", \"beberapa\", \"jam_pagi\", \"nambah\", \"like\", \"berhenti\", \"gempa\", \"infor\", \"praktikum\", \"daripada\", \"set\", \"bikin\", \"banget_nih\", \"bab\", \"turi\", \"habis\", \"stasiun_gubeng\", \"hari_minggu\", \"bersih\", \"nyaman\", \"stasiun\", \"a\", \"keterima\", \"maba\", \"liat\", \"jadwal\", \"matkul\", \"belum\", \"ayang\", \"udah\", \"gubeng\", \"sender\", \"nrp\", \"besok\", \"mau\", \"spill\", \"dari\", \"lagi\", \"its\", \"buat\", \"di\", \"semester\", \"aja\", \"skem\", \"mau_tanya\", \"hallo\", \"disuruh\", \"ukt\", \"gimanaa\", \"yuk\", \"tanya\", \"timur\", \"mu\", \"lolos\", \"caranya\", \"ditanyain\", \"sg\", \"ets\", \"kalo_iya\", \"ditutup\", \"nyari_temen\", \"pesen\", \"dibeli\", \"error\", \"bucket\", \"presentasi\", \"sekalian\", \"have\", \"keperluan\", \"info_kosan\", \"confess\", \"sakinah\", \"cv\", \"di_mana\", \"kosan\", \"lancar\", \"deket_its\", \"terakhir\", \"bayar\", \"mo\", \"mana\", \"in\", \"apakah\", \"mau\", \"jual\", \"nyari\", \"info_kos\", \"di\", \"guys\", \"info\", \"kalo\", \"bisa\", \"buat\", \"kapan\", \"reviewnya\", \"war\", \"help\", \"kenceng\", \"no_salty\", \"ngulang\", \"telat\", \"isinya\", \"ke_kampus\", \"temenku\", \"dekat\", \"salty\", \"dikasih\", \"bangun\", \"nomer\", \"twt\", \"merah\", \"berat\", \"wangi\", \"semoga\", \"barengan\", \"ngobrol\", \"gt\", \"dateng_ke\", \"kader\", \"dapetin\", \"no\", \"kursi\", \"kali\", \"mungkin\", \"barang\", \"k\", \"preloved\", \"matkul_pengayaan\", \"matkul\", \"mau\", \"mau_nanya\", \"kalian\", \"maba\", \"terus\", \"klo\", \"kampus\", \"kalo\", \"gimana\", \"nanya\", \"ke\", \"ngga\", \"di\", \"ini\", \"sama\", \"tanggal_berapa\", \"bri\", \"wa\", \"cepat\", \"balik_ke\", \"syarat\", \"ramadhan\", \"yah\", \"cukup\", \"c\", \"be\", \"kamar_mandi\", \"kebetulan\", \"gess\", \"upload\", \"dri\", \"kirim\", \"balik\", \"matematika\", \"selesai\", \"pakai\", \"pingin\", \"agama\", \"ktm\", \"tanggal\", \"paket\", \"sender_dm\", \"sebulan\", \"dana\", \"film\", \"kucing\", \"halo\", \"ges\", \"sebelumnyaa\", \"buku\", \"minimal\", \"berapa\", \"adakah\", \"pada\", \"aku\", \"sebelum\", \"kamar\", \"jam_berapa\", \"ke\", \"udah\", \"dmn\", \"kalian\", \"nya\", \"dapet\", \"sks\", \"organisasi\", \"terdekat\", \"mw\", \"ttg\", \"akhirnya\", \"pwk\", \"allah\", \"pesan\", \"id\", \"metode\", \"raya\", \"tekkim\", \"dibuka\", \"loh\", \"lebih_lanjut\", \"ikut_lomba\", \"org\", \"lanjut\", \"jatah\", \"rencana\", \"e\", \"area_keputih\", \"gas\", \"by\", \"rekkk\", \"belakang\", \"sendiri\", \"jatuh\", \"jelas\", \"maaf\", \"tau_tempat\", \"lebih\", \"mohon\", \"yaa\", \"to\", \"bukan\", \"makasii\", \"ikut\", \"jurusan\", \"kalian\", \"aku\", \"ini\", \"yaynay\", \"oleh\", \"infonya\", \"medcen\", \"atm\", \"pacaran\", \"yok\", \"air\", \"cake\", \"kartu\", \"joki\", \"per\", \"buka_jasa\", \"parkir_motor\", \"nnti\", \"coba\", \"grup\", \"tab\", \"wisuda\", \"sy\", \"kegiatan\", \"membantu\", \"msib\", \"suatu\", \"rekomen\", \"pindah\", \"open_jastip\", \"jasa\", \"form\", \"wkwk\", \"isi\", \"gebang\", \"lagi_butuh\", \"tolong\", \"sekitar_keputih\", \"gaa\", \"bantu\", \"di\", \"info\", \"butuh\", \"dimana\", \"mau_nanya\", \"deket\", \"oprec\", \"tutorial\", \"masmas\", \"adek\", \"se\", \"skemnya\", \"saya\", \"hati\", \"sem\", \"ukm\", \"hai\", \"pliss\", \"info_oprec\", \"dua\", \"cantik\", \"uang\", \"utk\", \"agak\", \"sepeda\", \"kerja\", \"seminggu\", \"seblak\", \"gojek\", \"izin\", \"kok\", \"gaada\", \"sesuatu\", \"lt\", \"haii\", \"pulkam\", \"pertama\", \"baru\", \"libur\", \"gmn\", \"bgt\", \"tidak\", \"pake\", \"sama\", \"guys\", \"aku\", \"itu\", \"nih\", \"gimana\", \"buat\", \"klo\", \"di\", \"kimia\", \"yay_or\", \"masmba\", \"or\", \"hujan\", \"pgn\", \"permisi_masmba\", \"dimana_yaa\", \"cocok\", \"nay\", \"duluan\", \"maret\", \"diajar\", \"diluar\", \"but\", \"super\", \"bantuin\", \"tua\", \"base\", \"inpo\", \"memasuki\", \"siapa_tau\", \"tambah\", \"yay\", \"alat\", \"lab\", \"masak\", \"s\", \"tenang\", \"nyala\", \"day\", \"share\", \"senin\", \"biasanya\", \"d\", \"nanti_aku\", \"infoo\", \"gk\", \"dimana\", \"semester\", \"beli\", \"sebagai\", \"mau\", \"angkatan\", \"di\", \"matkul\", \"buka\", \"nya\", \"hima\", \"down\", \"wdyt\", \"serius\", \"pengayaan\", \"mudik\", \"misal\", \"asdos\", \"gampang\", \"apaan\", \"date\", \"fteic\", \"emg\", \"stand\", \"matkul_pengayaan\", \"thank\", \"awet\", \"fsad\", \"vokasi\", \"snbt\", \"studi\", \"urgent\", \"sekitarnya\", \"tahun_ini\", \"under_k\", \"fis\", \"dia\", \"statistika\", \"tutor\", \"panas\", \"beneran\", \"padahal\", \"h\", \"asrama\", \"capek\", \"link\", \"banget\", \"departemen\", \"ikut\", \"boleh\", \"lewat\", \"keluar\", \"bayar\", \"dapet\", \"kan\", \"ini\", \"anak\", \"gak\", \"di\", \"aku\", \"k\", \"extend\", \"chat\", \"bagaimana\", \"donk\", \"nihh\", \"sepatu\", \"upmb\", \"angin\", \"misi\", \"gang\", \"sebelah\", \"skor\", \"info_kehilangan\", \"kulit\", \"biru\", \"bank\", \"this\", \"belinya\", \"kipas_angin\", \"hari_pertama\", \"gym\", \"beasiswa\", \"trus\", \"duduk\", \"selasa\", \"mending\", \"tws\", \"ngekos\", \"jajan\", \"kipas\", \"stnk_dengan\", \"masmbak\", \"kelas\", \"bersama\", \"daftar\", \"kan\", \"sebelumnya\", \"kehilangan\", \"itu\", \"area\", \"tia\", \"angkatan\", \"buat\", \"info\", \"atau\", \"di\", \"lagi\", \"dan\", \"bf\", \"random\", \"ngajuin\", \"tedx\", \"jamber\", \"login\", \"apkh\", \"tips\", \"alumni\", \"kangen\", \"premium\", \"cuci\", \"khusus\", \"anter\", \"akun\", \"kayaknya\", \"mintol\", \"gedung\", \"materi\", \"ta\", \"jd\", \"pusing\", \"haloo\", \"with\", \"nyaa\", \"deh\", \"email_its\", \"gapapa\", \"dikit\", \"sana\", \"for\", \"iya\", \"mulai\", \"in\", \"makasi\", \"rep\", \"sampe\", \"biar\", \"saran\", \"reply\", \"harus\", \"dm\", \"gak\"], \"Freq\": [51.0, 60.0, 38.0, 36.0, 38.0, 48.0, 28.0, 34.0, 25.0, 28.0, 30.0, 19.0, 27.0, 21.0, 17.0, 19.0, 28.0, 29.0, 17.0, 18.0, 22.0, 54.0, 17.0, 37.0, 15.0, 27.0, 13.0, 17.0, 18.0, 35.0, 8.29346123785749, 5.664354658323537, 6.456297075038238, 4.502133832469307, 4.310934392377684, 5.974768686785854, 4.006041542002681, 6.205671664402879, 4.319555824337303, 4.344434886163487, 10.143018174182254, 3.564902994919209, 4.416451437821762, 6.542251455148199, 5.163179916902446, 3.045453873617686, 2.6979566244508746, 5.08908543435123, 2.4817370578118823, 3.1199718673318255, 2.248703210406551, 3.0238750922684496, 4.714281859155756, 3.9466292024320033, 3.6538599930944535, 1.6952245233649426, 5.083458061473812, 3.410431102235072, 2.4988195200481558, 7.542904991342445, 12.819958057173013, 7.9313027676687895, 4.512623341736645, 4.461689150408789, 6.2736020941374315, 6.834308049894242, 4.7608715740705305, 4.249503083797527, 4.965414151789256, 5.357357883106971, 6.937169274587588, 5.380607885153015, 6.714528568640067, 6.302135841740078, 7.144892624019473, 5.407547759905976, 5.223289972094078, 6.153953850623863, 5.2414625951756335, 5.935302264791791, 4.928418105912459, 16.551550452504287, 33.59509254372967, 35.31396432490597, 7.436778909509662, 5.849455094221125, 3.8753003332501006, 9.337336444910644, 3.4975977780447036, 3.3539606559986486, 3.7253347583219982, 3.65194599182524, 5.289757477393166, 3.5746658912876956, 2.898802177229157, 3.551039451581198, 3.6406853796281804, 3.721815063588167, 2.196350375727601, 2.1653387808691216, 2.8523884264412023, 1.841055406789632, 1.990267706476896, 2.2521856533763764, 2.3838159444270706, 1.3148379636343908, 1.3140497001993057, 2.1085910169947635, 1.202936971385236, 3.892549807032108, 5.601282950374749, 2.8927233460018607, 13.344571378295852, 4.116380458328225, 4.167713725638313, 7.0054444508377065, 4.227851081087224, 3.4159259240831146, 4.143084683054665, 8.610376442403888, 4.929753362126202, 5.629987382542026, 5.189528355632688, 5.184711157527342, 4.039045670361017, 5.393149061484033, 4.888353213760876, 4.547779895075209, 4.632262271295648, 3.960930557456579, 4.104176928997141, 4.007308732013409, 33.51825045983831, 4.786111867846251, 11.526782775311489, 3.6482732070360515, 4.315212166981181, 3.5114191255353444, 2.9449739782028366, 3.3349210602926207, 4.3488072464679535, 3.1942241849844852, 2.8681256533958193, 3.0499544064092547, 5.656445932572253, 2.3478278729497326, 3.8852941560285013, 8.788804493408943, 3.463271492177982, 3.6298803764718817, 2.2972902399940174, 1.8850721540991096, 4.877136857522608, 2.183742535127771, 2.3660196140854066, 8.057986777596524, 3.082372035973955, 2.956107172751038, 1.2857946127756703, 1.9402044987044127, 1.5974105103228486, 1.381776498816361, 2.913051940386809, 2.5264120662135343, 2.88259094731969, 11.008172300181284, 8.969184787242709, 20.75677411868977, 6.477690124323918, 4.934377704494301, 5.017765211398223, 5.865078312232157, 5.608827172802216, 7.977811667320849, 5.274557809984728, 6.385180037477442, 4.3009927111764314, 6.027625134134565, 4.9451554266313495, 5.638208603708005, 5.0856551280214175, 4.661206805459703, 4.697271173631031, 5.141923809689281, 4.362378685296589, 4.163108011394766, 4.210667479149725, 9.928993482587929, 5.226122649548289, 17.964277554467134, 4.228067101847104, 4.773162864699979, 4.074427856765414, 3.9038722812745217, 3.9001166284910354, 3.478495965840838, 5.012953047067068, 3.5773650461506588, 3.3353325971319383, 3.382791761472158, 4.544900503185165, 11.78431226309254, 7.433912704564364, 3.39179590202851, 4.689028131498989, 3.009033065554689, 3.3131425695484342, 3.4980203732377264, 2.0134973619361647, 2.272718649513305, 9.795601771103012, 6.134028281653686, 1.7484211908755316, 2.05580778004833, 1.7193010440342462, 3.1957004627306986, 1.6807853258762695, 4.256375889583479, 4.482573272302412, 5.148506738740348, 5.074268887724821, 5.19549925513877, 7.681139660355049, 6.358628703594699, 6.793507319278326, 9.963015213917103, 6.395550064119471, 5.871775426546259, 6.137356470673693, 5.410889477068216, 4.59531492181328, 4.436914388042997, 4.58858318958419, 4.414558581243528, 4.189821973731714, 8.06664148075579, 5.797729201772366, 5.406459633706555, 6.744037231721025, 5.342841147439523, 5.9733700168102715, 2.9804709868760346, 4.10612449658015, 9.145913285391028, 3.045359675028141, 6.781377463294499, 3.9978847222650633, 2.8503981197816635, 4.117716178148416, 43.90280477902735, 2.7652643635483565, 2.7679207849006313, 1.8914417223054578, 1.8092414951469948, 7.435029235935036, 2.1676560277896924, 2.5807533779708183, 2.3523199332554103, 1.6468570505758358, 1.8101270143213766, 4.1909265405716, 1.2595802847906985, 1.9736401792425973, 4.596233146707838, 1.4556841774743416, 5.296085517158766, 7.724307366274364, 18.9595126580756, 5.739667031727305, 5.400391315009468, 4.244871720501597, 5.65992101217762, 3.296783120243201, 4.551950107103449, 3.965139712905751, 4.7253443751109145, 11.145615207642228, 9.803007457651491, 6.014448955819056, 4.555056437013645, 3.560575510358431, 4.814509606152272, 4.092061586044226, 4.036217639488428, 9.445342510505773, 9.248194232401454, 7.255009576259791, 6.849712279481739, 8.594348266674357, 4.531401472766855, 4.854315683933013, 3.376539708030683, 3.3652825068345953, 3.250517046358235, 2.3483175039874418, 3.6502284859760223, 4.92957307668886, 4.672890559316847, 7.212944673806689, 2.193309565814186, 2.5713256959399304, 1.8221171106487095, 5.761276228909317, 6.4292562033845755, 1.3470997731826737, 1.8833567996845828, 3.8665352036430214, 1.1690204280064382, 2.303673256151133, 1.918329641265596, 2.5801887286525305, 3.395928345794316, 3.108377026827899, 3.2598024217538413, 8.810426394044018, 6.458957934938059, 3.731852909065334, 6.101075035941895, 5.370597991803437, 3.607649322349894, 4.232818595078393, 4.131593558932137, 8.938759077244075, 5.275588039098981, 4.235091634822845, 4.865578512791754, 6.965025767107051, 4.526209551992388, 6.029716273485775, 5.4202666704542635, 6.381210971417538, 5.889556387257934, 5.5043444864769, 4.695135369869489, 7.048706030524753, 7.5832138843179075, 27.861652815799044, 4.532533868968717, 3.382761301064831, 3.525052683480013, 2.8550350913735856, 2.773335188465923, 17.19760644681942, 7.9882905329542675, 6.477282601082203, 6.506791015472211, 2.4753101605549284, 2.679273509354223, 3.548679065022961, 2.1645431998439766, 4.18060552235127, 31.517073391220777, 2.3500197624575474, 2.1126420921744056, 1.9097688963720463, 1.5084238998381536, 1.2980301975844504, 3.709044503526521, 1.2362524335270049, 15.130609628676764, 1.5195631104378313, 1.2340831177795515, 2.980962129287469, 11.702954627539931, 2.5084758111620307, 7.679938645790151, 3.9216019601981658, 4.275652351262217, 11.60221935301398, 5.479936011740639, 6.798878926891457, 8.891213162290216, 3.937392428458882, 5.596887593472786, 9.477192974492274, 4.708964664306009, 6.3118547637715485, 5.062948584241132, 3.9313703030731664, 4.093612822699591, 3.7371959535156307, 3.875242717387178, 6.380746160658246, 6.17364675148759, 7.028852772393138, 6.233644961723989, 4.867237460733778, 4.861410835204684, 4.763809583673542, 11.617832474072763, 7.361554250366492, 3.326852870425295, 2.9594326573681506, 5.696475760078728, 5.636362578411722, 3.3927776469527133, 6.27710363510142, 2.4822761692360853, 11.933510269438079, 2.9668406674599686, 3.1968921714012737, 4.034265226853528, 4.237851414992138, 3.9093073672365466, 2.0772232490907494, 8.326092827860128, 1.938678192378726, 2.0777663308828007, 2.4271355019428174, 4.585454086938315, 1.2546948248318115, 2.2446974646372877, 5.364121833356612, 3.8625851928839148, 6.266285772786724, 3.376015287022959, 7.840359101830489, 4.636796741582437, 5.327788224325493, 5.024128635201756, 6.303471647101606, 3.976975965026813, 4.268197543969691, 6.665708125335664, 4.130662706410544, 4.3041187325479004, 4.1162778290916835, 4.114338609135992, 5.453038919512186, 5.218028759328607, 5.072711720758059, 4.358527285423174, 4.779485012282822, 6.203874471001642, 6.715720973275352, 4.766537020256865, 12.534698981182865, 7.138075677668111, 4.437593390035779, 5.077697751369405, 3.0214053895349275, 2.6000157317591834, 5.656927045310365, 3.3078749414753155, 4.556143784778023, 19.152498705769204, 1.880411243221719, 3.5118977188605345, 2.1030431313951827, 19.0977616590704, 2.464033577872266, 8.657293320464921, 2.093828387302319, 1.4436547018520658, 4.040710059641824, 4.898946331547871, 2.51965932504553, 1.4165248909278427, 4.720788947465667, 9.477633145130829, 7.187093038700749, 8.117063309480864, 9.10832593684377, 13.707031650258305, 5.967171099793466, 5.015304650744991, 7.22919950507586, 5.558099055448821, 5.374585937174546, 5.327683259706908, 4.903202890454672, 4.927473120005205, 6.523039151425701, 4.288290700121381, 3.9549036488884632, 4.530876976915913, 11.466564526535434, 3.5737729169845776, 3.9149214431802206, 6.270729696997273, 5.238984136832002, 6.905664150031196, 4.010694360773861, 5.257764109267984, 7.235912375096839, 5.518325910110553, 2.785814447325292, 1.969970811063244, 1.9441674539761482, 1.8541978749430381, 2.071231707146397, 2.7569391316142515, 11.123389595360026, 1.882700006078924, 2.730299357085162, 1.533134066162178, 2.106518537645396, 1.8892606673301953, 1.4733006062904355, 1.8270878623759037, 1.8665520675151515, 2.7516014458887947, 6.0333975533407225, 3.026053354932075, 20.623517483389005, 6.804875784587574, 7.1357822410130805, 9.53898086013882, 7.381432961793354, 7.5117001066057245, 9.023362558821086, 2.3813519101025293, 7.5327533207814215, 3.531141737626482, 4.384461256706023, 6.857869522660549, 4.3924201501300075, 5.474915246247356, 5.118111563440594, 5.2078557033276205, 5.047614067758616, 4.990389715744227, 4.13741179428604, 4.11136707720921, 27.503509339994448, 43.39336206540215, 4.128991036722126, 3.9946290000719578, 11.744188771141085, 3.860031059483855, 13.408529692711415, 22.848272543241613, 2.467046777141937, 2.3976877147002282, 4.478661682381084, 4.159098276801094, 5.300770128434194, 1.8493644728227976, 7.857391766147463, 1.8200044737196481, 1.5142221287898077, 1.7510048597350947, 2.399839575513397, 1.6693749794183148, 5.1932533498246505, 1.4624844295740944, 1.5447777897163169, 3.71882730021991, 1.1977648764615736, 1.3262206716311546, 6.035669362672895, 1.7746818109541092, 6.320599121364785, 3.038176566053587, 4.41860684411218, 6.444382086591346, 2.5183200404798405, 6.287061105912571, 3.4640970586861584, 6.650332325372611, 2.5387188675268266, 5.987317190014746, 3.7655467024110787, 4.658187121218002, 10.941521555007588, 5.188048210780297, 3.90194874886936, 6.877688304453192, 7.646776832041725, 4.624549456688555, 6.023112562114443, 4.982243378305604, 4.839640464651147, 4.88978479545848, 3.9598451169475233, 18.25630972869784, 16.36545608026272, 8.21529972808973, 4.496463110848192, 4.306161257754444, 10.299153592972981, 2.9094734550435972, 3.336457073536827, 3.7031947121170763, 2.5665286773634968, 3.853642806342163, 3.9726911566051357, 2.2665453742071797, 2.043841284243319, 3.3742099355431865, 1.9700892739368723, 2.5335936150801963, 1.73024541033024, 1.666169415593807, 3.1303907073831305, 3.697648186196809, 1.384952542369517, 3.765704489355033, 1.622695385517137, 2.4187257999078535, 1.8055443570485343, 4.209809218387951, 1.7388573818310948, 6.592068056451547, 5.762551214857967, 3.855680668882794, 8.107902592405857, 3.189705756882718, 8.36746754692607, 7.85218050676685, 12.56200861663806, 8.528955052019915, 8.02257439072277, 7.021337719677402, 4.293710125273659, 3.6614296537379625, 3.616668611128809, 4.823346743366361, 4.451019567211057, 4.131184407822869, 4.438322724472463, 4.084401817438693, 4.494961658025316, 4.109194575715947, 3.9575184245886463, 11.892463720089651, 6.649198228748764, 7.449535230568907, 5.310361689266906, 14.204157880551922, 4.600610354166464, 3.2414533354080137, 6.595611610891727, 3.0738045484431487, 3.708316547177626, 3.646659874257394, 7.665656449287981, 3.1602680769612195, 2.450357137196064, 3.0207210271215583, 2.8062545575038413, 2.4482278176514765, 12.546246862262262, 4.3614268507784635, 4.666118992547171, 3.1281396815298206, 2.3399708261860224, 1.9128723975834723, 3.8971656429740436, 11.296353263792987, 1.3180034156802756, 1.5507647762744192, 1.4095946860887973, 1.547411192292825, 2.134529917844323, 4.777378296280154, 12.199920299522201, 6.7744438047694135, 2.167613583735716, 5.020768101629462, 3.422018076820374, 8.103626265935187, 6.409063226946022, 5.925794918871087, 8.550569306730544, 3.706209388398892, 3.6444595931115087, 4.330164139732331, 4.6219827625626255, 4.51656541391322, 3.5017272868096105, 4.018168846850666, 3.7807339221896594, 3.6460759145018646, 22.676897666245402, 7.905123498285175, 4.452590834226015, 4.112319659292843, 4.127594103846664, 4.6476026555993215, 3.573245360291335, 3.4482596544865314, 3.387066238117448, 3.22897730751391, 2.9400328794160524, 2.716218502870926, 2.8396831400972675, 4.794974956017912, 2.945332827105839, 3.3097303671859066, 4.909348811673917, 3.9234917353102605, 3.249889011775456, 2.1841522771149537, 5.3069920961544605, 3.7067576294405, 2.494514729112126, 4.654432813749919, 1.8131421088027369, 5.733635306702659, 1.86169745884299, 5.596631307310812, 2.2387776026274326, 1.632538831639772, 8.600545082099194, 7.079856243365496, 6.347353309487667, 5.940014472758341, 11.081341596321916, 4.446107129975705, 3.6328759835932884, 4.242180332461844, 4.287164957019632, 3.599501549618213, 3.6163751203613184, 3.5585044266150887, 3.5056880217714323, 8.559227981354361, 6.802419519166296, 7.173265376182676, 5.2474733647494345, 8.914654662065002, 3.8024495678774612, 3.736667066263189, 3.9472059572805516, 3.487502967409433, 4.255231371336843, 3.6458511899981896, 5.871068142620916, 8.157274493667034, 2.540568626872657, 4.375144777706857, 3.1914093011824796, 2.4944145062824044, 2.4141527568466135, 5.931898148790892, 2.229505506459907, 9.614229807029806, 2.150526991900308, 2.0668974160128135, 1.8726040425627282, 5.048987211617341, 2.2226446994068665, 2.7249750538401964, 5.734411378147557, 2.939240808721891, 4.13658662551506, 7.8452062073020485, 8.399997664916151, 3.4826018291208087, 9.225663417921073, 4.391804853936138, 6.364764017422197, 3.9884813794204694, 10.121494149824308, 8.673167763968648, 4.708291706397259, 4.184603252683322, 4.345666233028003, 3.757832460540754, 13.772481422621654, 9.50596052668099, 5.816527966845898, 4.323377609370599, 5.0095683063776395, 4.18432898043947, 4.571653435040837, 5.035439377840835, 9.745126572688296, 10.338211465499857, 4.5141498870299515, 3.0075819887832838, 4.050396771431702, 3.690711433638455, 3.4782655739677644, 8.796845808688932, 4.039713135504616, 3.545071010125058, 3.439270557129128, 4.275303790650964, 2.95675946986083, 2.836099622168807, 1.6944981955911878, 5.226647193867059, 9.539840973016082, 2.7466757816512324, 1.097893394513175, 2.1535298579857147, 1.524788151104962, 2.9119545006675067, 3.9070778321434267, 7.852427557977094, 8.68358733910401, 5.828658773779682, 7.231055326711602, 4.861412671913303, 5.108398064906321, 6.101848596157885, 5.338729432448454, 6.351844382257808, 5.735358318148477, 4.651307484198335, 4.916795860104151, 4.943473740962454, 4.151211419778836, 4.292452535902862, 12.45282543016467, 11.602481275380562, 10.01659914363006, 8.859662365814462, 6.0805996542297605, 7.24808261563858, 4.74908474260455, 14.804936361963948, 3.536086887237696, 3.906734327305289, 3.2951268941238245, 3.2215570447414725, 3.6647906597613438, 2.965821135809086, 2.912554408052295, 3.3008367726358805, 2.887202918230099, 2.8308936047505, 5.272524335608467, 8.5720948337137, 2.7710246604040845, 2.64029023659776, 2.724953383368042, 3.7355724895914832, 2.238690398794695, 3.2133923887158002, 2.0324086031422492, 2.4234073198925414, 2.2994051087221052, 1.9350793198642884, 3.041652464236263, 5.630890201385241, 4.265336220686061, 6.886170005559576, 3.635853539863078, 3.625799984765176, 3.3856966090761613, 3.3870521852385895, 5.7412774179503145, 5.416423402499881, 4.6040968740456485, 3.190601707964955, 4.547344443608352, 3.5535187918414364, 4.001640936441058, 3.6449105339663195, 3.5514094646907597, 3.347526830852138, 6.154704474201685, 5.277098664504403, 8.167340963288291, 6.219249177668014, 14.957251023597424, 3.206852234320491, 6.692563854636067, 2.9066197412683445, 3.181011044315047, 2.8495203485737486, 2.7871527597623444, 3.0708946290555095, 5.363284524145283, 2.0904830179476726, 18.85962751558586, 2.752079787818356, 1.6406562569602827, 2.442126928315853, 2.3079026774611244, 1.6832616108149216, 1.633076921629805, 1.360035053145312, 1.704328904309429, 1.5014607707585397, 1.3916516258502378, 1.4937895456804275, 4.2854590227210005, 1.9231636659364488, 4.499346978226597, 1.663264384637682, 3.379161647870927, 4.6279625926555985, 4.164671518305095, 4.187997170438717, 3.609631220397796, 3.6871377571926147, 9.479434221515438, 4.717163780746897, 9.522486137131446, 9.993329204009473, 4.6770128917001035, 3.3859029935272473, 5.1984069740864385, 5.282814206807255, 5.000962352737992, 6.586416852352994, 5.220247598249755, 4.042226860733074, 4.536272761252762, 3.5412500079070677, 3.4242311037508464, 7.832980039235537, 5.240314647935357, 4.871589072459648, 4.361407327539357, 4.350797001690214, 5.832884682561605, 5.3726139668642094, 3.7325854932111495, 11.469768414793764, 3.5636920562314156, 5.6397236740270795, 2.7863439552006226, 6.10527971449618, 2.3316409273174097, 1.8815469636170448, 2.187038867675908, 1.7161681860536433, 2.2662706868367493, 1.8150143175903182, 1.7517928797010736, 2.6227536973301735, 3.00327195256592, 3.838680375593595, 1.3453928885388953, 1.9466326368160187, 5.914473715130931, 2.0284048416634857, 1.455785486316132, 1.2606970910185826, 2.051728998837474, 2.2398495735762465, 9.421056799007413, 7.7128728082111175, 4.37148731343518, 4.354150972068322, 6.00406369517558, 3.572912829684161, 3.118718319786115, 8.20602460101439, 3.488067033685779, 5.125455710463957, 4.238430177066795, 7.002694268126054, 6.325108049810685, 5.163518072250943, 4.11717541911096, 3.60981840673506, 3.3113831540750356, 8.93587953627925, 5.419184107557047, 6.116195334798975, 6.144102983426304, 4.176423026734329, 4.397181310260085, 3.329768192605473, 10.286180104059037, 4.647677730916102, 3.7022590825032844, 3.4271976287233223, 2.882450631902608, 2.687060315890404, 3.4719178653711804, 5.3751600838891305, 2.295338300080067, 2.3991263131602385, 1.8341392043967732, 4.0450475292558234, 6.804317678142677, 4.17260340979518, 2.0709835771576706, 6.93834246250705, 2.7810204048308917, 2.244017740844278, 3.361509879984069, 1.9631419532367538, 2.036814698799808, 1.7673741462923906, 1.9164075302541252, 5.009022362774097, 3.2299169736879008, 5.612807030494331, 4.700376835117611, 4.017221003321651, 5.634382061421149, 5.324971817177166, 3.885190034482433, 4.0937031178850685, 3.4512856604115023, 3.176098376320821, 3.25583513333371, 3.424487049135959], \"Total\": [51.0, 60.0, 38.0, 36.0, 38.0, 48.0, 28.0, 34.0, 25.0, 28.0, 30.0, 19.0, 27.0, 21.0, 17.0, 19.0, 28.0, 29.0, 17.0, 18.0, 22.0, 54.0, 17.0, 37.0, 15.0, 27.0, 13.0, 17.0, 18.0, 35.0, 9.17905910898481, 6.549952527171057, 7.542050385049645, 5.387731693215194, 5.196532277469381, 7.241989494815504, 4.891639422358122, 7.62709478457736, 5.34175350879368, 5.374683238951503, 12.645987260445658, 4.450500855593605, 5.5439635740109825, 8.222747078401712, 6.590213821905194, 3.9310517306799353, 3.583554481513124, 6.8432980276764805, 3.3673349148741316, 4.299017391368634, 3.134301071152438, 4.218148584533159, 6.790221797332497, 5.764994110300854, 5.383236934450512, 2.580822394557196, 7.8207928294667335, 5.2640193905220665, 3.926222336957916, 12.0615936119117, 21.5585715193876, 13.229176929668714, 7.415898560948567, 7.424110931013, 13.47719469056331, 18.12911526828229, 10.318778233352841, 8.269759787157392, 12.829495325850624, 15.815694963949888, 32.60226755637682, 16.92958687117134, 38.97701324235501, 43.19465626891632, 104.72828570140636, 23.47830443043479, 20.060703348884307, 69.4475559318997, 22.197958592895926, 91.7451542492923, 35.66677679641666, 17.86788291386828, 36.35047243589316, 38.927570414689335, 8.403966804660362, 6.744264168077572, 4.770109494961073, 11.604173161003631, 4.392406855433652, 4.248769746711322, 4.7211521034233686, 4.645669551128595, 6.781049555053317, 4.59662386077176, 3.793611258885003, 4.694572112482062, 4.841274881278273, 5.191548994150943, 3.2237174336389094, 3.180358217617934, 4.2180293830099105, 2.7358645235792434, 3.096461471349814, 3.5638219490120657, 3.7911962219906523, 2.2096470374908384, 2.2088588729000547, 3.6344316433036314, 2.0977460486858073, 6.809952440272128, 10.477319529411083, 5.477950530139324, 29.98425011167069, 8.150223022671842, 9.443246583596936, 22.84993764012127, 10.259967910856531, 7.710194228729126, 11.356006029097028, 53.635204391946615, 16.844089978042167, 27.640767256438366, 29.156981443128075, 33.06124495960091, 16.813212893832496, 104.72828570140636, 69.4475559318997, 41.04761974049692, 64.84988870239552, 23.165433807390514, 48.22256134177108, 38.97701324235501, 38.37815127501711, 5.672365484560993, 14.221983592487957, 4.534526819765704, 5.5880200675385625, 4.558400788878413, 3.8312275826919917, 4.4477198753451646, 5.909437287663066, 4.342017913703686, 3.917312301744116, 4.179682709860147, 7.813803291096767, 3.334282884747004, 5.572144713319684, 12.82538381713388, 5.075866115492405, 5.3836629169065215, 3.4367412832551842, 2.8778751566359126, 7.507903758064731, 3.4308315621195535, 3.819260838397022, 13.012911136586494, 5.044887267554983, 4.939189586220327, 2.172048225832605, 3.490911931946375, 2.8766994440015754, 2.5361026785922127, 5.417330393588891, 4.78376811051981, 5.5499515598068125, 29.98425011167069, 25.71262166324305, 91.7451542492923, 17.542480035820006, 12.556902021730732, 14.57924874375341, 19.49359911331082, 18.403452423510508, 36.614546929825245, 18.470610791946264, 37.94074875403701, 13.949196714147279, 46.66103883459099, 23.052762295925493, 44.92565277456091, 30.610742159117823, 32.60226755637682, 48.54381286030399, 104.72828570140636, 27.640767256438366, 26.514340608346238, 37.91452033329418, 10.907248142461748, 6.113415391536598, 21.170457923767458, 5.115359856154866, 5.811639076403508, 4.961720687171726, 4.791165017698898, 4.873316667035375, 4.36582418204513, 6.322096382026883, 4.523241440813357, 4.222625337380616, 4.351285146128591, 5.934214169055546, 15.640110547831922, 9.941483966412536, 4.58072010313801, 6.3860709829890405, 4.102125665509891, 4.551767823545585, 4.919068709421425, 2.900790094142203, 3.2961759355609495, 14.784680229820246, 9.440909847075968, 2.742906202272893, 3.241515446601726, 2.75523270845728, 5.361688775340754, 2.906413818324199, 7.722131403252586, 8.629446496459014, 12.685758233475193, 13.448002714890091, 14.5531815628884, 30.62393702845071, 23.47830443043479, 31.992332073824016, 104.72828570140636, 91.7451542492923, 64.84988870239552, 87.74679965096436, 48.22256134177108, 22.648687539179978, 22.197958592895926, 74.73524002474761, 48.54755042204926, 46.66103883459099, 8.946316791754342, 6.6774044812312106, 6.286134917232506, 7.858387883416769, 6.568101590992107, 7.357097397496393, 3.860146266337915, 5.319096226444348, 11.881449973042677, 4.071641477412442, 9.073251821635912, 5.377333326412538, 3.859372069196943, 5.6742092007797575, 60.96273051753457, 3.8925471973421355, 4.097470333748584, 2.934029393977232, 2.8586850678156144, 11.919652134812456, 3.5509794917973068, 4.231498639750549, 3.890727273788927, 2.7367708162020925, 3.047611503871694, 7.05742926620202, 2.1392555566097533, 3.3620287612725477, 7.83775487645121, 2.5516947488885893, 9.483473188045869, 13.949196714147279, 37.836747129054494, 10.525196610655014, 9.970310439495762, 7.957237582949553, 12.372228574946346, 6.235923076871348, 9.749150262607644, 8.474136403615425, 12.063833372753216, 69.4475559318997, 91.7451542492923, 27.438955371455563, 14.190315410244043, 8.49393640196253, 74.73524002474761, 40.90709579186446, 24.0773030519913, 10.328473892497207, 10.131325649982644, 8.13814095237747, 7.888085177042344, 10.132107631933273, 5.414532849618521, 5.828189251648309, 4.259671068727922, 4.248413911815234, 4.133648424862288, 3.2314488646846815, 5.195292230922618, 7.1954291528916245, 6.930515315800913, 11.141015775546196, 3.398480878590088, 4.0093356443326655, 2.9747228112968496, 9.48374692500394, 10.630091413731003, 2.230231133879913, 3.268072204726919, 6.724474186120646, 2.0521518208126115, 4.065775596433411, 3.4104391701085266, 4.590544197811309, 6.174151326784048, 5.726090593949739, 6.130727230045219, 17.542480035820006, 13.569235649906624, 7.496768244001836, 13.70900036912942, 12.871396015957908, 7.534217288711208, 10.026405348786843, 9.999918077780652, 46.66103883459099, 16.788890056892555, 11.149140892429902, 16.45134989069343, 69.4475559318997, 16.35532068790608, 48.54755042204926, 32.897891905054, 104.72828570140636, 87.74679965096436, 74.73524002474761, 38.97701324235501, 7.934392418931711, 8.90218701882731, 34.155723963312255, 5.629399757966538, 4.268447681791795, 4.552355145733802, 3.7407214615684437, 3.6590215616404795, 22.96367362269742, 10.701755550634289, 8.700260455401185, 9.059822705091621, 3.502956171284546, 3.851499788467278, 5.1600403731925395, 3.2831550072049995, 6.4327304958187135, 48.71462568100354, 3.807832850407385, 3.4326780968897825, 3.1072046708615804, 2.5108646397415177, 2.183716567975492, 6.512535462256466, 2.182868010570585, 27.04984463385976, 2.7721725103589945, 2.3028876006350947, 5.7064209214139545, 22.41313962181925, 5.142212014046804, 19.72820194828079, 8.805408419663612, 9.814449608140393, 44.92565277456091, 19.49175390213467, 30.65342627055785, 56.92231395972959, 11.661443739043822, 25.71262166324305, 87.74679965096436, 17.73952691528278, 64.84988870239552, 40.90709579186446, 25.44655954867226, 48.54755042204926, 21.135259282802085, 104.72828570140636, 7.266460145287963, 7.0593607275512875, 8.067966429980986, 7.227169072968047, 5.752951454217702, 5.7471248070130425, 5.649523557270183, 14.308733937559998, 9.30190210015206, 4.3047525374529245, 3.8451467267050194, 7.452390960305009, 7.4573900286510435, 4.506832681893396, 8.495602592421504, 3.367990138747425, 16.384913307253374, 4.186112323119242, 4.527301040687805, 5.808024491693721, 6.274697778692333, 5.896908350713803, 3.2060042812687124, 13.02977825608268, 3.0455885394890223, 3.306708756774852, 3.964675399634106, 7.651941088713964, 2.1404087943431502, 3.864636287839092, 9.754434373770394, 6.9755533788985735, 11.984538232096776, 6.168385204055039, 18.470610791946264, 9.754398405773879, 12.810392023574446, 12.685758233475193, 23.028386864943943, 9.108463209757867, 11.668921040832906, 104.72828570140636, 22.648687539179978, 69.4475559318997, 29.461691395021163, 37.94074875403701, 6.335540398170053, 6.100530181414249, 5.955213188134175, 5.340813900805256, 5.87714002739168, 7.660457404156618, 8.466884136885037, 6.0410788123653125, 15.907921559751628, 9.06394567627388, 5.650548918071881, 6.494201613040725, 4.132169540703129, 3.5671280781237127, 7.81786445920859, 4.621636883455728, 6.459382274233626, 27.929344823567117, 2.7629126538618864, 5.2339341376144715, 3.1461163905534226, 28.781725322701263, 3.8097875887270547, 13.418716225004223, 3.2790195646460867, 2.4708062107886017, 7.0153340276982, 8.557833951697843, 4.606454697683886, 2.6442235265162446, 10.27904765723311, 26.193483838425678, 21.515846499070136, 26.220632363207866, 31.782083136907943, 64.26312727870663, 20.71116279795921, 18.293877035336244, 74.73524002474761, 33.06124495960091, 30.610742159117823, 46.66103883459099, 87.74679965096436, 104.72828570140636, 7.837261728069545, 5.176430939074278, 4.84304375454958, 5.5767556875716195, 14.31562872392928, 4.461913007635727, 4.9180701623824, 7.904147321276928, 6.648840368780705, 8.89154159421405, 5.2382151185872186, 7.0015897179781, 9.652000337567431, 7.697556970962628, 4.015169678415422, 2.858110901620155, 2.83230754034581, 2.7423379613127, 3.1168038307108645, 4.151129685319513, 16.836084773573187, 2.8832393188420493, 4.279605611024821, 2.421274167745823, 3.431577304116047, 3.0888013737491486, 2.4478839830895773, 3.090034544835675, 3.1738501561381787, 4.705196104888511, 10.320232466656895, 5.317286782351915, 54.63712963911597, 15.189158292399839, 16.92958687117134, 35.66677679641666, 27.438955371455563, 29.461691395021163, 41.04761974049692, 4.280055828491781, 56.92231395972959, 10.27904765723311, 19.976436149425723, 87.74679965096436, 21.5585715193876, 46.66103883459099, 38.72329520213403, 48.54755042204926, 74.73524002474761, 104.72828570140636, 31.45666805234331, 38.97701324235501, 28.48846614775364, 51.14954600413866, 5.0197614629429514, 4.885399471639987, 14.37695180437554, 4.750801469476571, 17.79479456293054, 30.363008265940028, 3.3578171962820056, 3.2884581190529993, 6.281343235155706, 5.896444830642978, 7.642921795648319, 2.74013487930443, 12.006863161906194, 2.8105077253526036, 2.4049925314867386, 2.8437435350895006, 3.940725753127835, 2.781720819298222, 8.710799244136025, 2.470950909806102, 2.6800300277847087, 6.472170538944991, 2.088535324682244, 2.3883922518090834, 11.189923445958136, 3.30811075651226, 11.790795395364551, 5.839475172994051, 8.7048428190925, 14.392928911659121, 5.109962865398942, 16.788890056892555, 7.748503910980705, 18.293877035336244, 5.31955509739042, 24.342648835179336, 10.852502592589465, 16.813212893832496, 87.74679965096436, 22.197958592895926, 12.813052208770822, 60.96273051753457, 104.72828570140636, 26.83424113995334, 91.7451542492923, 48.22256134177108, 64.84988870239552, 74.73524002474761, 22.84993764012127, 19.244243997411534, 17.25845012425402, 9.235231787941528, 5.389457019786066, 5.199155152681295, 12.623894650905669, 3.8024673535825975, 4.440062295226928, 5.018437016677617, 3.5198913816472075, 5.344290221340283, 5.542990196168988, 3.230176643958155, 2.936835186276908, 4.88344090507616, 2.8630831886020256, 3.7207833145263267, 2.6232393089197052, 2.559163314890648, 5.060369716129459, 6.007745989389445, 2.27794646765969, 6.2072505931788164, 2.7751613805679916, 4.143640801391109, 3.147392055604918, 7.4219145126732124, 3.090037128382373, 11.787441822390235, 10.533580388287575, 7.754258912152254, 23.92453712348204, 7.14206797293524, 28.07646343135679, 35.66677679641666, 87.74679965096436, 48.71462568100354, 69.4475559318997, 54.63712963911597, 20.71116279795921, 14.238104584972481, 14.158114314389412, 48.22256134177108, 35.64798177464014, 27.04984463385976, 43.19465626891632, 26.514340608346238, 104.72828570140636, 64.26312727870663, 40.90709579186446, 13.017612898802554, 7.79233344231775, 8.786163641362194, 6.2672891191650075, 17.075902084800482, 5.5470076223018845, 4.130249724689273, 8.413887807166175, 3.962600943703178, 4.835592132850653, 4.766083900177554, 10.178049834898374, 4.213303742648446, 3.3780068565623766, 4.170654148992686, 3.9232127940178683, 3.524444725305592, 18.207459812862833, 6.354622822825949, 6.80685113008022, 4.568842405865807, 3.510003383980116, 2.8898028985389668, 6.124518674346997, 18.008784978818397, 2.206799802664517, 2.6078118172460814, 2.4206359819498533, 2.7353264134403394, 3.7953060944348955, 8.535753420957734, 22.009697304611997, 13.213029832989882, 3.858388586011553, 10.086344419233834, 6.939114637392692, 26.220632363207866, 21.175027796981624, 24.236330600347273, 56.58037534600685, 9.293758583695814, 9.749150262607644, 27.929344823567117, 43.19465626891632, 41.04761974049692, 8.567967304151477, 69.4475559318997, 31.225426591342046, 21.504763035347825, 25.427258319025327, 8.984010212013468, 5.408784397389373, 5.001179464649016, 5.120846674804436, 5.792729388565949, 4.462105153801646, 4.3371194519770535, 4.275926031627759, 4.117837104526117, 3.8288926814370443, 3.6050783926712406, 3.8292249149800384, 6.54980047550626, 4.026060449731388, 4.524568472581164, 6.839032625113194, 5.475588009532431, 4.543657133712272, 3.073012070625266, 7.7341307091175, 5.4920067020422465, 3.748438700199255, 7.014852385128744, 2.782629975339812, 8.998861134112625, 3.0637169951416805, 9.27796911953998, 3.7476233169925965, 2.7988622358667543, 15.815694963949888, 13.718179283925968, 13.405934978114677, 14.190315410244043, 36.0579567225975, 10.521113834865686, 8.084162808913508, 15.168441605657033, 29.156981443128075, 13.541946774528498, 69.4475559318997, 56.58037534600685, 64.26312727870663, 9.441473122564512, 7.684664653875112, 8.411074343502966, 6.318012291603542, 10.916136769070782, 4.684694698500974, 4.618912199183721, 4.912635158754262, 4.369748098032946, 5.513674547493391, 4.7901259086984025, 7.845475793516858, 10.979267281583956, 3.4228137615814735, 5.925207085880585, 4.352481786934485, 3.4442499052500044, 3.347544213672704, 8.273726124401067, 3.111750644882818, 14.046934148982801, 3.1432682930238838, 3.2852037992099867, 3.009745796175625, 8.338299865170328, 3.7397824953222676, 4.764157655614286, 10.043928432222303, 5.192911533282954, 7.361363858826405, 16.76383609839165, 18.200229134677492, 6.597828465612351, 30.65342627055785, 11.356006029097028, 25.44655954867226, 10.188119989114059, 104.72828570140636, 91.7451542492923, 21.595044298860802, 31.992332073824016, 48.71462568100354, 19.712191258817377, 15.389848098313754, 10.780977316052873, 6.838556459126785, 5.2091451124687564, 6.053219354198248, 5.070096596154566, 5.546100218578691, 6.240144603781224, 12.193063064641551, 13.10802377204227, 5.8250123842134025, 3.8933494876941923, 5.302288780427932, 4.840800455150475, 4.661724972595276, 11.816098281207251, 5.427024912074924, 4.879119221248922, 4.756739623360581, 6.02561084961932, 4.210300424539935, 4.12624184427911, 2.580265710769844, 8.632506654183508, 16.030383122858535, 4.802732023956151, 1.9836609299991073, 3.911414204059674, 2.821260018175169, 5.477265164679939, 7.695367593997276, 18.1255245746347, 21.135259282802085, 13.348265104694022, 18.976807285400493, 12.518687871191348, 22.928872149584965, 40.90709579186446, 26.83424113995334, 56.58037534600685, 53.635204391946615, 19.114818728639523, 35.64798177464014, 74.73524002474761, 14.238104584972481, 104.72828570140636, 13.621599686849327, 13.003504356756226, 11.27614825154104, 10.066620236526683, 6.967235529586436, 8.481898811005319, 5.755394437343429, 18.189746980961928, 4.422722763065009, 4.9565668344131595, 4.1817627814905585, 4.108192938578376, 4.697660192792467, 3.852457036469075, 3.799190291874977, 4.366792501075738, 3.8548891402437055, 3.8103980484004274, 7.120111731470589, 11.617178286760575, 3.759340180683329, 3.603457642215024, 3.727614637515631, 5.214314406379685, 3.192821101418737, 4.755078262833747, 3.0409864649410903, 3.6289478069029224, 3.5325780224433045, 3.0568412228176403, 4.875019970813087, 9.699388055650541, 7.1161402190398215, 15.80779131244591, 6.451478841960072, 7.141490084070403, 6.402067301656183, 6.7099868722505835, 31.992332073824016, 31.45666805234331, 30.62393702845071, 6.369788768491126, 87.74679965096436, 17.05830876019207, 104.72828570140636, 35.66677679641666, 37.94074875403701, 31.225426591342046, 7.044397435974017, 6.166791621639578, 9.725917976271099, 7.716969340999405, 19.045748769072546, 4.096545136189296, 8.692966939882364, 3.796312650871352, 4.2496245579313205, 3.839620673460803, 3.940941134590347, 4.396909993000837, 7.725272985487778, 3.059600995346208, 28.07646343135679, 4.14733257384169, 2.530349148794286, 3.825007261324273, 3.619511217733901, 2.8767013117708315, 2.819341897602494, 2.399351439460904, 3.04544254732606, 2.6877860071227473, 2.524086079212361, 2.717002945431874, 7.872658582329339, 3.550787499055288, 8.44122770007909, 3.163730852132206, 6.44986033544098, 9.231496082495157, 8.45565927633878, 8.640736270032406, 7.319245245075714, 7.553756441175917, 23.055916607381267, 11.09599271070392, 29.156981443128075, 36.614546929825245, 12.25098187346836, 7.54629414031505, 18.293877035336244, 21.504763035347825, 22.648687539179978, 64.26312727870663, 44.92565277456091, 37.91452033329418, 104.72828570140636, 56.58037534600685, 23.92453712348204, 9.141504978089, 6.1253629170920405, 5.817858099015544, 5.246455468181902, 5.235845154416161, 7.209455223079047, 6.668287108914494, 4.702469065961103, 14.719246946429646, 4.736056771768127, 7.732528799769464, 3.823152213919377, 8.448663903811408, 3.3756113907500422, 2.766595108344893, 3.2986442222922903, 2.601216338916898, 3.4818483413360055, 2.789261321142647, 2.7177492269640324, 4.149873359073916, 4.839126529803888, 6.204788797094399, 2.2304410327961057, 3.2433658931021085, 9.896623517719135, 3.4250945567154827, 2.535053914968904, 2.2091704138985246, 3.600761183285694, 4.078084453335211, 19.49175390213467, 16.844089978042167, 9.129419666887163, 12.930779760108253, 22.648687539179978, 9.661695482469682, 7.962563874578861, 53.635204391946615, 10.07901679337795, 23.028386864943943, 17.05830876019207, 74.73524002474761, 91.7451542492923, 48.54381286030399, 104.72828570140636, 38.72329520213403, 46.92902644745687, 9.819318139610997, 6.302622696707232, 7.353290949840326, 7.408463532838453, 5.059861615884514, 5.462575851385415, 4.213206781755658, 13.106892803107286, 6.0464594536538385, 4.872313524467964, 4.575687943874822, 3.9321378065702692, 3.7168147555683912, 4.818046075200337, 7.5753918736670816, 3.2717729805384668, 3.6057847870543216, 2.768911612622537, 6.161140454228257, 10.652314259652819, 6.538145373664006, 3.2976866661903372, 11.45268352065182, 4.85796693310671, 3.9343605042700647, 6.00775304188153, 3.5379687521160976, 3.685981585633372, 3.2342282852346216, 3.630690432962295, 9.836919212024322, 6.659530923008543, 13.569235649906624, 10.852502592589465, 9.840328208541864, 17.833940297085487, 16.58331855366819, 12.520169977246796, 16.65188756573159, 18.12911526828229, 15.156768644861344, 19.72820194828079, 37.91452033329418], \"Category\": [\"Default\", \"Default\", \"Default\", \"Default\", \"Default\", \"Default\", \"Default\", \"Default\", \"Default\", \"Default\", \"Default\", \"Default\", \"Default\", \"Default\", \"Default\", \"Default\", \"Default\", \"Default\", \"Default\", \"Default\", \"Default\", \"Default\", \"Default\", \"Default\", \"Default\", \"Default\", \"Default\", \"Default\", \"Default\", \"Default\", \"Topic1\", \"Topic1\", \"Topic1\", \"Topic1\", \"Topic1\", \"Topic1\", \"Topic1\", \"Topic1\", \"Topic1\", \"Topic1\", \"Topic1\", \"Topic1\", \"Topic1\", \"Topic1\", \"Topic1\", \"Topic1\", \"Topic1\", \"Topic1\", \"Topic1\", \"Topic1\", \"Topic1\", \"Topic1\", \"Topic1\", \"Topic1\", \"Topic1\", \"Topic1\", \"Topic1\", \"Topic1\", \"Topic1\", \"Topic1\", \"Topic1\", \"Topic1\", \"Topic1\", \"Topic1\", \"Topic1\", \"Topic1\", \"Topic1\", \"Topic1\", \"Topic1\", \"Topic1\", \"Topic1\", \"Topic1\", \"Topic1\", \"Topic1\", \"Topic1\", \"Topic1\", \"Topic1\", \"Topic1\", \"Topic1\", \"Topic1\", \"Topic1\", \"Topic2\", \"Topic2\", \"Topic2\", \"Topic2\", \"Topic2\", \"Topic2\", \"Topic2\", \"Topic2\", \"Topic2\", \"Topic2\", \"Topic2\", \"Topic2\", \"Topic2\", \"Topic2\", \"Topic2\", \"Topic2\", \"Topic2\", \"Topic2\", \"Topic2\", \"Topic2\", \"Topic2\", \"Topic2\", \"Topic2\", \"Topic2\", \"Topic2\", \"Topic2\", \"Topic2\", \"Topic2\", \"Topic2\", \"Topic2\", \"Topic2\", \"Topic2\", \"Topic2\", \"Topic2\", \"Topic2\", \"Topic2\", \"Topic2\", \"Topic2\", \"Topic2\", \"Topic2\", \"Topic2\", \"Topic2\", \"Topic2\", \"Topic2\", \"Topic2\", \"Topic2\", \"Topic2\", \"Topic2\", \"Topic2\", \"Topic2\", \"Topic2\", \"Topic3\", \"Topic3\", \"Topic3\", \"Topic3\", \"Topic3\", \"Topic3\", \"Topic3\", \"Topic3\", \"Topic3\", \"Topic3\", \"Topic3\", \"Topic3\", \"Topic3\", \"Topic3\", \"Topic3\", \"Topic3\", \"Topic3\", \"Topic3\", \"Topic3\", \"Topic3\", \"Topic3\", \"Topic3\", \"Topic3\", \"Topic3\", \"Topic3\", \"Topic3\", \"Topic3\", \"Topic3\", \"Topic3\", \"Topic3\", \"Topic3\", \"Topic3\", \"Topic3\", \"Topic3\", \"Topic3\", \"Topic3\", \"Topic3\", \"Topic3\", \"Topic3\", \"Topic3\", \"Topic3\", \"Topic3\", \"Topic3\", \"Topic3\", \"Topic3\", \"Topic3\", \"Topic3\", \"Topic3\", \"Topic3\", \"Topic3\", \"Topic3\", \"Topic3\", \"Topic3\", \"Topic3\", \"Topic3\", \"Topic4\", \"Topic4\", \"Topic4\", \"Topic4\", \"Topic4\", \"Topic4\", \"Topic4\", \"Topic4\", \"Topic4\", \"Topic4\", \"Topic4\", \"Topic4\", \"Topic4\", \"Topic4\", \"Topic4\", \"Topic4\", \"Topic4\", \"Topic4\", \"Topic4\", \"Topic4\", \"Topic4\", \"Topic4\", \"Topic4\", \"Topic4\", \"Topic4\", \"Topic4\", \"Topic4\", \"Topic4\", \"Topic4\", \"Topic4\", \"Topic4\", \"Topic4\", \"Topic4\", \"Topic4\", \"Topic4\", \"Topic4\", \"Topic4\", \"Topic4\", \"Topic4\", \"Topic4\", \"Topic4\", \"Topic4\", \"Topic4\", \"Topic4\", \"Topic4\", \"Topic4\", \"Topic4\", \"Topic4\", \"Topic5\", \"Topic5\", \"Topic5\", \"Topic5\", \"Topic5\", \"Topic5\", \"Topic5\", \"Topic5\", \"Topic5\", \"Topic5\", \"Topic5\", \"Topic5\", \"Topic5\", \"Topic5\", \"Topic5\", \"Topic5\", \"Topic5\", \"Topic5\", \"Topic5\", \"Topic5\", \"Topic5\", \"Topic5\", \"Topic5\", \"Topic5\", \"Topic5\", \"Topic5\", \"Topic5\", \"Topic5\", \"Topic5\", \"Topic5\", \"Topic5\", \"Topic5\", \"Topic5\", \"Topic5\", \"Topic5\", \"Topic5\", \"Topic5\", \"Topic5\", \"Topic5\", \"Topic5\", \"Topic5\", \"Topic5\", \"Topic5\", \"Topic5\", \"Topic5\", \"Topic5\", \"Topic5\", \"Topic5\", \"Topic5\", \"Topic6\", \"Topic6\", \"Topic6\", \"Topic6\", \"Topic6\", \"Topic6\", \"Topic6\", \"Topic6\", \"Topic6\", \"Topic6\", \"Topic6\", \"Topic6\", \"Topic6\", \"Topic6\", \"Topic6\", \"Topic6\", \"Topic6\", \"Topic6\", \"Topic6\", \"Topic6\", \"Topic6\", \"Topic6\", \"Topic6\", \"Topic6\", \"Topic6\", \"Topic6\", \"Topic6\", \"Topic6\", \"Topic6\", \"Topic6\", \"Topic6\", \"Topic6\", \"Topic6\", \"Topic6\", \"Topic6\", \"Topic6\", \"Topic6\", \"Topic6\", \"Topic6\", \"Topic6\", \"Topic6\", \"Topic6\", \"Topic6\", \"Topic6\", \"Topic6\", \"Topic6\", \"Topic6\", \"Topic6\", \"Topic6\", \"Topic6\", \"Topic7\", \"Topic7\", \"Topic7\", \"Topic7\", \"Topic7\", \"Topic7\", \"Topic7\", \"Topic7\", \"Topic7\", \"Topic7\", \"Topic7\", \"Topic7\", \"Topic7\", \"Topic7\", \"Topic7\", \"Topic7\", \"Topic7\", \"Topic7\", \"Topic7\", \"Topic7\", \"Topic7\", \"Topic7\", \"Topic7\", \"Topic7\", \"Topic7\", \"Topic7\", \"Topic7\", \"Topic7\", \"Topic7\", \"Topic7\", \"Topic7\", \"Topic7\", \"Topic7\", \"Topic7\", \"Topic7\", \"Topic7\", \"Topic7\", \"Topic7\", \"Topic7\", \"Topic7\", \"Topic7\", \"Topic7\", \"Topic7\", \"Topic7\", \"Topic7\", \"Topic7\", \"Topic7\", \"Topic7\", \"Topic8\", \"Topic8\", \"Topic8\", \"Topic8\", \"Topic8\", \"Topic8\", \"Topic8\", \"Topic8\", \"Topic8\", \"Topic8\", \"Topic8\", \"Topic8\", \"Topic8\", \"Topic8\", \"Topic8\", \"Topic8\", \"Topic8\", \"Topic8\", \"Topic8\", \"Topic8\", \"Topic8\", \"Topic8\", \"Topic8\", \"Topic8\", \"Topic8\", \"Topic8\", \"Topic8\", \"Topic8\", \"Topic8\", \"Topic8\", \"Topic8\", \"Topic8\", \"Topic8\", \"Topic8\", \"Topic8\", \"Topic8\", \"Topic8\", \"Topic8\", \"Topic8\", \"Topic8\", \"Topic8\", \"Topic8\", \"Topic8\", \"Topic8\", \"Topic8\", \"Topic8\", \"Topic9\", \"Topic9\", \"Topic9\", \"Topic9\", \"Topic9\", \"Topic9\", \"Topic9\", \"Topic9\", \"Topic9\", \"Topic9\", \"Topic9\", \"Topic9\", \"Topic9\", \"Topic9\", \"Topic9\", \"Topic9\", \"Topic9\", \"Topic9\", \"Topic9\", \"Topic9\", \"Topic9\", \"Topic9\", \"Topic9\", \"Topic9\", \"Topic9\", \"Topic9\", \"Topic9\", \"Topic9\", \"Topic9\", \"Topic9\", \"Topic9\", \"Topic9\", \"Topic9\", \"Topic9\", \"Topic9\", \"Topic9\", \"Topic9\", \"Topic9\", \"Topic9\", \"Topic9\", \"Topic9\", \"Topic9\", \"Topic9\", \"Topic9\", \"Topic10\", \"Topic10\", \"Topic10\", \"Topic10\", \"Topic10\", \"Topic10\", \"Topic10\", \"Topic10\", \"Topic10\", \"Topic10\", \"Topic10\", \"Topic10\", \"Topic10\", \"Topic10\", \"Topic10\", \"Topic10\", \"Topic10\", \"Topic10\", \"Topic10\", \"Topic10\", \"Topic10\", \"Topic10\", \"Topic10\", \"Topic10\", \"Topic10\", \"Topic10\", \"Topic10\", \"Topic10\", \"Topic10\", \"Topic10\", \"Topic10\", \"Topic10\", \"Topic10\", \"Topic10\", \"Topic10\", \"Topic10\", \"Topic10\", \"Topic10\", \"Topic10\", \"Topic10\", \"Topic10\", \"Topic10\", \"Topic10\", \"Topic10\", \"Topic10\", \"Topic10\", \"Topic10\", \"Topic10\", \"Topic10\", \"Topic10\", \"Topic10\", \"Topic10\", \"Topic11\", \"Topic11\", \"Topic11\", \"Topic11\", \"Topic11\", \"Topic11\", \"Topic11\", \"Topic11\", \"Topic11\", \"Topic11\", \"Topic11\", \"Topic11\", \"Topic11\", \"Topic11\", \"Topic11\", \"Topic11\", \"Topic11\", \"Topic11\", \"Topic11\", \"Topic11\", \"Topic11\", \"Topic11\", \"Topic11\", \"Topic11\", \"Topic11\", \"Topic11\", \"Topic11\", \"Topic11\", \"Topic11\", \"Topic11\", \"Topic11\", \"Topic11\", \"Topic11\", \"Topic11\", \"Topic11\", \"Topic11\", \"Topic11\", \"Topic11\", \"Topic11\", \"Topic11\", \"Topic11\", \"Topic11\", \"Topic11\", \"Topic11\", \"Topic11\", \"Topic11\", \"Topic11\", \"Topic11\", \"Topic11\", \"Topic11\", \"Topic11\", \"Topic12\", \"Topic12\", \"Topic12\", \"Topic12\", \"Topic12\", \"Topic12\", \"Topic12\", \"Topic12\", \"Topic12\", \"Topic12\", \"Topic12\", \"Topic12\", \"Topic12\", \"Topic12\", \"Topic12\", \"Topic12\", \"Topic12\", \"Topic12\", \"Topic12\", \"Topic12\", \"Topic12\", \"Topic12\", \"Topic12\", \"Topic12\", \"Topic12\", \"Topic12\", \"Topic12\", \"Topic12\", \"Topic12\", \"Topic12\", \"Topic12\", \"Topic12\", \"Topic12\", \"Topic12\", \"Topic12\", \"Topic12\", \"Topic12\", \"Topic12\", \"Topic12\", \"Topic12\", \"Topic12\", \"Topic12\", \"Topic12\", \"Topic12\", \"Topic12\", \"Topic12\", \"Topic12\", \"Topic12\", \"Topic12\", \"Topic12\", \"Topic13\", \"Topic13\", \"Topic13\", \"Topic13\", \"Topic13\", \"Topic13\", \"Topic13\", \"Topic13\", \"Topic13\", \"Topic13\", \"Topic13\", \"Topic13\", \"Topic13\", \"Topic13\", \"Topic13\", \"Topic13\", \"Topic13\", \"Topic13\", \"Topic13\", \"Topic13\", \"Topic13\", \"Topic13\", \"Topic13\", \"Topic13\", \"Topic13\", \"Topic13\", \"Topic13\", \"Topic13\", \"Topic13\", \"Topic13\", \"Topic13\", \"Topic13\", \"Topic13\", \"Topic13\", \"Topic13\", \"Topic13\", \"Topic13\", \"Topic13\", \"Topic13\", \"Topic13\", \"Topic13\", \"Topic13\", \"Topic13\", \"Topic13\", \"Topic13\", \"Topic13\", \"Topic13\", \"Topic13\", \"Topic13\", \"Topic14\", \"Topic14\", \"Topic14\", \"Topic14\", \"Topic14\", \"Topic14\", \"Topic14\", \"Topic14\", \"Topic14\", \"Topic14\", \"Topic14\", \"Topic14\", \"Topic14\", \"Topic14\", \"Topic14\", \"Topic14\", \"Topic14\", \"Topic14\", \"Topic14\", \"Topic14\", \"Topic14\", \"Topic14\", \"Topic14\", \"Topic14\", \"Topic14\", \"Topic14\", \"Topic14\", \"Topic14\", \"Topic14\", \"Topic14\", \"Topic14\", \"Topic14\", \"Topic14\", \"Topic14\", \"Topic14\", \"Topic14\", \"Topic14\", \"Topic14\", \"Topic14\", \"Topic14\", \"Topic14\", \"Topic14\", \"Topic14\", \"Topic15\", \"Topic15\", \"Topic15\", \"Topic15\", \"Topic15\", \"Topic15\", \"Topic15\", \"Topic15\", \"Topic15\", \"Topic15\", \"Topic15\", \"Topic15\", \"Topic15\", \"Topic15\", \"Topic15\", \"Topic15\", \"Topic15\", \"Topic15\", \"Topic15\", \"Topic15\", \"Topic15\", \"Topic15\", \"Topic15\", \"Topic15\", \"Topic15\", \"Topic15\", \"Topic15\", \"Topic15\", \"Topic15\", \"Topic15\", \"Topic15\", \"Topic15\", \"Topic15\", \"Topic15\", \"Topic15\", \"Topic15\", \"Topic15\", \"Topic15\", \"Topic15\", \"Topic15\", \"Topic15\", \"Topic15\", \"Topic15\", \"Topic16\", \"Topic16\", \"Topic16\", \"Topic16\", \"Topic16\", \"Topic16\", \"Topic16\", \"Topic16\", \"Topic16\", \"Topic16\", \"Topic16\", \"Topic16\", \"Topic16\", \"Topic16\", \"Topic16\", \"Topic16\", \"Topic16\", \"Topic16\", \"Topic16\", \"Topic16\", \"Topic16\", \"Topic16\", \"Topic16\", \"Topic16\", \"Topic16\", \"Topic16\", \"Topic16\", \"Topic16\", \"Topic16\", \"Topic16\", \"Topic16\", \"Topic16\", \"Topic16\", \"Topic16\", \"Topic16\", \"Topic16\", \"Topic16\", \"Topic16\", \"Topic16\", \"Topic16\", \"Topic16\", \"Topic16\", \"Topic16\", \"Topic16\", \"Topic16\", \"Topic16\", \"Topic17\", \"Topic17\", \"Topic17\", \"Topic17\", \"Topic17\", \"Topic17\", \"Topic17\", \"Topic17\", \"Topic17\", \"Topic17\", \"Topic17\", \"Topic17\", \"Topic17\", \"Topic17\", \"Topic17\", \"Topic17\", \"Topic17\", \"Topic17\", \"Topic17\", \"Topic17\", \"Topic17\", \"Topic17\", \"Topic17\", \"Topic17\", \"Topic17\", \"Topic17\", \"Topic17\", \"Topic17\", \"Topic17\", \"Topic17\", \"Topic17\", \"Topic17\", \"Topic17\", \"Topic17\", \"Topic17\", \"Topic17\", \"Topic17\", \"Topic17\", \"Topic17\", \"Topic17\", \"Topic17\", \"Topic17\", \"Topic17\", \"Topic17\", \"Topic17\", \"Topic17\", \"Topic17\", \"Topic17\", \"Topic18\", \"Topic18\", \"Topic18\", \"Topic18\", \"Topic18\", \"Topic18\", \"Topic18\", \"Topic18\", \"Topic18\", \"Topic18\", \"Topic18\", \"Topic18\", \"Topic18\", \"Topic18\", \"Topic18\", \"Topic18\", \"Topic18\", \"Topic18\", \"Topic18\", \"Topic18\", \"Topic18\", \"Topic18\", \"Topic18\", \"Topic18\", \"Topic18\", \"Topic18\", \"Topic18\", \"Topic18\", \"Topic18\", \"Topic18\", \"Topic18\", \"Topic18\", \"Topic18\", \"Topic18\", \"Topic18\", \"Topic18\", \"Topic18\", \"Topic18\", \"Topic18\", \"Topic18\", \"Topic18\", \"Topic18\", \"Topic18\", \"Topic18\", \"Topic18\", \"Topic18\", \"Topic18\", \"Topic18\", \"Topic18\", \"Topic18\", \"Topic18\", \"Topic19\", \"Topic19\", \"Topic19\", \"Topic19\", \"Topic19\", \"Topic19\", \"Topic19\", \"Topic19\", \"Topic19\", \"Topic19\", \"Topic19\", \"Topic19\", \"Topic19\", \"Topic19\", \"Topic19\", \"Topic19\", \"Topic19\", \"Topic19\", \"Topic19\", \"Topic19\", \"Topic19\", \"Topic19\", \"Topic19\", \"Topic19\", \"Topic19\", \"Topic19\", \"Topic19\", \"Topic19\", \"Topic19\", \"Topic19\", \"Topic19\", \"Topic19\", \"Topic19\", \"Topic19\", \"Topic19\", \"Topic19\", \"Topic19\", \"Topic19\", \"Topic19\", \"Topic19\", \"Topic19\", \"Topic19\", \"Topic19\", \"Topic19\", \"Topic19\", \"Topic19\", \"Topic19\", \"Topic19\", \"Topic20\", \"Topic20\", \"Topic20\", \"Topic20\", \"Topic20\", \"Topic20\", \"Topic20\", \"Topic20\", \"Topic20\", \"Topic20\", \"Topic20\", \"Topic20\", \"Topic20\", \"Topic20\", \"Topic20\", \"Topic20\", \"Topic20\", \"Topic20\", \"Topic20\", \"Topic20\", \"Topic20\", \"Topic20\", \"Topic20\", \"Topic20\", \"Topic20\", \"Topic20\", \"Topic20\", \"Topic20\", \"Topic20\", \"Topic20\", \"Topic20\", \"Topic20\", \"Topic20\", \"Topic20\", \"Topic20\", \"Topic20\", \"Topic20\", \"Topic20\", \"Topic20\", \"Topic20\", \"Topic20\", \"Topic20\", \"Topic20\"], \"logprob\": [30.0, 29.0, 28.0, 27.0, 26.0, 25.0, 24.0, 23.0, 22.0, 21.0, 20.0, 19.0, 18.0, 17.0, 16.0, 15.0, 14.0, 13.0, 12.0, 11.0, 10.0, 9.0, 8.0, 7.0, 6.0, 5.0, 4.0, 3.0, 2.0, 1.0, -4.4077, -4.789, -4.6581, -5.0186, -5.062, -4.7357, -5.1354, -4.6977, -5.06, -5.0543, -4.2064, -5.2521, -5.0379, -4.6449, -4.8816, -5.4095, -5.5307, -4.8961, -5.6142, -5.3854, -5.7128, -5.4167, -4.9726, -5.1503, -5.2274, -5.9954, -4.8972, -5.2964, -5.6074, -4.5026, -3.9722, -4.4524, -5.0163, -5.0277, -4.6868, -4.6012, -4.9628, -5.0764, -4.9207, -4.8447, -4.5863, -4.8404, -4.6189, -4.6823, -4.5568, -4.8354, -4.8701, -4.7061, -4.8666, -4.7423, -4.9282, -3.6415, -2.9336, -2.8837, -4.4415, -4.6816, -5.0933, -4.2139, -5.1959, -5.2378, -5.1328, -5.1527, -4.7822, -5.1741, -5.3836, -5.1807, -5.1558, -5.1337, -5.6611, -5.6754, -5.3998, -5.8376, -5.7597, -5.636, -5.5792, -6.1742, -6.1748, -5.7019, -6.2632, -5.0889, -4.7249, -5.3857, -3.8568, -5.033, -5.0206, -4.5013, -5.0062, -5.2195, -5.0265, -4.295, -4.8527, -4.7198, -4.8013, -4.8022, -5.0519, -4.7628, -4.8611, -4.9333, -4.9149, -5.0715, -5.0359, -5.0598, -2.8859, -4.8322, -3.9533, -5.1037, -4.9358, -5.1419, -5.3178, -5.1935, -4.928, -5.2366, -5.3443, -5.2828, -4.6651, -5.5444, -5.0407, -4.2245, -5.1557, -5.1087, -5.5662, -5.764, -4.8134, -5.6169, -5.5367, -4.3113, -5.2722, -5.3141, -6.1466, -5.7351, -5.9296, -6.0746, -5.3287, -5.4711, -5.3393, -3.9993, -4.2041, -3.3651, -4.5296, -4.8017, -4.785, -4.6289, -4.6736, -4.3213, -4.735, -4.544, -4.9391, -4.6016, -4.7995, -4.6684, -4.7715, -4.8587, -4.851, -4.7605, -4.9249, -4.9717, -4.9603, -4.082, -4.7238, -3.4891, -4.9357, -4.8145, -4.9728, -5.0155, -5.0165, -5.1309, -4.7655, -5.1029, -5.1729, -5.1588, -4.8635, -3.9107, -4.3714, -5.1561, -4.8323, -5.2759, -5.1796, -5.1253, -5.6776, -5.5565, -4.0955, -4.5636, -5.8188, -5.6568, -5.8356, -5.2157, -5.8582, -4.9291, -4.8773, -4.7388, -4.7533, -4.7297, -4.3387, -4.5277, -4.4615, -4.0786, -4.5219, -4.6073, -4.5631, -4.6891, -4.8524, -4.8875, -4.8539, -4.8926, -4.9448, -4.2836, -4.6139, -4.6838, -4.4627, -4.6956, -4.584, -5.2793, -4.9589, -4.158, -5.2577, -4.4572, -4.9856, -5.3239, -4.9561, -2.5894, -5.3542, -5.3533, -5.734, -5.7784, -4.3652, -5.5977, -5.4233, -5.516, -5.8725, -5.778, -4.9384, -6.1406, -5.6915, -4.8461, -5.9959, -4.7044, -4.327, -3.429, -4.624, -4.6849, -4.9256, -4.6379, -5.1784, -4.8558, -4.9938, -4.8184, -3.9603, -4.0887, -4.5772, -4.8551, -5.1014, -4.7997, -4.9623, -4.976, -4.1097, -4.1308, -4.3735, -4.431, -4.2041, -4.8442, -4.7754, -5.1384, -5.1417, -5.1764, -5.5015, -5.0604, -4.76, -4.8134, -4.3793, -5.5698, -5.4108, -5.7552, -4.6041, -4.4944, -6.0573, -5.7222, -5.0029, -6.1991, -5.5207, -5.7038, -5.4074, -5.1326, -5.2211, -5.1736, -4.1793, -4.4898, -5.0383, -4.5468, -4.6743, -5.0722, -4.9124, -4.9366, -4.1648, -4.6921, -4.9118, -4.773, -4.4143, -4.8453, -4.5585, -4.6651, -4.5019, -4.582, -4.6497, -4.8087, -4.3905, -4.3174, -3.0161, -4.8321, -5.1247, -5.0835, -5.2943, -5.3233, -3.4986, -4.2654, -4.4751, -4.4705, -5.437, -5.3578, -5.0768, -5.5712, -4.9129, -2.8928, -5.4889, -5.5954, -5.6964, -5.9323, -6.0825, -5.0326, -6.1313, -3.6266, -5.9249, -6.133, -5.2511, -3.8835, -5.4237, -4.3048, -4.9769, -4.8904, -3.8922, -4.6423, -4.4266, -4.1583, -4.9728, -4.6212, -4.0945, -4.7939, -4.5009, -4.7214, -4.9744, -4.9339, -5.025, -4.9888, -4.4858, -4.5188, -4.3891, -4.5091, -4.7566, -4.7578, -4.778, -3.8866, -4.3428, -5.1371, -5.2541, -4.5992, -4.6099, -5.1174, -4.5022, -5.4299, -3.8597, -5.2516, -5.1769, -4.9443, -4.895, -4.9757, -5.6081, -4.2197, -5.6771, -5.6078, -5.4524, -4.8162, -6.1122, -5.5305, -4.6594, -4.9878, -4.5039, -5.1224, -4.2798, -4.8051, -4.6662, -4.7248, -4.498, -4.9586, -4.8879, -4.4421, -4.9207, -4.8795, -4.9241, -4.9246, -4.6344, -4.6785, -4.7067, -4.8584, -4.7662, -4.5054, -4.4261, -4.769, -3.8021, -4.3651, -4.8405, -4.7057, -5.2249, -5.3751, -4.5977, -5.1343, -4.8141, -3.3781, -5.6991, -5.0744, -5.5872, -3.381, -5.4288, -4.1722, -5.5916, -5.9634, -4.9342, -4.7416, -5.4065, -5.9824, -4.7786, -4.0816, -4.3583, -4.2366, -4.1214, -3.7127, -4.5443, -4.7181, -4.3524, -4.6153, -4.6489, -4.6577, -4.7407, -4.7357, -4.4292, -4.8486, -4.9296, -4.7936, -3.8651, -5.0309, -4.9397, -4.4686, -4.6484, -4.3722, -4.9156, -4.6448, -4.3255, -4.5964, -5.28, -5.6265, -5.6397, -5.6871, -5.5764, -5.2904, -3.8955, -5.6718, -5.3001, -5.8772, -5.5595, -5.6683, -5.917, -5.7018, -5.6804, -5.2923, -4.5072, -5.1973, -3.2781, -4.3869, -4.3394, -4.0491, -4.3055, -4.2881, -4.1047, -5.4368, -4.2853, -5.0429, -4.8264, -4.3791, -4.8246, -4.6043, -4.6717, -4.6543, -4.6856, -4.697, -4.8844, -4.8908, -2.9881, -2.5321, -4.8844, -4.9175, -3.8391, -4.9518, -3.7066, -3.1736, -5.3994, -5.4279, -4.8031, -4.8771, -4.6346, -5.6876, -4.241, -5.7036, -5.8875, -5.7423, -5.427, -5.79, -4.6551, -5.9223, -5.8676, -4.989, -6.122, -6.0201, -4.5048, -5.7288, -4.4586, -5.1912, -4.8166, -4.4392, -5.3789, -4.464, -5.06, -4.4078, -5.3708, -4.5128, -4.9766, -4.7638, -3.9099, -4.6561, -4.941, -4.3742, -4.2682, -4.7711, -4.5068, -4.6966, -4.7256, -4.7153, -4.9262, -3.37, -3.4793, -4.1685, -4.7712, -4.8144, -3.9424, -5.2065, -5.0696, -4.9653, -5.3319, -4.9254, -4.895, -5.4562, -5.5596, -5.0583, -5.5964, -5.3448, -5.7262, -5.7639, -5.1333, -4.9668, -5.9488, -4.9485, -5.7904, -5.3912, -5.6836, -4.8371, -5.7212, -4.3886, -4.5231, -4.9249, -4.1816, -5.1145, -4.1501, -4.2137, -3.7438, -4.131, -4.1922, -4.3255, -4.8173, -4.9766, -4.9889, -4.701, -4.7813, -4.8559, -4.7842, -4.8673, -4.7715, -4.8612, -4.8989, -3.7512, -4.3326, -4.2189, -4.5574, -3.5735, -4.7009, -5.0511, -4.3407, -5.1042, -4.9165, -4.9333, -4.1903, -5.0764, -5.3308, -5.1216, -5.1952, -5.3317, -3.6977, -4.7543, -4.6868, -5.0866, -5.3769, -5.5785, -4.8668, -3.8026, -5.951, -5.7883, -5.8838, -5.7905, -5.4688, -4.6632, -3.7257, -4.3139, -5.4535, -4.6135, -4.9969, -4.1348, -4.3694, -4.4478, -4.0811, -4.9171, -4.9339, -4.7615, -4.6963, -4.7193, -4.9738, -4.8363, -4.8972, -4.9334, -3.1, -4.1538, -4.7279, -4.8074, -4.8037, -4.685, -4.9479, -4.9835, -5.0014, -5.0492, -5.1429, -5.2221, -5.1777, -4.6538, -5.1411, -5.0245, -4.6302, -4.8544, -5.0427, -5.4401, -4.5523, -4.9112, -5.3073, -4.6835, -5.6263, -4.475, -5.5999, -4.4992, -5.4154, -5.7312, -4.0695, -4.2641, -4.3733, -4.4396, -3.8161, -4.7293, -4.9313, -4.7763, -4.7657, -4.9406, -4.9359, -4.952, -4.967, -4.0612, -4.2909, -4.2378, -4.5504, -4.0205, -4.8725, -4.89, -4.8352, -4.959, -4.76, -4.9146, -4.4381, -4.1093, -5.2758, -4.7322, -5.0477, -5.2941, -5.3268, -4.4278, -5.4064, -3.9449, -5.4425, -5.4821, -5.5808, -4.589, -5.4095, -5.2057, -4.4617, -5.13, -4.7883, -4.1483, -4.0799, -4.9604, -3.9862, -4.7284, -4.3574, -4.8248, -3.8935, -4.0479, -4.6589, -4.7768, -4.739, -4.8843, -3.5848, -3.9556, -4.4468, -4.7434, -4.5961, -4.7761, -4.6876, -4.591, -3.9307, -3.8716, -4.7003, -5.1063, -4.8087, -4.9017, -4.9609, -4.0331, -4.8113, -4.9419, -4.9722, -4.7546, -5.1234, -5.1651, -5.6801, -4.5537, -3.952, -5.1971, -6.1141, -5.4404, -5.7856, -5.1387, -4.8447, -4.1467, -4.046, -4.4447, -4.2291, -4.6262, -4.5766, -4.3989, -4.5325, -4.3587, -4.4608, -4.6703, -4.6148, -4.6094, -4.7841, -4.7506, -3.6632, -3.734, -3.8809, -4.0037, -4.3801, -4.2044, -4.6272, -3.4902, -4.9222, -4.8225, -4.9927, -5.0153, -4.8864, -5.098, -5.1162, -4.991, -5.1249, -5.1446, -4.5227, -4.0367, -5.166, -5.2143, -5.1827, -4.8673, -5.3793, -5.0179, -5.476, -5.3, -5.3525, -5.525, -5.0728, -4.4569, -4.7347, -4.2557, -4.8943, -4.8971, -4.9656, -4.9652, -4.4375, -4.4958, -4.6582, -5.025, -4.6706, -4.9172, -4.7985, -4.8919, -4.9178, -4.977, -4.3593, -4.5131, -4.0763, -4.3488, -3.4713, -5.0112, -4.2755, -5.1095, -5.0193, -5.1293, -5.1515, -5.0545, -4.4969, -5.4391, -3.2395, -5.1641, -5.6814, -5.2836, -5.3401, -5.6558, -5.686, -5.869, -5.6433, -5.77, -5.846, -5.7752, -4.7213, -5.5225, -4.6726, -5.6677, -4.9589, -4.6444, -4.7498, -4.7443, -4.8929, -4.8716, -3.9274, -4.6253, -3.9228, -3.8746, -4.6338, -4.9569, -4.5281, -4.512, -4.5669, -4.2915, -4.5239, -4.7797, -4.6644, -4.912, -4.9456, -4.1015, -4.5035, -4.5764, -4.6871, -4.6895, -4.3963, -4.4785, -4.8427, -3.7201, -4.8891, -4.43, -5.1351, -4.3507, -5.3133, -5.5278, -5.3773, -5.6198, -5.3417, -5.5638, -5.5992, -5.1956, -5.0601, -4.8147, -5.8632, -5.4937, -4.3824, -5.4526, -5.7843, -5.9282, -5.4412, -5.3534, -3.9169, -4.117, -4.6847, -4.6887, -4.3674, -4.8865, -5.0224, -4.055, -4.9105, -4.5256, -4.7157, -4.2136, -4.3153, -4.5182, -4.7447, -4.8762, -4.9625, -3.7687, -4.2688, -4.1478, -4.1433, -4.5293, -4.4778, -4.7559, -3.628, -4.4224, -4.6498, -4.727, -4.9001, -4.9703, -4.7141, -4.277, -5.1279, -5.0837, -5.3522, -4.5613, -4.0412, -4.5302, -5.2307, -4.0217, -4.9359, -5.1505, -4.7464, -5.2842, -5.2474, -5.3893, -5.3083, -4.3475, -4.7863, -4.2337, -4.4111, -4.5682, -4.2299, -4.2864, -4.6016, -4.5493, -4.72, -4.8031, -4.7783, -4.7278], \"loglift\": [30.0, 29.0, 28.0, 27.0, 26.0, 25.0, 24.0, 23.0, 22.0, 21.0, 20.0, 19.0, 18.0, 17.0, 16.0, 15.0, 14.0, 13.0, 12.0, 11.0, 10.0, 9.0, 8.0, 7.0, 6.0, 5.0, 4.0, 3.0, 2.0, 1.0, 2.6638, 2.6199, 2.6098, 2.5856, 2.5784, 2.5729, 2.5655, 2.559, 2.5528, 2.5524, 2.5447, 2.5433, 2.5378, 2.5366, 2.5212, 2.51, 2.4814, 2.469, 2.4601, 2.4447, 2.4332, 2.4324, 2.4003, 2.3863, 2.3777, 2.3449, 2.3344, 2.3312, 2.3134, 2.2958, 2.2454, 2.2536, 2.2685, 2.256, 2.0006, 1.7897, 1.9917, 2.0994, 1.816, 1.6827, 1.2177, 1.619, 1.0065, 0.8404, 0.0802, 1.2969, 1.4196, 0.3417, 1.3218, 0.0271, 0.786, 2.7639, 2.7616, 2.743, 2.7182, 2.6981, 2.6327, 2.6231, 2.6127, 2.604, 2.6036, 2.5998, 2.5921, 2.589, 2.5715, 2.5613, 2.5555, 2.5077, 2.4567, 2.4561, 2.4493, 2.4444, 2.3985, 2.3815, 2.3765, 2.3214, 2.3211, 2.296, 2.2844, 2.2812, 2.2143, 2.2019, 2.0309, 2.1574, 2.0225, 1.6582, 1.9539, 2.0264, 1.8322, 1.0112, 1.6118, 1.2493, 1.1144, 0.9878, 1.4143, -0.1258, 0.1868, 0.6404, 0.2014, 1.0743, 0.3767, 0.5656, 2.7551, 2.7206, 2.6804, 2.673, 2.632, 2.6295, 2.6274, 2.6025, 2.5838, 2.5835, 2.5787, 2.5754, 2.5674, 2.5397, 2.5299, 2.5125, 2.5082, 2.4963, 2.4877, 2.4674, 2.4591, 2.4387, 2.4116, 2.4112, 2.3978, 2.3771, 2.3662, 2.3031, 2.3022, 2.2832, 2.2701, 2.252, 2.2354, 1.8884, 1.8373, 1.4043, 1.8942, 1.9564, 1.8239, 1.6894, 1.7023, 1.3667, 1.6372, 1.1084, 1.7139, 0.8439, 1.3511, 0.815, 1.0955, 0.9454, 0.555, -0.1235, 1.0442, 1.039, 0.6928, 2.817, 2.7541, 2.7467, 2.7204, 2.7141, 2.7139, 2.7061, 2.6882, 2.6837, 2.6789, 2.6763, 2.675, 2.6592, 2.6442, 2.6279, 2.6203, 2.6104, 2.602, 2.601, 2.5933, 2.57, 2.5458, 2.5391, 2.4993, 2.4797, 2.4606, 2.4556, 2.4393, 2.3935, 2.3633, 2.3153, 2.2559, 2.0092, 1.9363, 1.8809, 1.5279, 1.6047, 1.3614, 0.5584, 0.2475, 0.509, 0.2509, 0.7235, 1.3159, 1.3009, 0.1206, 0.5133, 0.5007, 2.8136, 2.7758, 2.7663, 2.7641, 2.7106, 2.7087, 2.6584, 2.6582, 2.6554, 2.6266, 2.6259, 2.6206, 2.614, 2.5964, 2.5888, 2.5751, 2.5248, 2.478, 2.4596, 2.4451, 2.4235, 2.4226, 2.4139, 2.4091, 2.3961, 2.3959, 2.3874, 2.3844, 2.3833, 2.3558, 2.3345, 2.326, 2.2261, 2.3107, 2.3039, 2.2887, 2.135, 2.2797, 2.1554, 2.1576, 1.9798, 1.0875, 0.6807, 1.3993, 1.7807, 2.0476, 0.1747, 0.6148, 1.1311, 2.8438, 2.842, 2.8183, 2.792, 2.7686, 2.7551, 2.7503, 2.7008, 2.7002, 2.6928, 2.614, 2.5802, 2.555, 2.539, 2.4984, 2.4953, 2.489, 2.443, 2.4348, 2.4304, 2.429, 2.382, 2.3798, 2.3705, 2.3651, 2.3578, 2.3571, 2.3354, 2.3223, 2.3015, 2.2445, 2.1909, 2.2356, 2.1236, 2.0591, 2.1968, 2.0708, 2.0493, 1.2807, 1.7756, 1.9652, 1.715, 0.6335, 1.6485, 0.8473, 1.1299, 0.1352, 0.2319, 0.3248, 0.8167, 2.8267, 2.7847, 2.7414, 2.7283, 2.7125, 2.6893, 2.6749, 2.6679, 2.6559, 2.6526, 2.65, 2.614, 2.5978, 2.5821, 2.5707, 2.5284, 2.5141, 2.5096, 2.4624, 2.4596, 2.4583, 2.4355, 2.4249, 2.3821, 2.3765, 2.3641, 2.3438, 2.3212, 2.2957, 2.2952, 2.2272, 2.0016, 2.1362, 2.1141, 1.5912, 1.6761, 1.4391, 1.0884, 1.8593, 1.4203, 0.7195, 1.6187, 0.6154, 0.8557, 1.0775, 0.4719, 1.2124, -0.3517, 2.8193, 2.8153, 2.8114, 2.8014, 2.7821, 2.7819, 2.7788, 2.741, 2.7154, 2.6916, 2.6875, 2.6806, 2.6694, 2.6654, 2.6467, 2.6442, 2.6323, 2.605, 2.6014, 2.5849, 2.5568, 2.5382, 2.5153, 2.5015, 2.4976, 2.4847, 2.4586, 2.4372, 2.4152, 2.406, 2.3513, 2.3582, 2.3009, 2.3466, 2.0924, 2.2056, 2.072, 2.0231, 1.6537, 2.1206, 1.9436, 0.1949, 1.2477, 0.1683, 0.9812, 0.7278, 2.8078, 2.8016, 2.7974, 2.7546, 2.7511, 2.7469, 2.7261, 2.7209, 2.7195, 2.719, 2.7162, 2.7118, 2.6448, 2.6416, 2.6343, 2.6234, 2.6088, 2.5806, 2.573, 2.5588, 2.5551, 2.5477, 2.5221, 2.5196, 2.5093, 2.4205, 2.4062, 2.4, 2.3545, 2.3337, 2.1797, 1.9413, 1.8613, 1.7853, 1.7081, 1.4128, 1.7134, 1.6638, 0.622, 1.1747, 1.2182, 0.7878, 0.0733, -0.0987, 2.8003, 2.7957, 2.7813, 2.7762, 2.762, 2.7619, 2.7558, 2.7524, 2.7456, 2.7311, 2.7169, 2.6975, 2.6958, 2.6511, 2.6184, 2.6118, 2.6076, 2.5925, 2.5752, 2.5746, 2.5694, 2.5577, 2.5344, 2.5269, 2.4959, 2.4923, 2.4762, 2.4584, 2.453, 2.4474, 2.4471, 2.4202, 2.0096, 2.181, 2.12, 1.6651, 1.6709, 1.6173, 1.469, 2.3976, 0.9615, 1.9154, 1.4674, 0.4348, 1.393, 0.8412, 0.9602, 0.7515, 0.2889, -0.06, 0.9554, 0.7347, 2.9508, 2.8215, 2.7906, 2.7847, 2.7837, 2.7783, 2.703, 2.7016, 2.6777, 2.6701, 2.6477, 2.6369, 2.62, 2.5928, 2.5619, 2.5514, 2.5233, 2.501, 2.49, 2.4753, 2.4688, 2.4615, 2.435, 2.4319, 2.43, 2.3977, 2.3686, 2.3632, 2.3625, 2.3326, 2.3079, 2.1824, 2.2784, 2.0037, 2.1809, 1.9741, 2.2462, 1.5834, 1.9275, 1.7024, 0.9041, 1.5323, 1.797, 0.804, 0.3689, 1.2277, 0.2626, 0.716, 0.3907, 0.2592, 1.2332, 2.9612, 2.9608, 2.8969, 2.8328, 2.8255, 2.8104, 2.7463, 2.7282, 2.71, 2.6981, 2.6869, 2.6809, 2.6597, 2.6514, 2.6443, 2.6401, 2.6296, 2.5978, 2.5848, 2.5337, 2.5286, 2.5163, 2.5142, 2.4773, 2.4756, 2.4582, 2.4469, 2.439, 2.4328, 2.4108, 2.3152, 1.9319, 2.2079, 1.8034, 1.5005, 1.0702, 1.2714, 0.8556, 0.9622, 1.4404, 1.6559, 1.6492, 0.7116, 0.9334, 1.1348, 0.7385, 1.1434, -0.1345, 0.2642, 0.6783, 2.9709, 2.9027, 2.8963, 2.8956, 2.8772, 2.8743, 2.819, 2.8179, 2.8073, 2.7959, 2.7936, 2.7778, 2.7737, 2.7403, 2.7388, 2.7263, 2.697, 2.6889, 2.6849, 2.6837, 2.6825, 2.6559, 2.6487, 2.6093, 2.595, 2.5459, 2.5416, 2.5206, 2.4917, 2.4858, 2.481, 2.4713, 2.3933, 2.4847, 2.3637, 2.3544, 1.8871, 1.8662, 1.6528, 1.1717, 2.142, 2.0774, 1.1973, 0.8264, 0.8543, 2.1666, 0.2116, 0.95, 1.2867, 2.9526, 2.9391, 2.8725, 2.8714, 2.8514, 2.8468, 2.8449, 2.8377, 2.834, 2.8239, 2.8029, 2.784, 2.7681, 2.7552, 2.7545, 2.7544, 2.7355, 2.7337, 2.7319, 2.7256, 2.6904, 2.6739, 2.6598, 2.6568, 2.6387, 2.6163, 2.5689, 2.5616, 2.5519, 2.528, 2.4579, 2.4056, 2.3194, 2.1962, 1.8872, 2.2057, 2.2672, 1.7929, 1.15, 1.7421, 0.112, 0.3007, 0.1585, 2.9821, 2.9583, 2.921, 2.8946, 2.8777, 2.8716, 2.8683, 2.8614, 2.8547, 2.8212, 2.8073, 2.7903, 2.7831, 2.7822, 2.777, 2.7699, 2.7576, 2.7534, 2.7475, 2.7468, 2.7011, 2.7007, 2.6169, 2.6057, 2.5786, 2.5599, 2.5216, 2.5197, 2.5111, 2.5039, 2.3209, 2.307, 2.4413, 1.8795, 2.1302, 1.6944, 2.1424, 0.7435, 0.7215, 1.5571, 1.0461, 0.6634, 1.4228, 2.9699, 2.9551, 2.9191, 2.8945, 2.8917, 2.8889, 2.8877, 2.8664, 2.8568, 2.8436, 2.826, 2.8228, 2.8116, 2.8097, 2.7881, 2.7859, 2.7857, 2.7615, 2.7566, 2.7378, 2.7275, 2.706, 2.6604, 2.5792, 2.5619, 2.5221, 2.4894, 2.4841, 2.4656, 2.4491, 2.4031, 2.2444, 2.1914, 2.2523, 2.1161, 2.135, 1.5794, 1.1782, 1.4662, 0.894, 0.8454, 1.6676, 1.0999, 0.365, 1.8484, -0.1136, 3.0135, 2.9892, 2.9848, 2.9755, 2.9671, 2.946, 2.911, 2.8973, 2.8795, 2.8652, 2.8649, 2.8601, 2.8549, 2.8417, 2.8375, 2.8234, 2.8142, 2.8061, 2.8028, 2.7993, 2.7982, 2.7922, 2.7899, 2.7697, 2.7482, 2.7113, 2.7003, 2.6995, 2.6738, 2.646, 2.6315, 2.5594, 2.5914, 2.2722, 2.5298, 2.4254, 2.4662, 2.4196, 1.3854, 1.344, 1.2084, 2.4119, 0.1433, 1.5345, -0.1614, 0.8223, 0.7345, 0.8702, 2.9769, 2.9561, 2.9373, 2.8962, 2.8703, 2.8671, 2.8504, 2.8449, 2.8223, 2.8137, 2.7655, 2.753, 2.747, 2.731, 2.714, 2.7018, 2.6787, 2.6632, 2.6619, 2.576, 2.5659, 2.5442, 2.5315, 2.5296, 2.5165, 2.5137, 2.5038, 2.4987, 2.4827, 2.469, 2.4655, 2.4214, 2.4037, 2.3877, 2.405, 2.3947, 2.2231, 2.2566, 1.9929, 1.8134, 2.149, 2.3105, 1.8537, 1.7081, 1.6015, 0.834, 0.9595, 0.8734, -0.0273, 0.3407, 1.1679, 2.9741, 2.9725, 2.951, 2.9438, 2.9434, 2.9167, 2.9125, 2.8976, 2.8791, 2.8442, 2.813, 2.8122, 2.8037, 2.7586, 2.743, 2.7176, 2.7127, 2.6991, 2.6989, 2.6894, 2.6697, 2.6515, 2.6484, 2.623, 2.6181, 2.6138, 2.6047, 2.5739, 2.5676, 2.5661, 2.5293, 2.4015, 2.3475, 2.3922, 2.0401, 1.8009, 2.1338, 2.1912, 1.2512, 2.0675, 1.6261, 1.7361, 0.7609, 0.4541, 0.8877, -0.1076, 0.7558, 0.4773, 3.2354, 3.1786, 3.1454, 3.1425, 3.1378, 3.1127, 3.0943, 3.0873, 3.0665, 3.055, 3.0406, 3.0191, 3.0052, 3.002, 2.9865, 2.9752, 2.9222, 2.9178, 2.9089, 2.8814, 2.8805, 2.8644, 2.8285, 2.7718, 2.7682, 2.749, 2.7406, 2.7365, 2.7253, 2.6907, 2.6547, 2.6061, 2.4469, 2.4929, 2.4337, 2.1774, 2.1937, 2.1595, 1.9266, 1.6709, 1.7669, 1.528, 0.9253]}, \"token.table\": {\"Topic\": [4, 8, 10, 5, 2, 4, 8, 13, 18, 19, 20, 1, 16, 16, 13, 15, 1, 2, 3, 4, 6, 7, 8, 9, 10, 11, 12, 14, 16, 18, 19, 9, 8, 14, 1, 2, 3, 4, 5, 6, 7, 8, 9, 10, 12, 13, 14, 15, 16, 17, 18, 19, 20, 17, 20, 17, 14, 10, 20, 4, 14, 5, 1, 3, 4, 5, 6, 12, 20, 1, 2, 3, 5, 6, 7, 8, 9, 10, 11, 12, 13, 15, 17, 18, 20, 19, 2, 5, 9, 14, 17, 19, 3, 3, 20, 9, 18, 1, 2, 4, 6, 11, 17, 18, 8, 20, 7, 3, 4, 14, 18, 19, 14, 6, 18, 13, 18, 1, 2, 3, 4, 5, 6, 7, 8, 9, 10, 11, 14, 15, 16, 17, 18, 19, 20, 7, 15, 18, 1, 4, 5, 6, 7, 8, 9, 10, 11, 14, 20, 4, 10, 19, 4, 5, 7, 10, 15, 4, 9, 1, 6, 8, 4, 9, 9, 1, 5, 7, 15, 18, 1, 2, 4, 13, 11, 13, 1, 4, 5, 7, 9, 10, 15, 16, 17, 18, 10, 12, 19, 1, 5, 12, 15, 17, 2, 12, 1, 10, 12, 3, 8, 9, 10, 14, 16, 18, 3, 17, 1, 9, 11, 18, 13, 16, 19, 10, 2, 1, 14, 1, 2, 4, 6, 7, 8, 10, 11, 12, 13, 15, 17, 18, 19, 19, 1, 4, 5, 6, 7, 9, 10, 12, 18, 19, 2, 5, 8, 10, 18, 17, 18, 1, 6, 3, 5, 1, 3, 4, 9, 13, 14, 16, 17, 19, 10, 4, 12, 10, 5, 16, 19, 10, 4, 1, 2, 3, 4, 5, 7, 9, 10, 11, 12, 13, 19, 20, 2, 3, 4, 5, 6, 7, 12, 15, 16, 17, 20, 1, 4, 12, 16, 18, 19, 20, 2, 3, 4, 8, 9, 14, 17, 10, 12, 13, 15, 20, 2, 19, 1, 2, 3, 4, 5, 6, 7, 8, 9, 10, 11, 12, 13, 14, 15, 16, 17, 18, 19, 20, 7, 1, 2, 6, 9, 12, 4, 7, 1, 2, 3, 4, 7, 8, 12, 13, 14, 15, 16, 18, 19, 1, 2, 3, 14, 15, 13, 2, 6, 12, 13, 7, 2, 1, 2, 3, 4, 5, 6, 7, 8, 9, 10, 11, 12, 13, 14, 15, 16, 17, 18, 19, 20, 11, 2, 3, 4, 5, 6, 7, 8, 9, 10, 11, 12, 13, 14, 15, 16, 17, 20, 6, 14, 15, 3, 13, 14, 2, 1, 9, 13, 8, 17, 1, 4, 5, 7, 10, 12, 13, 15, 16, 17, 14, 13, 15, 16, 1, 2, 16, 18, 1, 2, 6, 7, 8, 9, 12, 14, 16, 20, 11, 4, 1, 8, 13, 5, 17, 19, 19, 15, 17, 11, 2, 5, 11, 20, 13, 6, 7, 14, 5, 9, 6, 11, 6, 17, 1, 3, 5, 11, 15, 17, 18, 3, 5, 19, 2, 6, 10, 19, 1, 5, 9, 14, 15, 7, 1, 2, 3, 4, 5, 6, 7, 8, 9, 10, 11, 12, 13, 14, 15, 16, 18, 19, 20, 13, 2, 9, 1, 3, 6, 7, 8, 13, 15, 17, 18, 19, 12, 5, 5, 1, 2, 3, 4, 6, 8, 9, 10, 11, 12, 13, 14, 15, 16, 17, 19, 20, 10, 6, 16, 18, 12, 17, 9, 20, 1, 12, 1, 3, 4, 5, 6, 8, 10, 11, 15, 17, 6, 10, 11, 7, 8, 9, 10, 13, 4, 2, 8, 11, 17, 18, 20, 5, 3, 5, 1, 2, 3, 4, 5, 6, 7, 8, 9, 10, 11, 12, 13, 14, 15, 16, 17, 18, 19, 20, 1, 6, 11, 20, 8, 14, 18, 19, 17, 11, 14, 19, 5, 9, 18, 12, 20, 17, 2, 3, 4, 6, 7, 8, 10, 11, 15, 17, 18, 19, 8, 13, 17, 7, 12, 5, 11, 7, 8, 1, 5, 11, 11, 8, 2, 5, 7, 10, 13, 14, 20, 5, 13, 14, 19, 2, 19, 4, 2, 3, 4, 10, 2, 18, 9, 3, 13, 16, 13, 16, 19, 3, 1, 6, 8, 11, 14, 18, 17, 1, 14, 5, 7, 20, 8, 18, 4, 8, 9, 12, 14, 15, 20, 11, 19, 2, 11, 5, 19, 6, 12, 6, 7, 10, 14, 13, 19, 18, 1, 2, 3, 7, 8, 9, 13, 3, 8, 20, 10, 15, 1, 5, 13, 18, 18, 6, 3, 4, 5, 7, 10, 13, 15, 16, 16, 9, 2, 1, 2, 3, 4, 5, 6, 7, 8, 9, 10, 11, 12, 13, 14, 15, 16, 17, 18, 20, 18, 19, 8, 20, 5, 1, 14, 17, 9, 6, 9, 5, 9, 10, 15, 19, 20, 10, 5, 6, 8, 13, 13, 1, 3, 4, 6, 8, 9, 11, 12, 13, 14, 16, 19, 20, 9, 20, 11, 1, 2, 4, 8, 10, 15, 16, 17, 1, 2, 12, 16, 18, 6, 16, 6, 8, 15, 3, 12, 6, 10, 16, 1, 2, 3, 4, 8, 10, 11, 12, 13, 14, 16, 17, 18, 20, 19, 9, 18, 10, 16, 16, 8, 11, 4, 5, 9, 10, 13, 14, 18, 14, 15, 20, 3, 4, 7, 9, 10, 11, 12, 16, 17, 18, 19, 3, 9, 12, 16, 17, 18, 10, 19, 4, 5, 8, 11, 13, 15, 20, 4, 16, 11, 5, 7, 17, 12, 9, 18, 8, 8, 17, 4, 8, 9, 14, 7, 9, 6, 6, 9, 2, 6, 7, 9, 10, 14, 15, 18, 19, 14, 4, 19, 7, 11, 13, 20, 1, 1, 2, 3, 4, 5, 6, 7, 8, 9, 10, 11, 12, 13, 14, 15, 16, 17, 18, 19, 20, 19, 1, 3, 4, 5, 11, 15, 18, 3, 11, 15, 5, 7, 17, 16, 1, 3, 4, 5, 15, 15, 1, 14, 17, 10, 7, 9, 10, 1, 2, 3, 4, 5, 6, 7, 8, 9, 10, 11, 12, 13, 14, 15, 16, 17, 18, 19, 5, 17, 1, 2, 9, 1, 8, 17, 1, 9, 10, 13, 14, 15, 16, 12, 8, 12, 1, 3, 4, 5, 6, 7, 8, 9, 10, 11, 12, 13, 14, 15, 16, 17, 18, 19, 20, 1, 2, 3, 4, 6, 7, 8, 9, 10, 11, 12, 13, 14, 16, 18, 19, 11, 20, 14, 16, 20, 3, 1, 5, 6, 8, 9, 10, 13, 16, 17, 18, 19, 20, 1, 10, 18, 8, 19, 1, 2, 3, 4, 9, 10, 11, 12, 13, 15, 16, 19, 1, 4, 9, 13, 14, 3, 10, 20, 6, 10, 13, 15, 17, 14, 14, 19, 6, 20, 14, 3, 20, 6, 10, 11, 15, 3, 13, 1, 2, 3, 4, 5, 7, 9, 11, 13, 19, 2, 4, 6, 7, 8, 9, 13, 14, 15, 16, 2, 1, 2, 6, 7, 14, 15, 2, 3, 6, 12, 13, 16, 18, 1, 12, 12, 14, 16, 19, 1, 2, 3, 4, 5, 6, 7, 8, 9, 10, 12, 13, 14, 15, 16, 17, 19, 20, 1, 2, 4, 5, 6, 7, 8, 9, 10, 11, 12, 13, 14, 15, 16, 17, 18, 19, 20, 11, 5, 13, 15, 13, 15, 9, 16, 7, 16, 4, 6, 7, 12, 14, 17, 20, 5, 4, 8, 9, 10, 18, 19, 20, 1, 2, 3, 5, 7, 11, 19, 15, 5, 3, 4, 6, 7, 20, 1, 2, 3, 4, 5, 6, 7, 9, 10, 11, 12, 13, 14, 15, 16, 17, 18, 19, 20, 12, 13, 3, 9, 9, 14, 15, 1, 3, 5, 15, 19, 4, 2, 4, 17, 19, 5, 6, 17, 18, 7, 3, 19, 6, 12, 10, 11, 5, 1, 2, 3, 4, 5, 8, 9, 10, 14, 15, 17, 19, 1, 9, 4, 16, 6, 2, 10, 5, 7, 20, 1, 17, 9, 19, 19, 1, 2, 7, 16, 20, 1, 16, 6, 13, 1, 2, 6, 9, 11, 12, 14, 18, 1, 5, 2, 12, 16, 17, 19, 8, 3, 5, 6, 9, 11, 14, 16, 4, 7, 1, 1, 2, 3, 4, 5, 6, 11, 15, 17, 18, 20, 1, 2, 3, 11, 15, 1, 5, 11, 14, 6, 3, 13, 3, 12, 14, 20, 1, 4, 13, 19, 3, 5, 6, 8, 9, 14, 15, 19, 5, 5, 12, 2, 5, 17, 2, 3, 4, 5, 6, 7, 8, 10, 11, 12, 13, 14, 15, 16, 17, 18, 19, 4, 15, 2, 2, 9, 10, 11, 14, 1, 16, 3, 6, 18, 1, 3, 6, 10, 13, 14, 14, 1, 3, 6, 11, 16, 18, 5, 11, 16, 7, 10, 11, 14, 18, 3, 4, 5, 6, 7, 13, 16, 18, 19, 8, 9, 10, 20, 12, 18, 19, 8, 1, 20, 14, 11, 19, 16, 6, 17, 18, 6, 2, 1, 14, 1, 2, 3, 4, 5, 6, 7, 8, 9, 10, 11, 12, 13, 14, 15, 19, 6, 8, 9, 14, 16, 17, 18, 3, 4, 12, 20, 1, 2, 4, 6, 7, 13, 14, 3, 19, 8, 19, 1, 3, 4, 5, 6, 9, 11, 13, 17, 18, 19, 20, 3, 18, 4, 17, 9, 17, 1, 2, 4, 6, 7, 8, 9, 10, 11, 12, 14, 16, 1, 16, 17, 7, 14, 19, 2, 8, 12, 3, 4, 3, 11, 13, 19, 20, 1, 2, 5, 10, 12, 16, 17, 18, 12, 18, 1, 2, 3, 4, 6, 7, 8, 9, 10, 11, 12, 13, 14, 15, 16, 17, 18, 19, 20, 1, 6, 7, 12, 13, 15, 4, 11, 14, 17, 3, 8, 8, 15, 17, 15, 2, 11, 19, 2, 8, 4, 5, 8, 9, 15, 12, 9, 14, 2, 6, 7, 9, 12, 17, 12, 13, 1, 3, 5, 7, 10, 12, 13, 14, 15, 1, 7, 16, 19, 20, 18, 2, 3, 19, 4, 2, 11, 20, 5, 14, 19, 5, 14, 15, 10, 11, 18, 6, 16, 20, 1, 3, 1, 6, 12, 13, 19, 1, 4, 7, 19, 7, 3, 6, 9, 14, 6, 1, 7, 6, 10, 1, 3, 4, 7, 13, 14, 17, 19, 1, 17, 7, 1, 4, 7, 12, 15, 18, 17, 4, 20, 2, 9, 12, 1, 19, 4, 9, 18, 1, 3, 4, 6, 8, 10, 11, 12, 14, 16, 18, 19, 20, 2, 14, 12, 2, 12, 1, 3, 5, 6, 9, 10, 11, 16, 19, 1, 3, 4, 9, 13, 16, 2, 13, 15, 4, 12, 12, 7, 12, 9, 10, 10, 4, 1, 2, 3, 4, 6, 7, 13, 14, 17, 19, 20, 9, 20, 17, 10, 2, 8, 9, 10, 11, 14, 19, 11, 10, 2, 8, 8, 17, 18, 6, 15, 8, 3, 6, 10, 11, 14, 1, 7, 15, 8, 16, 17, 14, 14, 3, 5, 6, 15, 3, 5, 7, 9, 11, 13, 15, 16, 19, 1, 18, 2, 3, 1, 13, 1, 2, 3, 5, 8, 11, 12, 13, 15, 16, 19, 20, 13, 4, 16, 20, 14, 18, 5, 15, 3, 3, 1, 15, 2, 12, 18, 15, 17, 2, 8, 6, 7, 17, 20, 17, 1, 2, 3, 4, 6, 8, 10, 12, 13, 14, 16, 19, 20, 16, 17, 19, 14, 11, 17, 15, 13, 2, 11, 5, 9, 16, 7, 10, 10, 4, 10, 12, 17, 19, 20, 11, 3, 1, 16, 1, 2, 3, 4, 5, 6, 7, 8, 9, 10, 13, 14, 16, 18, 20, 6, 3, 5, 11, 14, 13, 20, 6, 14, 14, 15, 19, 1, 8, 13, 10, 15, 16, 17, 1, 4, 19, 2, 14, 18, 2, 5, 6, 9, 13, 14, 15, 20, 1, 7, 10, 12, 19, 20, 1, 2, 4, 12, 4, 17, 8, 1, 6, 8, 11, 6, 7, 11, 1, 3, 8, 12, 1, 2, 3, 4, 5, 7, 8, 11, 12, 13, 14, 16, 17, 19, 20, 4, 1, 6, 13, 1, 2, 3, 11, 12, 15, 16, 20, 3, 4, 20, 2, 3, 4, 6, 7, 9, 10, 11, 12, 15, 16, 19, 20, 5, 16, 8, 8, 16, 9, 17, 19, 9, 10, 13, 17, 5, 8, 9, 19, 4, 13, 7, 16, 13, 9, 5, 4, 10, 11, 1, 2, 3, 4, 5, 7, 8, 11, 12, 15, 18, 19, 1, 3, 4, 5, 8, 10, 18, 19, 2, 8, 15, 17, 4, 17, 4, 18, 1, 4, 6, 8, 19, 8, 13, 9, 16, 3, 9, 1, 2, 10, 11, 12, 13, 14, 15, 16, 17, 16, 12, 4, 5, 7, 8, 15, 16, 18, 7, 1, 2, 4, 5, 6, 7, 8, 9, 10, 11, 12, 13, 15, 16, 17, 19, 20, 13, 1, 7, 14, 18, 9, 17, 18, 19, 16, 18, 6, 3, 6, 4, 16, 10, 15, 2, 11, 3, 17, 4, 5, 1, 4, 5, 8, 9, 13, 15, 17, 19, 17, 2, 3, 4, 6, 7, 8, 12, 14, 15, 16, 18, 20, 8, 3, 11, 16, 19, 8, 13, 14, 2, 18, 8, 1, 5, 9, 10, 19, 9, 1, 2, 18, 2, 3, 10, 10, 1, 18, 3, 7, 19, 5, 18, 15, 5, 6, 7, 8, 12, 14, 17, 3, 6, 11, 15, 13, 1, 16, 20, 15, 18, 17, 5, 2, 6, 13, 16, 19, 13, 2, 4, 8, 11, 14, 4, 13, 14, 15, 18, 20, 14, 4, 5, 8, 11, 1, 3, 12, 12, 1, 3, 4, 5, 7, 11, 13, 14, 15, 19, 20, 17, 5, 10, 12, 14, 5, 11, 14, 4, 19, 9, 1, 2, 9, 12, 18, 4, 7, 18, 3, 19, 1, 3, 4, 7, 8, 11, 19, 1, 6, 8, 16, 18, 1, 9, 2, 9, 3, 11, 10, 7, 1, 3, 14, 20, 5, 3, 10, 14, 1, 2, 3, 4, 5, 7, 8, 14, 15, 16, 19, 4, 15, 19, 14, 1, 3, 6, 9, 18, 17, 1, 2, 14, 1, 2, 3, 4, 5, 8, 10, 11, 12, 15, 16, 19, 20, 7, 10, 10, 18, 16, 7, 7, 19, 12, 2, 8, 19, 12, 16, 5, 10, 12, 1, 2, 3, 4, 6, 7, 8, 10, 11, 12, 13, 14, 15, 16, 17, 18, 8, 16, 17, 6, 11, 3, 18, 8, 16, 13, 19, 18, 1, 16, 4, 8, 18, 13, 1, 2, 12, 12, 18, 12, 15, 10, 20, 1, 2, 15, 2, 8, 8, 6, 1, 2, 3, 4, 6, 7, 8, 9, 10, 12, 13, 14, 15, 16, 17, 18, 19, 20, 1, 3, 4, 6, 8, 14, 1, 13, 2, 4, 17, 17, 15, 10, 15, 8, 9, 10, 10, 10, 11, 6], \"Freq\": [0.19379408423809216, 0.09689704211904608, 0.5813822527142765, 0.7612549731047558, 0.1416763193306236, 0.04722543977687454, 0.18890175910749815, 0.2833526386612472, 0.1416763193306236, 0.04722543977687454, 0.04722543977687454, 0.7112124999579699, 0.7678803169497981, 0.8198200983857306, 0.6920887237711487, 0.8142269618520406, 0.17959303234639168, 0.10262458991222383, 0.025656147478055957, 0.025656147478055957, 0.1282807373902798, 0.025656147478055957, 0.05131229495611191, 0.025656147478055957, 0.10262458991222383, 0.025656147478055957, 0.07696844243416787, 0.05131229495611191, 0.05131229495611191, 0.05131229495611191, 0.05131229495611191, 0.6099384162155389, 0.662646458240433, 0.8631509716074969, 0.03534794507405384, 0.03534794507405384, 0.01767397253702692, 0.03534794507405384, 0.07069589014810768, 0.07069589014810768, 0.03534794507405384, 0.05302191761108075, 0.07069589014810768, 0.03534794507405384, 0.05302191761108075, 0.15906575283324226, 0.07069589014810768, 0.05302191761108075, 0.1060438352221615, 0.03534794507405384, 0.07069589014810768, 0.03534794507405384, 0.03534794507405384, 0.13200637230083279, 0.6600318615041639, 0.6264052812452585, 0.6917033374841602, 0.16538604247080596, 0.8269302123540299, 0.8502414102149356, 0.0944712678016595, 0.7773285255246819, 0.054337630624267795, 0.32602578374560676, 0.054337630624267795, 0.054337630624267795, 0.16301289187280338, 0.16301289187280338, 0.10867526124853559, 0.0445179953207602, 0.0222589976603801, 0.1335539859622806, 0.0445179953207602, 0.0667769929811403, 0.2671079719245612, 0.0445179953207602, 0.0445179953207602, 0.0222589976603801, 0.0222589976603801, 0.0667769929811403, 0.0222589976603801, 0.0222589976603801, 0.0445179953207602, 0.1112949883019005, 0.0222589976603801, 0.8506169724653935, 0.11724491730782113, 0.05862245865391057, 0.1758673759617317, 0.1758673759617317, 0.23448983461564227, 0.23448983461564227, 0.7658312048963525, 0.7830388394447886, 0.6226590516520243, 0.6357043897057435, 0.7813271818062122, 0.11895406384425487, 0.23790812768850975, 0.05947703192212744, 0.05947703192212744, 0.29738515961063716, 0.05947703192212744, 0.05947703192212744, 0.6238294850961771, 0.712046703473189, 0.525233138788124, 0.09921602677128324, 0.09921602677128324, 0.09921602677128324, 0.1984320535425665, 0.2976480803138497, 0.5335554773494592, 0.8874143525190313, 0.7902404980557707, 0.34719263570218295, 0.46292351426957723, 0.061799842724204454, 0.061799842724204454, 0.10299973787367409, 0.04119989514946964, 0.02059994757473482, 0.08239979029893928, 0.04119989514946964, 0.061799842724204454, 0.02059994757473482, 0.08239979029893928, 0.061799842724204454, 0.04119989514946964, 0.02059994757473482, 0.08239979029893928, 0.02059994757473482, 0.061799842724204454, 0.10299973787367409, 0.02059994757473482, 0.09160750008495207, 0.8244675007645685, 0.7904047553884025, 0.06788476510679856, 0.03394238255339928, 0.10182714766019783, 0.06788476510679856, 0.03394238255339928, 0.1357695302135971, 0.03394238255339928, 0.2715390604271942, 0.06788476510679856, 0.10182714766019783, 0.06788476510679856, 0.23366639145996768, 0.700999174379903, 0.8594228176252809, 0.10189058377461846, 0.10189058377461846, 0.40756233509847384, 0.10189058377461846, 0.10189058377461846, 0.15398351630967896, 0.7699175815483948, 0.30000245768671435, 0.40000327691561915, 0.10000081922890479, 0.23370399697965713, 0.5842599924491428, 0.7078958271128298, 0.11356656640331084, 0.11356656640331084, 0.45426626561324335, 0.11356656640331084, 0.11356656640331084, 0.10984508660494645, 0.054922543302473224, 0.10984508660494645, 0.7139930629321519, 0.11712411971372394, 0.8198688379960676, 0.13011844426256994, 0.04337281475418998, 0.04337281475418998, 0.04337281475418998, 0.08674562950837995, 0.04337281475418998, 0.04337281475418998, 0.04337281475418998, 0.04337281475418998, 0.39035533278770984, 0.6936642362394076, 0.6810051886280499, 0.6063097033878246, 0.09815353579153893, 0.09815353579153893, 0.2944606073746168, 0.3926141431661557, 0.7782324966705373, 0.257922778005988, 0.515845556011976, 0.7215054620400498, 0.16645177771599295, 0.6658071108639718, 0.11034163407324767, 0.05517081703662383, 0.05517081703662383, 0.05517081703662383, 0.05517081703662383, 0.44136653629299066, 0.11034163407324767, 0.14044723421685124, 0.7022361710842562, 0.7631545462977422, 0.27331549186331894, 0.3826416886086465, 0.27331549186331894, 0.8392634464221215, 0.20664886397184706, 0.6199465919155411, 0.7636188872439486, 0.6458985582430506, 0.7866691275598823, 0.6528018100795602, 0.13061677851165446, 0.06530838925582723, 0.2612335570233089, 0.032654194627913614, 0.032654194627913614, 0.032654194627913614, 0.032654194627913614, 0.032654194627913614, 0.032654194627913614, 0.06530838925582723, 0.06530838925582723, 0.16327097313956807, 0.032654194627913614, 0.032654194627913614, 0.5744075571173753, 0.8285016160677067, 0.03644453611525928, 0.2186672166915557, 0.14577814446103712, 0.07288907223051856, 0.07288907223051856, 0.255111752806815, 0.03644453611525928, 0.07288907223051856, 0.07288907223051856, 0.38986476709809403, 0.09746619177452351, 0.19493238354904702, 0.09746619177452351, 0.09746619177452351, 0.15504211688199748, 0.4651263506459925, 0.5093955024334216, 0.7257511262825757, 0.5537782970649774, 0.3691855313766516, 0.07627581105962761, 0.07627581105962761, 0.038137905529813804, 0.30510324423851043, 0.30510324423851043, 0.038137905529813804, 0.038137905529813804, 0.038137905529813804, 0.038137905529813804, 0.8964764649500675, 0.8843215760953789, 0.7624161444971768, 0.7471664313782982, 0.21907197532545192, 0.21907197532545192, 0.43814395065090384, 0.64724195505923, 0.6590845834625984, 0.05005897911518856, 0.05005897911518856, 0.05005897911518856, 0.10011795823037711, 0.10011795823037711, 0.10011795823037711, 0.10011795823037711, 0.20023591646075423, 0.05005897911518856, 0.15017693734556567, 0.05005897911518856, 0.05005897911518856, 0.9165605872055536, 0.05269590321283044, 0.05269590321283044, 0.05269590321283044, 0.05269590321283044, 0.05269590321283044, 0.05269590321283044, 0.05269590321283044, 0.10539180642566089, 0.3688713224898131, 0.05269590321283044, 0.05269590321283044, 0.07987112010598289, 0.2396133603179487, 0.07987112010598289, 0.07987112010598289, 0.07987112010598289, 0.07987112010598289, 0.31948448042393157, 0.06325994443086254, 0.06325994443086254, 0.06325994443086254, 0.12651988886172508, 0.06325994443086254, 0.06325994443086254, 0.4428196110160378, 0.6533585538406284, 0.059396232167329845, 0.11879246433465969, 0.059396232167329845, 0.059396232167329845, 0.4525609669929676, 0.7229102639440773, 0.030840453854566463, 0.07710113463641616, 0.061680907709132926, 0.09252136156369939, 0.030840453854566463, 0.046260680781849695, 0.09252136156369939, 0.046260680781849695, 0.046260680781849695, 0.046260680781849695, 0.07710113463641616, 0.061680907709132926, 0.046260680781849695, 0.046260680781849695, 0.046260680781849695, 0.030840453854566463, 0.030840453854566463, 0.030840453854566463, 0.030840453854566463, 0.046260680781849695, 0.5826354652398438, 0.4451965069704885, 0.07419941782841476, 0.14839883565682951, 0.07419941782841476, 0.22259825348524426, 0.7819586720154496, 0.7965383590753387, 0.054623098404936225, 0.054623098404936225, 0.2184923936197449, 0.027311549202468113, 0.054623098404936225, 0.027311549202468113, 0.027311549202468113, 0.027311549202468113, 0.054623098404936225, 0.08193464760740435, 0.027311549202468113, 0.27311549202468116, 0.027311549202468113, 0.02605649221699135, 0.02605649221699135, 0.8859207353777059, 0.02605649221699135, 0.0521129844339827, 0.8983188478543754, 0.2690790285049635, 0.35877203800661805, 0.08969300950165451, 0.17938601900330903, 0.5709463385225837, 0.8520478340006081, 0.05352227407947645, 0.05352227407947645, 0.04014170555960734, 0.06690284259934556, 0.06690284259934556, 0.08028341111921468, 0.04014170555960734, 0.026761137039738224, 0.0936639796390838, 0.06690284259934556, 0.06690284259934556, 0.026761137039738224, 0.026761137039738224, 0.04014170555960734, 0.026761137039738224, 0.06690284259934556, 0.013380568519869112, 0.026761137039738224, 0.0936639796390838, 0.04014170555960734, 0.4047024957199457, 0.07907065881721143, 0.15814131763442285, 0.05271377254480762, 0.05271377254480762, 0.02635688627240381, 0.02635688627240381, 0.10542754508961524, 0.10542754508961524, 0.02635688627240381, 0.05271377254480762, 0.02635688627240381, 0.02635688627240381, 0.02635688627240381, 0.05271377254480762, 0.05271377254480762, 0.10542754508961524, 0.02635688627240381, 0.09108075924860189, 0.09108075924860189, 0.7286460739888151, 0.8821207060821128, 0.3710959404098385, 0.49479458721311803, 0.7112325988253912, 0.6978338831620593, 0.39657578937839233, 0.4957197367229904, 0.46720047247183943, 0.7896419419727038, 0.1389207615637194, 0.1389207615637194, 0.04630692052123981, 0.1389207615637194, 0.04630692052123981, 0.04630692052123981, 0.09261384104247962, 0.23153460260619904, 0.09261384104247962, 0.04630692052123981, 0.7187445034820923, 0.8271996252177581, 0.6865384302931463, 0.6435386080551723, 0.13662610918424767, 0.13662610918424767, 0.13662610918424767, 0.5465044367369907, 0.12585707433868218, 0.06292853716934109, 0.09439280575401163, 0.031464268584670545, 0.031464268584670545, 0.2831784172620349, 0.031464268584670545, 0.09439280575401163, 0.12585707433868218, 0.06292853716934109, 0.6783748707717189, 0.7291536248460526, 0.16958038696310299, 0.6783215478524119, 0.7977930976106223, 0.5872654605041574, 0.0838950657863082, 0.0838950657863082, 0.8162781646860695, 0.6892619307461693, 0.9044202438834181, 0.6045746793884855, 0.09501010166286737, 0.5700606099772042, 0.19002020332573474, 0.7629437592414117, 0.7570785054112473, 0.5309111546322597, 0.13272778865806492, 0.13272778865806492, 0.7520074519640486, 0.8396005049764721, 0.34249653277908326, 0.5137447991686249, 0.31000644177767545, 0.6200128835553509, 0.0512988901735016, 0.3077933410410096, 0.2051955606940064, 0.1025977803470032, 0.1538966705205048, 0.1025977803470032, 0.0512988901735016, 0.2867548635215101, 0.5735097270430202, 0.07168871588037752, 0.07733485671800107, 0.3093394268720043, 0.07733485671800107, 0.3093394268720043, 0.11773104396790035, 0.4709241758716014, 0.11773104396790035, 0.11773104396790035, 0.11773104396790035, 0.8198913150582762, 0.08523509441387024, 0.06392632081040268, 0.08523509441387024, 0.04261754720693512, 0.04261754720693512, 0.04261754720693512, 0.04261754720693512, 0.06392632081040268, 0.08523509441387024, 0.02130877360346756, 0.02130877360346756, 0.06392632081040268, 0.04261754720693512, 0.04261754720693512, 0.04261754720693512, 0.04261754720693512, 0.04261754720693512, 0.06392632081040268, 0.02130877360346756, 0.7311741626786372, 0.5873756145997634, 0.2936878072998817, 0.04650132616463987, 0.1395039784939196, 0.1395039784939196, 0.04650132616463987, 0.04650132616463987, 0.18600530465855947, 0.04650132616463987, 0.09300265232927973, 0.23250663082319933, 0.04650132616463987, 0.6354467332528126, 0.6562516244144618, 0.6816564292455483, 0.04286231189772291, 0.021431155948861455, 0.12858693569316873, 0.08572462379544582, 0.19288040353975308, 0.021431155948861455, 0.10715577974430728, 0.10715577974430728, 0.021431155948861455, 0.021431155948861455, 0.06429346784658437, 0.021431155948861455, 0.021431155948861455, 0.021431155948861455, 0.021431155948861455, 0.021431155948861455, 0.021431155948861455, 0.641682989571997, 0.4858967396839981, 0.16196557989466603, 0.7612394850733654, 0.7206788095295058, 0.6153820944244545, 0.16645158231850626, 0.4993547469555188, 0.1871155866511329, 0.7484623466045316, 0.050730027264355715, 0.050730027264355715, 0.050730027264355715, 0.050730027264355715, 0.15219008179306714, 0.10146005452871143, 0.050730027264355715, 0.15219008179306714, 0.20292010905742286, 0.050730027264355715, 0.29781599516445023, 0.17868959709867016, 0.3573791941973403, 0.08344084524857352, 0.5006450714914411, 0.08344084524857352, 0.08344084524857352, 0.08344084524857352, 0.6169953631091653, 0.09012262589496248, 0.09012262589496248, 0.09012262589496248, 0.09012262589496248, 0.4506131294748124, 0.09012262589496248, 0.8942227495647657, 0.2974394542720967, 0.5948789085441935, 0.06683963127170714, 0.0477425937655051, 0.0477425937655051, 0.0954851875310102, 0.028645556259303057, 0.057291112518606115, 0.03819407501240408, 0.06683963127170714, 0.0477425937655051, 0.0477425937655051, 0.07638815002480816, 0.03819407501240408, 0.028645556259303057, 0.01909703750620204, 0.0954851875310102, 0.03819407501240408, 0.03819407501240408, 0.0477425937655051, 0.03819407501240408, 0.028645556259303057, 0.11487858204707392, 0.11487858204707392, 0.4595143281882957, 0.11487858204707392, 0.8676287960232002, 0.2540437869983492, 0.5080875739966983, 0.1270218934991746, 0.8514877270469937, 0.7189794123569035, 0.763382032582226, 0.1526764065164452, 0.757483305524134, 0.08416481172490378, 0.08416481172490378, 0.6191611854233656, 0.6183855385628456, 0.7787238044709294, 0.06251498000786229, 0.09377247001179344, 0.21880243002751804, 0.031257490003931146, 0.06251498000786229, 0.09377247001179344, 0.031257490003931146, 0.031257490003931146, 0.12502996001572458, 0.18754494002358688, 0.031257490003931146, 0.031257490003931146, 0.05497602583733779, 0.05497602583733779, 0.8246403875600669, 0.621819925861966, 0.1554549814654915, 0.8155390197826917, 0.8187662080082131, 0.5257235737276547, 0.3504823824851031, 0.13084001468775647, 0.13084001468775647, 0.6542000734387823, 0.8316034140711543, 0.8850303834144858, 0.7704829530659537, 0.10137771324741987, 0.4055108529896795, 0.050688856623709935, 0.10137771324741987, 0.10137771324741987, 0.1520665698711298, 0.11671379739223157, 0.4668551895689263, 0.11671379739223157, 0.23342759478446315, 0.6288599783888451, 0.7624195086108589, 0.834870012872385, 0.4335609512188549, 0.3668592664159541, 0.10005252720435112, 0.03335084240145038, 0.832939986878363, 0.8107943817097292, 0.7260108692175106, 0.5405452583994133, 0.18018175279980442, 0.18018175279980442, 0.764679398623091, 0.8263096231831065, 0.4483418235658931, 0.5910321375190513, 0.07294477883681787, 0.4376686730209072, 0.07294477883681787, 0.07294477883681787, 0.07294477883681787, 0.07294477883681787, 0.7174008084051751, 0.18208280766083954, 0.7283312306433581, 0.22075487182282275, 0.7726420513798796, 0.5652961176674549, 0.25889052772077786, 0.6472263193019446, 0.3718024234530997, 0.07436048469061994, 0.07436048469061994, 0.07436048469061994, 0.14872096938123988, 0.07436048469061994, 0.07436048469061994, 0.5740001416478427, 0.2296000566591371, 0.24985709918957083, 0.6662855978388555, 0.7089686788075756, 0.8751294255349596, 0.5239176626317855, 0.3492784417545237, 0.4919110640917922, 0.614200110415073, 0.15355002760376826, 0.15355002760376826, 0.5269667189512395, 0.26348335947561974, 0.36805260063531053, 0.05637128908654773, 0.1691138672596432, 0.11274257817309546, 0.2818564454327387, 0.05637128908654773, 0.1691138672596432, 0.11274257817309546, 0.6949571788714757, 0.40663137653001497, 0.5082892206625187, 0.19257019758389776, 0.5777105927516933, 0.1102140687438453, 0.7714984812069171, 0.1102140687438453, 0.5228748243755152, 0.6822973417185046, 0.5864347376517952, 0.07859608668018758, 0.11789413002028139, 0.07859608668018758, 0.15719217336037516, 0.07859608668018758, 0.07859608668018758, 0.23578826004056277, 0.11789413002028139, 0.6246444700716015, 0.8276667388886969, 0.7373489840188443, 0.05275023875862473, 0.05275023875862473, 0.10550047751724946, 0.026375119379312365, 0.026375119379312365, 0.026375119379312365, 0.026375119379312365, 0.026375119379312365, 0.05275023875862473, 0.05275023875862473, 0.026375119379312365, 0.026375119379312365, 0.0791253581379371, 0.026375119379312365, 0.05275023875862473, 0.05275023875862473, 0.05275023875862473, 0.10550047751724946, 0.0791253581379371, 0.7059447156104476, 0.8445844703222735, 0.2712981540378931, 0.5425963080757862, 0.7307882662880285, 0.8371576364965091, 0.7127733736207814, 0.14255467472415628, 0.841012695450504, 0.7042797323071002, 0.748949518611181, 0.10988872641110516, 0.10988872641110516, 0.10988872641110516, 0.4395549056444206, 0.05494436320555258, 0.7223054686479239, 0.699762909433037, 0.07568286855019665, 0.07568286855019665, 0.1513657371003933, 0.5297800798513765, 0.5920651096710019, 0.08415623692150198, 0.08415623692150198, 0.05610415794766799, 0.08415623692150198, 0.05610415794766799, 0.11220831589533597, 0.08415623692150198, 0.11220831589533597, 0.028052078973833994, 0.08415623692150198, 0.14026039486916997, 0.028052078973833994, 0.028052078973833994, 0.7740678268795023, 0.15481356537590046, 0.8419631983570781, 0.06871349716065303, 0.20614049148195907, 0.3435674858032651, 0.13742699432130606, 0.06871349716065303, 0.06871349716065303, 0.29806317628892526, 0.4470947644333879, 0.07491610274119759, 0.2247483082235928, 0.07491610274119759, 0.4494966164471856, 0.07491610274119759, 0.6119815826306446, 0.7751139704923192, 0.4893383586367572, 0.3262255724245048, 0.5806779574709251, 0.16110192185553227, 0.6444076874221291, 0.6723315504909472, 0.4672836243598173, 0.23364181217990865, 0.7488177792957194, 0.07453163998821685, 0.037265819994108426, 0.07453163998821685, 0.037265819994108426, 0.037265819994108426, 0.18632909997054214, 0.11179745998232528, 0.037265819994108426, 0.037265819994108426, 0.18632909997054214, 0.037265819994108426, 0.07453163998821685, 0.07453163998821685, 0.7229136266147358, 0.3547919685452335, 0.47305595806031125, 0.5828223649809887, 0.8583672737848075, 0.7089031096444731, 0.8257115404246431, 0.7968506132271288, 0.045434518528814846, 0.045434518528814846, 0.045434518528814846, 0.09086903705762969, 0.5452142223457782, 0.045434518528814846, 0.13630355558644455, 0.1746315609257464, 0.0873157804628732, 0.6112104632401123, 0.03817743398199694, 0.07635486796399388, 0.03817743398199694, 0.3435969058379724, 0.03817743398199694, 0.03817743398199694, 0.07635486796399388, 0.07635486796399388, 0.03817743398199694, 0.07635486796399388, 0.07635486796399388, 0.03474426876040198, 0.6601411064476376, 0.06948853752080396, 0.06948853752080396, 0.03474426876040198, 0.03474426876040198, 0.40851609263681604, 0.7359030701424126, 0.1319542474297823, 0.1319542474297823, 0.1319542474297823, 0.1319542474297823, 0.1319542474297823, 0.06597712371489114, 0.19793137114467346, 0.6881332545938603, 0.8012634830561848, 0.4788044464376694, 0.09344261278148241, 0.7475409022518593, 0.09344261278148241, 0.8662478845897107, 0.783243047176838, 0.8517406995464887, 0.6566875249456884, 0.6048310108661247, 0.8611737000307998, 0.39414277869540304, 0.39414277869540304, 0.07882855573908061, 0.728537803669444, 0.7789173477259527, 0.7674730140572666, 0.8713775233084303, 0.7214470745920548, 0.14428941491841096, 0.17148551573326312, 0.10289130943995786, 0.06859420629330525, 0.03429710314665262, 0.03429710314665262, 0.1371884125866105, 0.03429710314665262, 0.34297103146652624, 0.06859420629330525, 0.7310975504985611, 0.6098715381336596, 0.20329051271121984, 0.7028316202157759, 0.3685785804586091, 0.09214464511465227, 0.4607232255732614, 0.7697440882533937, 0.06539854937402628, 0.01089975822900438, 0.22889492280909202, 0.06539854937402628, 0.10899758229004382, 0.03269927468701314, 0.03269927468701314, 0.01089975822900438, 0.02179951645800876, 0.02179951645800876, 0.06539854937402628, 0.03269927468701314, 0.02179951645800876, 0.01089975822900438, 0.09809782406103944, 0.04359903291601752, 0.02179951645800876, 0.01089975822900438, 0.06539854937402628, 0.01089975822900438, 0.7101714624123285, 0.01640346473182287, 0.03280692946364574, 0.01640346473182287, 0.7217524482002062, 0.11482425312276008, 0.03280692946364574, 0.04921039419546861, 0.08936611629467453, 0.5361966977680472, 0.2680983488840236, 0.47202450013589947, 0.11800612503397487, 0.11800612503397487, 0.7543912007895526, 0.0676375805533508, 0.0676375805533508, 0.6763758055335081, 0.0676375805533508, 0.0676375805533508, 0.8322361346629954, 0.15619954506590472, 0.15619954506590472, 0.46859863519771416, 0.7061380063818248, 0.8822351643835737, 0.8267504180794538, 0.11810720258277912, 0.04668306892363204, 0.04668306892363204, 0.031122045949088024, 0.04668306892363204, 0.04668306892363204, 0.015561022974544012, 0.04668306892363204, 0.015561022974544012, 0.21785432164361618, 0.06224409189817605, 0.04668306892363204, 0.06224409189817605, 0.015561022974544012, 0.06224409189817605, 0.015561022974544012, 0.04668306892363204, 0.031122045949088024, 0.10892716082180809, 0.031122045949088024, 0.08607942267182402, 0.7747148040464162, 0.5699067152756956, 0.5502923692855691, 0.27514618464278456, 0.7749467782896968, 0.5175131244027877, 0.25875656220139387, 0.23860887069778536, 0.05965221767444634, 0.05965221767444634, 0.05965221767444634, 0.05965221767444634, 0.4772177413955707, 0.05965221767444634, 0.675666195770497, 0.7062477245995823, 0.11770795409993039, 0.04119672326642546, 0.06179508489963819, 0.08239344653285093, 0.02059836163321273, 0.12359016979927638, 0.08239344653285093, 0.06179508489963819, 0.02059836163321273, 0.10299180816606365, 0.06179508489963819, 0.02059836163321273, 0.04119672326642546, 0.06179508489963819, 0.02059836163321273, 0.02059836163321273, 0.04119672326642546, 0.02059836163321273, 0.06179508489963819, 0.04119672326642546, 0.05593341228043224, 0.16780023684129672, 0.01864447076014408, 0.03728894152028816, 0.01864447076014408, 0.01864447076014408, 0.07457788304057632, 0.0932223538007204, 0.03728894152028816, 0.05593341228043224, 0.05593341228043224, 0.05593341228043224, 0.01864447076014408, 0.11186682456086448, 0.03728894152028816, 0.14915576608115264, 0.45048217880257324, 0.45048217880257324, 0.11584120812873945, 0.5792060406436972, 0.11584120812873945, 0.6768833994313919, 0.08306578173150464, 0.16613156346300928, 0.04153289086575232, 0.08306578173150464, 0.04153289086575232, 0.04153289086575232, 0.04153289086575232, 0.16613156346300928, 0.04153289086575232, 0.04153289086575232, 0.12459867259725696, 0.08306578173150464, 0.29534093407289713, 0.413477307702056, 0.17720456044373828, 0.5938259667066044, 0.45265860601278796, 0.09800481100411378, 0.06533654066940918, 0.16334135167352296, 0.09800481100411378, 0.16334135167352296, 0.06533654066940918, 0.03266827033470459, 0.06533654066940918, 0.03266827033470459, 0.03266827033470459, 0.06533654066940918, 0.03266827033470459, 0.035804635100361824, 0.035804635100361824, 0.6802880669068746, 0.1432185404014473, 0.035804635100361824, 0.5829490500444179, 0.714123534996833, 0.79053545406118, 0.09956263694510831, 0.09956263694510831, 0.09956263694510831, 0.5973758216706498, 0.09956263694510831, 0.650827251580909, 0.5336715648372489, 0.26683578241862443, 0.1529485722400809, 0.6117942889603236, 0.7145760782258145, 0.6073870920787482, 0.2024623640262494, 0.06985372555300004, 0.7683909810830004, 0.06985372555300004, 0.8350511189562657, 0.5729162004052306, 0.2864581002026153, 0.2252459377773668, 0.04504918755547336, 0.04504918755547336, 0.18019675022189344, 0.04504918755547336, 0.04504918755547336, 0.04504918755547336, 0.2252459377773668, 0.04504918755547336, 0.04504918755547336, 0.12228436471312344, 0.06114218235656172, 0.3057109117828086, 0.06114218235656172, 0.06114218235656172, 0.12228436471312344, 0.06114218235656172, 0.12228436471312344, 0.06114218235656172, 0.06114218235656172, 0.4767021254200328, 0.2215338791349262, 0.14768925275661748, 0.07384462637830874, 0.07384462637830874, 0.29537850551323497, 0.2215338791349262, 0.12539427553043384, 0.12539427553043384, 0.04179809184347795, 0.3343847347478236, 0.04179809184347795, 0.04179809184347795, 0.12539427553043384, 0.24133365992155464, 0.4826673198431093, 0.5938523477336284, 0.08483604967623262, 0.16967209935246524, 0.08483604967623262, 0.08639612898521011, 0.07199677415434176, 0.028798709661736702, 0.028798709661736702, 0.15839290313955187, 0.10079548381607846, 0.014399354830868351, 0.057597419323473405, 0.043198064492605055, 0.028798709661736702, 0.11519483864694681, 0.057597419323473405, 0.057597419323473405, 0.014399354830868351, 0.043198064492605055, 0.028798709661736702, 0.043198064492605055, 0.014399354830868351, 0.062211544068302246, 0.082948725424403, 0.10368590678050374, 0.062211544068302246, 0.062211544068302246, 0.062211544068302246, 0.02073718135610075, 0.02073718135610075, 0.0414743627122015, 0.10368590678050374, 0.10368590678050374, 0.062211544068302246, 0.02073718135610075, 0.0414743627122015, 0.02073718135610075, 0.02073718135610075, 0.02073718135610075, 0.0414743627122015, 0.0414743627122015, 0.7116151939233976, 0.5128652103329701, 0.41029216826637604, 0.10257304206659401, 0.7860051905591675, 0.09825064881989594, 0.7722905950687082, 0.11032722786695832, 0.5834065168462527, 0.1944688389487509, 0.070630874832227, 0.211892624496681, 0.141261749664454, 0.282523499328908, 0.070630874832227, 0.141261749664454, 0.070630874832227, 0.5667786171313076, 0.22076334407238818, 0.17661067525791055, 0.04415266881447764, 0.04415266881447764, 0.22076334407238818, 0.2649160128868658, 0.8209652313860042, 0.08752759116892651, 0.3063465690912428, 0.08752759116892651, 0.13129138675338978, 0.13129138675338978, 0.17505518233785303, 0.04376379558446326, 0.7254690072010992, 0.7368035758164352, 0.0997366419183318, 0.2992099257549954, 0.3989465676733272, 0.4579348870934715, 0.6112893565344014, 0.13890607121968723, 0.023151011869947873, 0.06945303560984362, 0.023151011869947873, 0.023151011869947873, 0.06945303560984362, 0.023151011869947873, 0.023151011869947873, 0.04630202373989575, 0.04630202373989575, 0.0926040474797915, 0.11575505934973937, 0.04630202373989575, 0.04630202373989575, 0.023151011869947873, 0.04630202373989575, 0.023151011869947873, 0.023151011869947873, 0.06945303560984362, 0.797060914923695, 0.7120303171197969, 0.26248182522273505, 0.5249636504454701, 0.14237982315485037, 0.07118991157742519, 0.7118991157742519, 0.12558768956222532, 0.12558768956222532, 0.12558768956222532, 0.12558768956222532, 0.3767630686866759, 0.687155477386787, 0.2968400196459389, 0.05936800392918779, 0.05936800392918779, 0.47494403143350233, 0.26503075056606556, 0.13251537528303278, 0.13251537528303278, 0.3975461258490983, 0.8019843313172355, 0.8437641572261687, 0.07031367976884739, 0.5884982353732503, 0.7421897948745084, 0.893169099473755, 0.4186916949016862, 0.7321590531823181, 0.04316776488256257, 0.17267105953025028, 0.08633552976512514, 0.04316776488256257, 0.17267105953025028, 0.04316776488256257, 0.04316776488256257, 0.08633552976512514, 0.08633552976512514, 0.08633552976512514, 0.04316776488256257, 0.04316776488256257, 0.5387850528055366, 0.13469626320138414, 0.16595827791686496, 0.6638331116674598, 0.7699278158390814, 0.18806583901379964, 0.564197517041399, 0.5632248805209833, 0.43423743291866185, 0.8071427276555856, 0.8987752457057966, 0.8809537995442001, 0.2777190569154881, 0.5554381138309762, 0.7170357201169955, 0.6047239403124633, 0.07559049253905792, 0.07559049253905792, 0.07559049253905792, 0.07559049253905792, 0.7907646745207609, 0.0790764674520761, 0.9234406991089311, 0.5674652763426691, 0.06078528550205491, 0.12157057100410983, 0.3039264275102746, 0.06078528550205491, 0.12157057100410983, 0.06078528550205491, 0.18235585650616476, 0.06078528550205491, 0.7587007243043485, 0.7771726232659241, 0.07023406760584157, 0.2809362704233663, 0.2809362704233663, 0.14046813521168314, 0.14046813521168314, 0.8700002467144355, 0.7158170428263939, 0.06238154087372057, 0.06238154087372057, 0.06238154087372057, 0.06238154087372057, 0.12476308174744113, 0.6238154087372056, 0.11493908775790646, 0.6896345265474387, 0.928034335172357, 0.05285866655445701, 0.026429333277228503, 0.026429333277228503, 0.05285866655445701, 0.5021573322673416, 0.05285866655445701, 0.10571733310891401, 0.05285866655445701, 0.026429333277228503, 0.05285866655445701, 0.05285866655445701, 0.138957123478869, 0.0694785617394345, 0.0694785617394345, 0.416871370436607, 0.2084356852183035, 0.10029777969988404, 0.5014888984994202, 0.10029777969988404, 0.10029777969988404, 0.6535172891768143, 0.16327813713566985, 0.6531125485426794, 0.6147740437193622, 0.07684675546492027, 0.2305402663947608, 0.07684675546492027, 0.11715427457694734, 0.23430854915389468, 0.5857713728847367, 0.11715427457694734, 0.27070030635804143, 0.05414006127160829, 0.05414006127160829, 0.4331204901728663, 0.05414006127160829, 0.05414006127160829, 0.05414006127160829, 0.5924852622195979, 0.6996223622241274, 0.4674523326164821, 0.6472414139072158, 0.6829968394864954, 0.7438631301416051, 0.6309044424038935, 0.07747274565194211, 0.05164849710129474, 0.07747274565194211, 0.05164849710129474, 0.07747274565194211, 0.02582424855064737, 0.07747274565194211, 0.12912124275323683, 0.02582424855064737, 0.05164849710129474, 0.07747274565194211, 0.02582424855064737, 0.10329699420258948, 0.02582424855064737, 0.02582424855064737, 0.02582424855064737, 0.10329699420258948, 0.3031300389853918, 0.4546950584780878, 0.8385551745144254, 0.8702038977207962, 0.7891986611661717, 0.39139227675069554, 0.5870884151260434, 0.6602610874269317, 0.6938428597616129, 0.17346071494040322, 0.10544355600247995, 0.6326613360148797, 0.10544355600247995, 0.0745938274079734, 0.1491876548159468, 0.0745938274079734, 0.1491876548159468, 0.0745938274079734, 0.44756296444784044, 0.6630466569751275, 0.16325222097759765, 0.16325222097759765, 0.08162611048879882, 0.08162611048879882, 0.08162611048879882, 0.4081305524439941, 0.48108354818019067, 0.16036118272673022, 0.16036118272673022, 0.1316728657045292, 0.4608550299658522, 0.0658364328522646, 0.1316728657045292, 0.1316728657045292, 0.047314300081177964, 0.09462860016235593, 0.047314300081177964, 0.09462860016235593, 0.18925720032471186, 0.047314300081177964, 0.42582870073060164, 0.047314300081177964, 0.047314300081177964, 0.06286176331985968, 0.8172029231581759, 0.7794680861257286, 0.12991134768762141, 0.13238446431088885, 0.5295378572435554, 0.13238446431088885, 0.7802042973196911, 0.7430473614121715, 0.7322552782467127, 0.7451452946267001, 0.6368064680198686, 0.15920161700496716, 0.5113240111272774, 0.62830895683359, 0.08975842240479857, 0.17951684480959715, 0.4483840193999575, 0.5611952641333342, 0.3161416562090343, 0.5690549811762616, 0.03660514403319157, 0.05490771604978735, 0.018302572016595783, 0.018302572016595783, 0.018302572016595783, 0.05490771604978735, 0.018302572016595783, 0.03660514403319157, 0.03660514403319157, 0.38435401234851146, 0.05490771604978735, 0.12811800411617047, 0.03660514403319157, 0.018302572016595783, 0.05490771604978735, 0.05490771604978735, 0.0780616235755893, 0.39030811787794645, 0.0780616235755893, 0.0780616235755893, 0.0780616235755893, 0.0780616235755893, 0.0780616235755893, 0.20324525337111282, 0.10162262668555641, 0.10162262668555641, 0.40649050674222564, 0.06592635064284075, 0.263705402571363, 0.06592635064284075, 0.1318527012856815, 0.1318527012856815, 0.06592635064284075, 0.263705402571363, 0.7178564459100244, 0.1794641114775061, 0.5734312079239787, 0.14335780198099468, 0.12324049121821457, 0.12324049121821457, 0.04108016373940485, 0.04108016373940485, 0.04108016373940485, 0.04108016373940485, 0.24648098243642913, 0.04108016373940485, 0.04108016373940485, 0.0821603274788097, 0.0821603274788097, 0.12324049121821457, 0.6271206987234204, 0.2090402329078068, 0.6549188626357804, 0.7302480786207033, 0.8507539341748572, 0.6576813225108333, 0.030246894852929675, 0.15123447426464837, 0.030246894852929675, 0.09074068455878903, 0.06049378970585935, 0.1209875794117187, 0.18148136911757806, 0.09074068455878903, 0.09074068455878903, 0.030246894852929675, 0.06049378970585935, 0.030246894852929675, 0.9160371735688619, 0.8773781478388408, 0.8868276451254854, 0.2565187322343741, 0.15391123934062448, 0.4617337180218734, 0.10251785485900128, 0.5125892742950064, 0.30755356457700384, 0.38849377760347237, 0.5179917034712964, 0.8814664734860557, 0.15736575212740833, 0.6294630085096333, 0.16230761292152035, 0.6492304516860814, 0.1401864830270375, 0.056074593210815, 0.11214918642163, 0.280372966054075, 0.22429837284326, 0.0280372966054075, 0.11214918642163, 0.056074593210815, 0.2849361715217066, 0.6767234073640531, 0.045585708150166576, 0.022792854075083288, 0.022792854075083288, 0.06837856222524986, 0.06837856222524986, 0.1025678433378748, 0.022792854075083288, 0.05698213518770822, 0.07977498926279152, 0.12536069741295808, 0.14815355148804138, 0.045585708150166576, 0.022792854075083288, 0.03418928111262493, 0.03418928111262493, 0.05698213518770822, 0.011396427037541644, 0.03418928111262493, 0.03418928111262493, 0.020527715978939647, 0.020527715978939647, 0.6568869113260687, 0.18474944381045683, 0.020527715978939647, 0.08211086391575859, 0.039101031313907936, 0.8406721732490205, 0.039101031313907936, 0.019550515656953968, 0.7017333850061146, 0.23391112833537153, 0.7166553996727394, 0.7913881406411408, 0.798012378718729, 0.6362803978390156, 0.20208912629839415, 0.10104456314919708, 0.6062673788951825, 0.45272244970864983, 0.6374809020417256, 0.06103175410499816, 0.06103175410499816, 0.7323810492599778, 0.06103175410499816, 0.06103175410499816, 0.8062818354102177, 0.40472619650767033, 0.7835163452202197, 0.08575267543004884, 0.08575267543004884, 0.3430107017201954, 0.08575267543004884, 0.2572580262901465, 0.08575267543004884, 0.2882212075331099, 0.43233181129966486, 0.03889140567216176, 0.35002265104945585, 0.03889140567216176, 0.23334843403297056, 0.03889140567216176, 0.11667421701648528, 0.03889140567216176, 0.03889140567216176, 0.03889140567216176, 0.04354703939928821, 0.7402996697878995, 0.08709407879857642, 0.04354703939928821, 0.5546642736916816, 0.8052486623277928, 0.13587651646031573, 0.06793825823015787, 0.7473208405317365, 0.8178734274988073, 0.18798564573390047, 0.5639569372017014, 0.18798564573390047, 0.3523529855009763, 0.4228235826011716, 0.14094119420039053, 0.5026870139671383, 0.25134350698356916, 0.60879023714783, 0.7872650570014851, 0.6081877669088133, 0.7323244100248512, 0.44217671170308614, 0.07369611861718102, 0.44217671170308614, 0.8715490231639644, 0.8775007256402729, 0.09493448221194695, 0.09493448221194695, 0.5696068932716817, 0.09493448221194695, 0.1898689644238939, 0.06393816699323925, 0.767258003918871, 0.06393816699323925, 0.06393816699323925, 0.8786660688695528, 0.34202689629679467, 0.513040344445192, 0.05700448271613245, 0.7998113301620383, 0.748253642530678, 0.7363529718519981, 0.14727059437039963, 0.10360546674535524, 0.7252382672174866, 0.04461668542976002, 0.13385005628928007, 0.04461668542976002, 0.5354002251571203, 0.04461668542976002, 0.04461668542976002, 0.08923337085952004, 0.04461668542976002, 0.4200803984439762, 0.5601071979253016, 0.8986555756558173, 0.03696878904613913, 0.03696878904613913, 0.554531835692087, 0.14787515618455652, 0.03696878904613913, 0.07393757809227826, 0.8070102015427754, 0.6894673296212502, 0.8159611853968988, 0.4907841158300847, 0.12269602895752117, 0.24539205791504234, 0.8512970097774937, 0.3944689278974433, 0.7313281563321153, 0.5701795501407421, 0.28508977507037103, 0.07543087831384485, 0.1508617566276897, 0.03771543915692242, 0.07543087831384485, 0.07543087831384485, 0.03771543915692242, 0.11314631747076727, 0.1508617566276897, 0.03771543915692242, 0.03771543915692242, 0.03771543915692242, 0.03771543915692242, 0.03771543915692242, 0.5476500715904966, 0.1825500238634989, 0.4389918789563905, 0.07921485624313711, 0.792148562431371, 0.6381007933180549, 0.10463086406377592, 0.05231543203188796, 0.10463086406377592, 0.15694629609566388, 0.15694629609566388, 0.05231543203188796, 0.26157716015943977, 0.7639645333334981, 0.13718127971833358, 0.34295319929583395, 0.27436255943666715, 0.06859063985916679, 0.06859063985916679, 0.06859063985916679, 0.8262286480506256, 0.1687704725768894, 0.6750818903075576, 0.13473612479535577, 0.5389444991814231, 0.7693557669532385, 0.20477364617242244, 0.6143209385172673, 0.4864263856663437, 0.389141108533075, 0.8259268763042621, 0.8061719415890931, 0.06405036594614676, 0.09607554891922014, 0.09607554891922014, 0.06405036594614676, 0.1281007318922935, 0.06405036594614676, 0.1281007318922935, 0.09607554891922014, 0.09607554891922014, 0.03202518297307338, 0.03202518297307338, 0.2541709126336221, 0.5083418252672443, 0.6542701613257171, 0.6301494719692516, 0.23413625037338354, 0.07804541679112785, 0.07804541679112785, 0.07804541679112785, 0.3121816671645114, 0.07804541679112785, 0.07804541679112785, 0.7032983021575658, 0.8133271523036445, 0.7908032202755912, 0.6656559521396853, 0.4391520180610504, 0.3293640135457878, 0.1097880045152626, 0.8883338973528522, 0.9109050707203132, 0.6887023299782145, 0.5998291294206594, 0.5644354094876113, 0.09407256824793522, 0.09407256824793522, 0.09407256824793522, 0.7955396336112525, 0.20990069436966624, 0.6297020831089988, 0.06497789930165514, 0.909690590223172, 0.8940438586670374, 0.7305151507082737, 0.8904709379451012, 0.6659648499928056, 0.13319296999856112, 0.13319296999856112, 0.8538443286987165, 0.08252074263961982, 0.12378111395942974, 0.04126037131980991, 0.08252074263961982, 0.08252074263961982, 0.24756222791885948, 0.04126037131980991, 0.12378111395942974, 0.04126037131980991, 0.32497441077710315, 0.5416240179618387, 0.5726655546924273, 0.38177703646161826, 0.2188738221121675, 0.6566214663365025, 0.043613135154495636, 0.043613135154495636, 0.043613135154495636, 0.17445254061798254, 0.043613135154495636, 0.043613135154495636, 0.08722627030899127, 0.043613135154495636, 0.1308394054634869, 0.21806567577247818, 0.043613135154495636, 0.1308394054634869, 0.4531448656070151, 0.46352915006093964, 0.11588228751523491, 0.23176457503046982, 0.31608251356971373, 0.6321650271394275, 0.8985527261175726, 0.8764718763471031, 0.7177578319337021, 0.5819466276802938, 0.674227129579352, 0.26969085183174085, 0.7060867448329229, 0.15751546638436986, 0.7875773319218492, 0.7647719727792832, 0.12746199546321388, 0.13409517219268852, 0.8045710331561311, 0.8578993893490875, 0.8197747478599982, 0.08783300869928551, 0.029277669566428504, 0.8687501880944751, 0.2147089918790277, 0.09201813937672616, 0.15336356562787692, 0.030672713125575388, 0.09201813937672616, 0.09201813937672616, 0.030672713125575388, 0.09201813937672616, 0.030672713125575388, 0.030672713125575388, 0.030672713125575388, 0.09201813937672616, 0.030672713125575388, 0.5197932328950959, 0.12994830822377398, 0.12994830822377398, 0.7016024079485679, 0.5075207272194872, 0.8252869028474443, 0.5347904597397326, 0.5698000204581369, 0.9353386000680349, 0.05501991765106088, 0.21708668935847725, 0.6512600680754318, 0.770544748033069, 0.7751877331775958, 0.19379693329439895, 0.7727331914748459, 0.6894514836999706, 0.729304713064119, 0.4200464083187748, 0.1400154694395916, 0.2800309388791832, 0.655639116302917, 0.7462602953195954, 0.4603949341947382, 0.1825728661903179, 0.5477185985709536, 0.09119125348998788, 0.03039708449666263, 0.09119125348998788, 0.09119125348998788, 0.06079416899332526, 0.15198542248331315, 0.09119125348998788, 0.06079416899332526, 0.03039708449666263, 0.06079416899332526, 0.03039708449666263, 0.03039708449666263, 0.06079416899332526, 0.06079416899332526, 0.6064857587911789, 0.4872933814438835, 0.12758755737622424, 0.6379377868811211, 0.12758755737622424, 0.8964378610826911, 0.7263483324184946, 0.7933205334681102, 0.706145884622193, 0.8321594354504734, 0.6667510377791444, 0.11112517296319072, 0.11112517296319072, 0.26137158883121164, 0.6534289720780291, 0.13068579441560582, 0.11992852453976514, 0.5996426226988257, 0.11992852453976514, 0.11992852453976514, 0.3897269435006781, 0.23383616610040686, 0.07794538870013562, 0.6204017694387111, 0.6464850657496223, 0.12929701314992445, 0.05607285789576323, 0.05607285789576323, 0.05607285789576323, 0.11214571579152646, 0.11214571579152646, 0.05607285789576323, 0.11214571579152646, 0.33643714737457936, 0.38611922845715574, 0.16547966933878103, 0.11031977955918736, 0.05515988977959368, 0.05515988977959368, 0.16547966933878103, 0.8177217604628167, 0.8991056885171733, 0.07706620187290057, 0.9353446153780376, 0.7104584850194082, 0.5511239363089308, 0.8499353173132501, 0.08481192035552931, 0.08481192035552931, 0.16962384071105863, 0.5088715221331759, 0.6948855855235058, 0.13897711710470118, 0.13897711710470118, 0.6393213717618612, 0.12786427435237224, 0.12786427435237224, 0.7216321621432022, 0.04889127329341618, 0.02444563664670809, 0.09778254658683236, 0.04889127329341618, 0.09778254658683236, 0.12222818323354044, 0.09778254658683236, 0.02444563664670809, 0.09778254658683236, 0.02444563664670809, 0.07333690994012426, 0.14667381988024852, 0.02444563664670809, 0.02444563664670809, 0.04889127329341618, 0.820796240691117, 0.4836899865231685, 0.12092249663079213, 0.12092249663079213, 0.06030156128061608, 0.06030156128061608, 0.12060312256123217, 0.06030156128061608, 0.12060312256123217, 0.06030156128061608, 0.06030156128061608, 0.30150780640308045, 0.523661536780352, 0.27542970640548275, 0.5508594128109655, 0.06005325198435337, 0.06005325198435337, 0.06005325198435337, 0.06005325198435337, 0.06005325198435337, 0.12010650396870674, 0.06005325198435337, 0.06005325198435337, 0.06005325198435337, 0.06005325198435337, 0.06005325198435337, 0.06005325198435337, 0.2402130079374135, 0.7049440474366568, 0.9015343760378998, 0.6969041713545437, 0.5044549170871787, 0.8260067424340436, 0.31398215430521403, 0.4709732314578211, 0.7759427937958514, 0.32279728088299464, 0.10759909362766487, 0.4303963745106595, 0.10759909362766487, 0.1035015025897281, 0.1035015025897281, 0.2070030051794562, 0.4140060103589124, 0.2591755541744716, 0.5183511083489432, 0.6436653557956421, 0.7270538454161127, 0.4131145729704006, 0.64912066344702, 0.8907679417010976, 0.8603424841540942, 0.15450767157365525, 0.618030686294621, 0.17351499784071378, 0.13013624838053534, 0.21689374730089223, 0.08675749892035689, 0.043378749460178445, 0.043378749460178445, 0.043378749460178445, 0.043378749460178445, 0.043378749460178445, 0.08675749892035689, 0.043378749460178445, 0.043378749460178445, 0.07963747732278387, 0.39818738661391934, 0.07963747732278387, 0.07963747732278387, 0.07963747732278387, 0.07963747732278387, 0.07963747732278387, 0.15927495464556773, 0.352236516055994, 0.0880591290139985, 0.352236516055994, 0.0880591290139985, 0.7041202323163839, 0.10058860461662626, 0.7829540281213283, 0.656719005175792, 0.13339081154070623, 0.13339081154070623, 0.5335632461628249, 0.13339081154070623, 0.6166433470406588, 0.1469108080799491, 0.7345540403997456, 0.08201384629100152, 0.8201384629100151, 0.19106086811703388, 0.7642434724681355, 0.12715904918296098, 0.09536928688722073, 0.12715904918296098, 0.06357952459148049, 0.09536928688722073, 0.06357952459148049, 0.06357952459148049, 0.06357952459148049, 0.06357952459148049, 0.1589488114787012, 0.7125382270857343, 0.5928420586420352, 0.08289239158910724, 0.41446195794553625, 0.08289239158910724, 0.08289239158910724, 0.1657847831782145, 0.08289239158910724, 0.08289239158910724, 0.4581129024556128, 0.07027121214414879, 0.05270340910811159, 0.05270340910811159, 0.035135606072074395, 0.035135606072074395, 0.15811022732433477, 0.035135606072074395, 0.07027121214414879, 0.14054242428829758, 0.05270340910811159, 0.05270340910811159, 0.05270340910811159, 0.05270340910811159, 0.017567803036037197, 0.05270340910811159, 0.05270340910811159, 0.017567803036037197, 0.7669265039653257, 0.1077822082737846, 0.1077822082737846, 0.6466932496427076, 0.1077822082737846, 0.3781828540484611, 0.5621024708447522, 0.14052561771118804, 0.832240414059676, 0.6306840898473511, 0.7775073004531278, 0.8601473040295555, 0.5946614544380012, 0.19822048481266707, 0.842571544868218, 0.5041184130195325, 0.7226948390963337, 0.24089827969877792, 0.8472508219126319, 0.7298910776639179, 0.30929786320409147, 0.6185957264081829, 0.9168215364121179, 0.7954013182716206, 0.046477371924140545, 0.09295474384828109, 0.046477371924140545, 0.13943211577242165, 0.32534160346898383, 0.046477371924140545, 0.09295474384828109, 0.046477371924140545, 0.046477371924140545, 0.8325337211833904, 0.21707067478752493, 0.1447137831916833, 0.07235689159584165, 0.03617844579792082, 0.03617844579792082, 0.07235689159584165, 0.03617844579792082, 0.07235689159584165, 0.10853533739376246, 0.03617844579792082, 0.10853533739376246, 0.07235689159584165, 0.7525342585454183, 0.6952412092164693, 0.9828538979522364, 0.7889396038398588, 0.784692795928335, 0.8691191016976711, 0.07865574710835217, 0.9045410917460499, 0.9514277702595272, 0.6952407578139719, 0.8302005860693011, 0.603008413071762, 0.04638526254398169, 0.04638526254398169, 0.18554105017592676, 0.09277052508796338, 0.723873770386654, 0.7306418600765895, 0.1461283720153179, 0.6536800069819858, 0.7310303499178623, 0.21253099290825303, 0.6375929787247592, 0.6475003595237414, 0.28162766717694515, 0.5632553343538903, 0.7678719026413862, 0.12797865044023105, 0.49042633199131636, 0.770703564506148, 0.7093854071763186, 0.6645079469971609, 0.08569772616514525, 0.08569772616514525, 0.08569772616514525, 0.342790904660581, 0.08569772616514525, 0.1713954523302905, 0.6870031033672804, 0.14871051212658468, 0.5948420485063387, 0.14871051212658468, 0.6427250214566328, 0.9013868991088769, 0.09387631416279603, 0.09387631416279603, 0.6571341991395722, 0.597452900496789, 0.7441068577259926, 0.8048042224663627, 0.5140427121360088, 0.05552845465011558, 0.05552845465011558, 0.6108130011512714, 0.05552845465011558, 0.11105690930023115, 0.9218279951390964, 0.527537980861844, 0.03293481302120379, 0.06586962604240758, 0.7575006994876872, 0.06586962604240758, 0.606763728362587, 0.21868791316317002, 0.51027179738073, 0.07289597105439001, 0.14579194210878002, 0.8098845291475952, 0.7834483652981348, 0.07674727691802205, 0.07674727691802205, 0.6139782153441764, 0.07674727691802205, 0.7442299056828366, 0.6909229900990984, 0.7889614087477882, 0.852299027078525, 0.21296256783852455, 0.04259251356770491, 0.25555508140622946, 0.04259251356770491, 0.04259251356770491, 0.04259251356770491, 0.04259251356770491, 0.04259251356770491, 0.04259251356770491, 0.04259251356770491, 0.08518502713540982, 0.5661587620410721, 0.48495709270599374, 0.16165236423533125, 0.24247854635299687, 0.08082618211766562, 0.25811434348838913, 0.3871715152325837, 0.7395377049842581, 0.6355319664299427, 0.21184398880998093, 0.819600895547226, 0.193132565226813, 0.0965662826134065, 0.2896988478402195, 0.193132565226813, 0.14484942392010974, 0.7908769018793391, 0.24111883534666623, 0.7233565060399987, 0.39430580174896496, 0.7688710739195056, 0.08684933129400371, 0.17369866258800742, 0.13027399694100555, 0.043424665647001856, 0.2605479938820111, 0.043424665647001856, 0.21712332823500927, 0.1597611523331054, 0.1597611523331054, 0.0798805761665527, 0.3994028808327635, 0.23964172849965812, 0.6632622734113193, 0.2487233525292447, 0.298091108935329, 0.6707049951044901, 0.7429885677720734, 0.5956250394495956, 0.7590951630985909, 0.6091701414069484, 0.5939415147467618, 0.07629573347566612, 0.07629573347566612, 0.7629573347566613, 0.39189640549111837, 0.19009394170532062, 0.19009394170532062, 0.38018788341064125, 0.06524556120895919, 0.09786834181343879, 0.032622780604479595, 0.032622780604479595, 0.06524556120895919, 0.22835946423135717, 0.06524556120895919, 0.032622780604479595, 0.29360502544031636, 0.032622780604479595, 0.032622780604479595, 0.7258914986966192, 0.3223316804814641, 0.6446633609629282, 0.7811208290380535, 0.23307495133244377, 0.07769165044414793, 0.3884582522207396, 0.15538330088829586, 0.15538330088829586, 0.7873193198960866, 0.21179156789933143, 0.42358313579866286, 0.10589578394966571, 0.2492435042302781, 0.14954610253816686, 0.049848700846055624, 0.09969740169211125, 0.049848700846055624, 0.049848700846055624, 0.049848700846055624, 0.09969740169211125, 0.049848700846055624, 0.049848700846055624, 0.049848700846055624, 0.049848700846055624, 0.049848700846055624, 0.7214558230147811, 0.8260113731201187, 0.3553985399507576, 0.4738647199343435, 0.9275596921171517, 0.8881941618951767, 0.2919627424706653, 0.5839254849413306, 0.6985476384207165, 0.38909525635834613, 0.25939683757223075, 0.12969841878611538, 0.08463030487740916, 0.7616727438966824, 0.5272329979592932, 0.10544659959185866, 0.21089319918371732, 0.04872389708938061, 0.12180974272345153, 0.024361948544690305, 0.07308584563407092, 0.04872389708938061, 0.04872389708938061, 0.04872389708938061, 0.21925753690221275, 0.024361948544690305, 0.024361948544690305, 0.12180974272345153, 0.024361948544690305, 0.024361948544690305, 0.04872389708938061, 0.04872389708938061, 0.04872389708938061, 0.07628915062946953, 0.7628915062946953, 0.07628915062946953, 0.139111546537376, 0.834669279224256, 0.6745029102731398, 0.39618300193313893, 0.4863509493583228, 0.16211698311944092, 0.7193116218290536, 0.7498177445472848, 0.41677929441828, 0.18426302001581712, 0.7370520800632685, 0.5595252029169372, 0.1865084009723124, 0.5525607961099669, 0.7967072189557729, 0.086175894320549, 0.775583048884941, 0.7815054195106963, 0.9270820893421092, 0.8225444651618569, 0.12086452765831547, 0.7251871659498927, 0.2058474283110222, 0.6175422849330666, 0.13584439231338666, 0.13584439231338666, 0.5433775692535466, 0.8896448671746319, 0.8051107398899042, 0.8386486220489683, 0.888265336980312, 0.05546625992666415, 0.05546625992666415, 0.027733129963332076, 0.05546625992666415, 0.027733129963332076, 0.027733129963332076, 0.08319938988999623, 0.05546625992666415, 0.027733129963332076, 0.05546625992666415, 0.05546625992666415, 0.3050644295966528, 0.027733129963332076, 0.027733129963332076, 0.08319938988999623, 0.05546625992666415, 0.027733129963332076, 0.027733129963332076, 0.4845534894662979, 0.09691069789325958, 0.09691069789325958, 0.09691069789325958, 0.09691069789325958, 0.09691069789325958, 0.11885112125553803, 0.8319578487887662, 0.8610169010037015, 0.19177976663173693, 0.7671190665269477, 0.9228281600694174, 0.9532410761717449, 0.8965786346249702, 0.8660047707135247, 0.512587384199843, 0.1025174768399686, 0.30755243051990583, 0.7520108353747291, 0.11239241863271218, 0.7305507211126292, 0.6189174217971591], \"Term\": [\"a\", \"a\", \"a\", \"ac\", \"adakah\", \"adakah\", \"adakah\", \"adakah\", \"adakah\", \"adakah\", \"adakah\", \"adalah\", \"adek\", \"agak\", \"agama\", \"air\", \"aja\", \"aja\", \"aja\", \"aja\", \"aja\", \"aja\", \"aja\", \"aja\", \"aja\", \"aja\", \"aja\", \"aja\", \"aja\", \"aja\", \"aja\", \"ajaa\", \"akan\", \"akhirnya\", \"aku\", \"aku\", \"aku\", \"aku\", \"aku\", \"aku\", \"aku\", \"aku\", \"aku\", \"aku\", \"aku\", \"aku\", \"aku\", \"aku\", \"aku\", \"aku\", \"aku\", \"aku\", \"aku\", \"akun\", \"akun\", \"alat\", \"allah\", \"alumni\", \"alumni\", \"ambil\", \"ambil\", \"ampe\", \"an\", \"an\", \"an\", \"an\", \"an\", \"an\", \"an\", \"anak\", \"anak\", \"anak\", \"anak\", \"anak\", \"anak\", \"anak\", \"anak\", \"anak\", \"anak\", \"anak\", \"anak\", \"anak\", \"anak\", \"anak\", \"anak\", \"angin\", \"angkatan\", \"angkatan\", \"angkatan\", \"angkatan\", \"angkatan\", \"angkatan\", \"antar\", \"antar_jemput\", \"anter\", \"apaa\", \"apaan\", \"apakah\", \"apakah\", \"apakah\", \"apakah\", \"apakah\", \"apakah\", \"apakah\", \"apapun\", \"apkh\", \"aplikasi\", \"area\", \"area\", \"area\", \"area\", \"area\", \"area_keputih\", \"arsi\", \"asdos\", \"asrama\", \"asrama\", \"atau\", \"atau\", \"atau\", \"atau\", \"atau\", \"atau\", \"atau\", \"atau\", \"atau\", \"atau\", \"atau\", \"atau\", \"atau\", \"atau\", \"atau\", \"atau\", \"atau\", \"atau\", \"atm\", \"atm\", \"awet\", \"ayang\", \"ayang\", \"ayang\", \"ayang\", \"ayang\", \"ayang\", \"ayang\", \"ayang\", \"ayang\", \"ayang\", \"ayang\", \"bab\", \"bab\", \"bagaimana\", \"bagi\", \"bagi\", \"bagi\", \"bagi\", \"bagi\", \"bagian\", \"bagian\", \"bagus\", \"bagus\", \"bagus\", \"bahasa\", \"bahasa\", \"bahasa_inggris\", \"bakal\", \"bakal\", \"bakal\", \"bakal\", \"bakal\", \"balik\", \"balik\", \"balik\", \"balik\", \"balik_ke\", \"balik_ke\", \"banget\", \"banget\", \"banget\", \"banget\", \"banget\", \"banget\", \"banget\", \"banget\", \"banget\", \"banget\", \"banget_nih\", \"bangun\", \"bank\", \"bantu\", \"bantu\", \"bantu\", \"bantu\", \"bantuin\", \"barang\", \"barang\", \"barangkali\", \"barengan\", \"barengan\", \"baru\", \"baru\", \"baru\", \"baru\", \"baru\", \"baru\", \"baru\", \"base\", \"base\", \"bau\", \"bayar\", \"bayar\", \"bayar\", \"be\", \"beasiswa\", \"beasiswa\", \"beberapa\", \"beda\", \"bekas\", \"belakang\", \"beli\", \"beli\", \"beli\", \"beli\", \"beli\", \"beli\", \"beli\", \"beli\", \"beli\", \"beli\", \"beli\", \"beli\", \"beli\", \"beli\", \"belinya\", \"belom\", \"belum\", \"belum\", \"belum\", \"belum\", \"belum\", \"belum\", \"belum\", \"belum\", \"belum\", \"bener\", \"bener\", \"bener\", \"bener\", \"bener\", \"beneran\", \"beneran\", \"bengkel\", \"bentar\", \"ber\", \"ber\", \"berapa\", \"berapa\", \"berapa\", \"berapa\", \"berapa\", \"berapa\", \"berapa\", \"berapa\", \"berapa\", \"berapaan\", \"berarti\", \"berat\", \"berhenti\", \"bersama\", \"bersama\", \"bersama\", \"bersih\", \"besar\", \"besok\", \"besok\", \"besok\", \"besok\", \"besok\", \"besok\", \"besok\", \"besok\", \"besok\", \"besok\", \"besok\", \"besok\", \"bf\", \"bgt\", \"bgt\", \"bgt\", \"bgt\", \"bgt\", \"bgt\", \"bgt\", \"bgt\", \"bgt\", \"bgt\", \"bgt\", \"biar\", \"biar\", \"biar\", \"biar\", \"biar\", \"biar\", \"biar\", \"biasanya\", \"biasanya\", \"biasanya\", \"biasanya\", \"biasanya\", \"biasanya\", \"biasanya\", \"bikin\", \"bikin\", \"bikin\", \"bikin\", \"bikin\", \"bindo\", \"biru\", \"bisa\", \"bisa\", \"bisa\", \"bisa\", \"bisa\", \"bisa\", \"bisa\", \"bisa\", \"bisa\", \"bisa\", \"bisa\", \"bisa\", \"bisa\", \"bisa\", \"bisa\", \"bisa\", \"bisa\", \"bisa\", \"bisa\", \"bisa\", \"bisa_dipake\", \"blm\", \"blm\", \"blm\", \"blm\", \"blm\", \"bme\", \"bni\", \"boleh\", \"boleh\", \"boleh\", \"boleh\", \"boleh\", \"boleh\", \"boleh\", \"boleh\", \"boleh\", \"boleh\", \"boleh\", \"boleh\", \"boleh\", \"boleh_minta\", \"boleh_minta\", \"boleh_minta\", \"boleh_minta\", \"boleh_minta\", \"bri\", \"brp\", \"brp\", \"brp\", \"brp\", \"bs\", \"bu\", \"buat\", \"buat\", \"buat\", \"buat\", \"buat\", \"buat\", \"buat\", \"buat\", \"buat\", \"buat\", \"buat\", \"buat\", \"buat\", \"buat\", \"buat\", \"buat\", \"buat\", \"buat\", \"buat\", \"buat\", \"bucket\", \"buka\", \"buka\", \"buka\", \"buka\", \"buka\", \"buka\", \"buka\", \"buka\", \"buka\", \"buka\", \"buka\", \"buka\", \"buka\", \"buka\", \"buka\", \"buka\", \"buka\", \"buka_jasa\", \"buka_jasa\", \"buka_jasa\", \"buka_pas\", \"bukan\", \"bukan\", \"bukanya\", \"bukti\", \"buku\", \"buku\", \"bumi\", \"but\", \"butuh\", \"butuh\", \"butuh\", \"butuh\", \"butuh\", \"butuh\", \"butuh\", \"butuh\", \"butuh\", \"butuh\", \"by\", \"c\", \"cake\", \"cantik\", \"capek\", \"capek\", \"capek\", \"capek\", \"cara\", \"cara\", \"cara\", \"cara\", \"cara\", \"cara\", \"cara\", \"cara\", \"cara\", \"cara\", \"caranya\", \"catering\", \"cek\", \"cek\", \"cepat\", \"cewek\", \"cewek\", \"cewek\", \"chat\", \"coba\", \"cocok\", \"confess\", \"cowok\", \"cowok\", \"cowok\", \"cuci\", \"cukup\", \"cuma\", \"cuma\", \"cuma\", \"cung\", \"curhat\", \"cv\", \"cv\", \"d\", \"d\", \"daerah\", \"daerah\", \"daerah\", \"daerah\", \"daerah\", \"daerah\", \"daerah\", \"daerah_keputih\", \"daerah_keputih\", \"daerah_keputih\", \"daftar\", \"daftar\", \"daftar\", \"daftar\", \"dalam\", \"dalam\", \"dalam\", \"dalam\", \"dalam\", \"dalem\", \"dan\", \"dan\", \"dan\", \"dan\", \"dan\", \"dan\", \"dan\", \"dan\", \"dan\", \"dan\", \"dan\", \"dan\", \"dan\", \"dan\", \"dan\", \"dan\", \"dan\", \"dan\", \"dan\", \"dana\", \"dapat\", \"dapat\", \"dapet\", \"dapet\", \"dapet\", \"dapet\", \"dapet\", \"dapet\", \"dapet\", \"dapet\", \"dapet\", \"dapet\", \"dapetin\", \"dapur\", \"dapur_bersama\", \"dari\", \"dari\", \"dari\", \"dari\", \"dari\", \"dari\", \"dari\", \"dari\", \"dari\", \"dari\", \"dari\", \"dari\", \"dari\", \"dari\", \"dari\", \"dari\", \"dari\", \"daripada\", \"data\", \"data\", \"date\", \"dateng_ke\", \"day\", \"deh\", \"deh\", \"dekat\", \"dekat\", \"deket\", \"deket\", \"deket\", \"deket\", \"deket\", \"deket\", \"deket\", \"deket\", \"deket\", \"deket\", \"deket_its\", \"deket_its\", \"deket_its\", \"depan\", \"depan\", \"depan\", \"depan\", \"depan\", \"depart\", \"departemen\", \"departemen\", \"departemen\", \"departemen\", \"departemen\", \"departemen\", \"dept\", \"despro\", \"despro\", \"di\", \"di\", \"di\", \"di\", \"di\", \"di\", \"di\", \"di\", \"di\", \"di\", \"di\", \"di\", \"di\", \"di\", \"di\", \"di\", \"di\", \"di\", \"di\", \"di\", \"di_mana\", \"di_mana\", \"di_mana\", \"di_mana\", \"di_sini\", \"dia\", \"dia\", \"dia\", \"diajar\", \"dibeli\", \"dibuka\", \"dibuka\", \"dicari\", \"dicari\", \"dicari\", \"dikasih\", \"dikit\", \"diluar\", \"dimana\", \"dimana\", \"dimana\", \"dimana\", \"dimana\", \"dimana\", \"dimana\", \"dimana\", \"dimana\", \"dimana\", \"dimana\", \"dimana\", \"dimana_yaa\", \"dimana_yaa\", \"dimana_yaa\", \"dipake\", \"dipake\", \"diri\", \"disuruh\", \"ditanya\", \"ditanya\", \"ditanyain\", \"ditanyain\", \"ditanyain\", \"ditutup\", \"divisi\", \"dkv\", \"dm\", \"dm\", \"dm\", \"dm\", \"dm\", \"dm\", \"dmn\", \"dmn\", \"dmn\", \"dmn\", \"dokter\", \"donk\", \"doong\", \"dosen\", \"dosen\", \"dosen\", \"dosen\", \"dosennya\", \"down\", \"download\", \"dr\", \"dr\", \"dr\", \"dri\", \"dua\", \"duduk\", \"duit\", \"dulu\", \"dulu\", \"dulu\", \"dulu\", \"dulu\", \"dulu\", \"duluan\", \"e\", \"e\", \"elektro\", \"elektro\", \"email_its\", \"emg\", \"emg\", \"enak\", \"enak\", \"enak\", \"enak\", \"enak\", \"enak\", \"enak\", \"error\", \"error\", \"ets\", \"ets\", \"expo\", \"extend\", \"f\", \"f\", \"fee\", \"fess\", \"fess\", \"fess\", \"film\", \"film\", \"fis\", \"fisika\", \"fisika\", \"fisika\", \"fisika\", \"fisika\", \"fisika\", \"fisika\", \"follow\", \"for\", \"for\", \"form\", \"form\", \"foto\", \"foto\", \"foto\", \"fsad\", \"fteic\", \"ftk\", \"gaa\", \"gaa\", \"gaa\", \"gaa\", \"gaa\", \"gaa\", \"gaa\", \"gaa\", \"gaada\", \"gabut\", \"gaiss\", \"gak\", \"gak\", \"gak\", \"gak\", \"gak\", \"gak\", \"gak\", \"gak\", \"gak\", \"gak\", \"gak\", \"gak\", \"gak\", \"gak\", \"gak\", \"gak\", \"gak\", \"gak\", \"gak\", \"gampang\", \"gang\", \"gapapa\", \"gapapa\", \"gapunya\", \"gara\", \"gas\", \"gas\", \"gasih\", \"gass\", \"gate\", \"gebang\", \"gebang\", \"gebang\", \"gebang\", \"gebang\", \"gedung\", \"gempa\", \"ges\", \"ges\", \"ges\", \"ges\", \"gess\", \"gimana\", \"gimana\", \"gimana\", \"gimana\", \"gimana\", \"gimana\", \"gimana\", \"gimana\", \"gimana\", \"gimana\", \"gimana\", \"gimana\", \"gimana\", \"gimana_cara\", \"gimana_cara\", \"gimanaa\", \"gini\", \"gini\", \"gini\", \"gini\", \"gini\", \"gini\", \"gk\", \"gk\", \"gmn\", \"gmn\", \"gmn\", \"gmn\", \"gmn\", \"gocar\", \"gojek\", \"gpp\", \"gpp\", \"grup\", \"gt\", \"gt\", \"gtu\", \"gubeng\", \"gubeng\", \"gue\", \"guys\", \"guys\", \"guys\", \"guys\", \"guys\", \"guys\", \"guys\", \"guys\", \"guys\", \"guys\", \"guys\", \"guys\", \"guys\", \"gym\", \"h\", \"h\", \"habis\", \"hai\", \"haii\", \"hal\", \"hallo\", \"halo\", \"halo\", \"halo\", \"halo\", \"halo\", \"halo\", \"halo\", \"haloo\", \"haloo\", \"haloo\", \"hari\", \"hari\", \"hari\", \"hari\", \"hari\", \"hari\", \"hari\", \"hari\", \"hari\", \"hari\", \"hari\", \"hari_ini\", \"hari_ini\", \"hari_ini\", \"hari_ini\", \"hari_ini\", \"hari_ini\", \"hari_minggu\", \"hari_pertama\", \"harus\", \"harus\", \"harus\", \"harus\", \"harus\", \"harus\", \"harus\", \"hasil\", \"hati\", \"have\", \"hehe\", \"hehe\", \"hehe\", \"help\", \"hi\", \"hima\", \"himpunan\", \"how\", \"hujan\", \"i\", \"i\", \"i\", \"id\", \"ide\", \"ig\", \"iisma\", \"ikoma\", \"ikoma\", \"ikut\", \"ikut\", \"ikut\", \"ikut\", \"ikut\", \"ikut\", \"ikut\", \"ikut\", \"ikut\", \"ikut_lomba\", \"ikutan\", \"ikutan\", \"ilang\", \"in\", \"in\", \"in\", \"include\", \"info\", \"info\", \"info\", \"info\", \"info\", \"info\", \"info\", \"info\", \"info\", \"info\", \"info\", \"info\", \"info\", \"info\", \"info\", \"info\", \"info\", \"info\", \"info\", \"info\", \"info_kehilangan\", \"info_kos\", \"info_kos\", \"info_kos\", \"info_kos\", \"info_kos\", \"info_kos\", \"info_kos\", \"info_kosan\", \"info_kosan\", \"info_kosan\", \"info_kost\", \"info_kost\", \"info_kost\", \"info_oprec\", \"info_tempat\", \"info_tempat\", \"info_tempat\", \"info_tempat\", \"info_tempat\", \"infonya\", \"infoo\", \"infoo\", \"infoo\", \"infor\", \"informatika\", \"inggris\", \"inggris\", \"ini\", \"ini\", \"ini\", \"ini\", \"ini\", \"ini\", \"ini\", \"ini\", \"ini\", \"ini\", \"ini\", \"ini\", \"ini\", \"ini\", \"ini\", \"ini\", \"ini\", \"ini\", \"ini\", \"inpo\", \"inpo\", \"ip\", \"ipad\", \"ipad\", \"iphone\", \"is\", \"is\", \"isi\", \"isi\", \"isi\", \"isi\", \"isi\", \"isi\", \"isi\", \"isinya\", \"it\", \"it\", \"its\", \"its\", \"its\", \"its\", \"its\", \"its\", \"its\", \"its\", \"its\", \"its\", \"its\", \"its\", \"its\", \"its\", \"its\", \"its\", \"its\", \"its\", \"its\", \"itu\", \"itu\", \"itu\", \"itu\", \"itu\", \"itu\", \"itu\", \"itu\", \"itu\", \"itu\", \"itu\", \"itu\", \"itu\", \"itu\", \"itu\", \"itu\", \"iya\", \"iya\", \"izin\", \"izin\", \"izin\", \"j\", \"jadi\", \"jadi\", \"jadi\", \"jadi\", \"jadi\", \"jadi\", \"jadi\", \"jadi\", \"jadi\", \"jadi\", \"jadi\", \"jadi\", \"jadwal\", \"jadwal\", \"jadwal\", \"jahim\", \"jajan\", \"jam\", \"jam\", \"jam\", \"jam\", \"jam\", \"jam\", \"jam\", \"jam\", \"jam\", \"jam\", \"jam\", \"jam\", \"jam_berapa\", \"jam_berapa\", \"jam_berapa\", \"jam_berapa\", \"jam_berapa\", \"jam_malem\", \"jam_pagi\", \"jamber\", \"jasa\", \"jasa\", \"jasa\", \"jasa\", \"jasa\", \"jatah\", \"jatuh\", \"jatuh\", \"jd\", \"jd\", \"jelas\", \"jemput\", \"jemput\", \"join\", \"join\", \"join\", \"joki\", \"jt\", \"jt\", \"jual\", \"jual\", \"jual\", \"jual\", \"jual\", \"jual\", \"jual\", \"jual\", \"jual\", \"jual\", \"juga\", \"juga\", \"juga\", \"juga\", \"juga\", \"juga\", \"juga\", \"juga\", \"juga\", \"juga\", \"jujur\", \"jurusan\", \"jurusan\", \"jurusan\", \"jurusan\", \"jurusan\", \"jurusan\", \"k\", \"k\", \"k\", \"k\", \"k\", \"k\", \"k\", \"kader\", \"kader\", \"kali\", \"kali\", \"kali\", \"kali\", \"kalian\", \"kalian\", \"kalian\", \"kalian\", \"kalian\", \"kalian\", \"kalian\", \"kalian\", \"kalian\", \"kalian\", \"kalian\", \"kalian\", \"kalian\", \"kalian\", \"kalian\", \"kalian\", \"kalian\", \"kalian\", \"kalo\", \"kalo\", \"kalo\", \"kalo\", \"kalo\", \"kalo\", \"kalo\", \"kalo\", \"kalo\", \"kalo\", \"kalo\", \"kalo\", \"kalo\", \"kalo\", \"kalo\", \"kalo\", \"kalo\", \"kalo\", \"kalo\", \"kalo_iya\", \"kamar\", \"kamar\", \"kamar\", \"kamar_mandi\", \"kamar_mandi\", \"kami\", \"kami\", \"kamis\", \"kamis\", \"kampus\", \"kampus\", \"kampus\", \"kampus\", \"kampus\", \"kampus\", \"kampus\", \"kamu\", \"kan\", \"kan\", \"kan\", \"kan\", \"kan\", \"kan\", \"kangen\", \"kapan\", \"kapan\", \"kapan\", \"kapan\", \"kapan\", \"kapan\", \"kapan\", \"kartu\", \"kasi\", \"kayak\", \"kayak\", \"kayak\", \"kayak_gini\", \"kayaknya\", \"ke\", \"ke\", \"ke\", \"ke\", \"ke\", \"ke\", \"ke\", \"ke\", \"ke\", \"ke\", \"ke\", \"ke\", \"ke\", \"ke\", \"ke\", \"ke\", \"ke\", \"ke\", \"ke\", \"ke_kampus\", \"kebetulan\", \"kecil\", \"kecil\", \"kegiatan\", \"kegiatan\", \"kegiatan\", \"kehilangan\", \"kehilangan\", \"kehilangan\", \"kehilangan\", \"kehilangan\", \"kekurangan\", \"kelas\", \"kelas\", \"kelas\", \"kelas\", \"keluar\", \"keluar\", \"keluar\", \"keluar\", \"keluarga\", \"kemarin\", \"kemarin\", \"kenal\", \"kenceng\", \"kepanitiaan\", \"keperluan\", \"kepikiran\", \"keputih\", \"keputih\", \"keputih\", \"keputih\", \"keputih\", \"keputih\", \"keputih\", \"keputih\", \"keputih\", \"keputih\", \"keputih\", \"keputih\", \"kereta\", \"kereta\", \"kerja\", \"kerja\", \"ketemu\", \"keterima\", \"keterima\", \"ketik\", \"ketika\", \"khusus\", \"kilat\", \"kimia\", \"kipas\", \"kipas\", \"kipas_angin\", \"kira\", \"kira\", \"kira\", \"kira\", \"kira\", \"kira_kira\", \"kira_kira\", \"kirakira\", \"kirim\", \"kita\", \"kita\", \"kita\", \"kita\", \"kita\", \"kita\", \"kita\", \"kita\", \"kkn\", \"klean\", \"klo\", \"klo\", \"klo\", \"klo\", \"klo\", \"kmart\", \"knp\", \"kok\", \"kok\", \"kok\", \"kok\", \"kok\", \"kok\", \"komen\", \"komen\", \"komunitas\", \"kos\", \"kos\", \"kos\", \"kos\", \"kos\", \"kos\", \"kos\", \"kos\", \"kos\", \"kos\", \"kos\", \"kosan\", \"kosan\", \"kosan\", \"kosan\", \"kosan\", \"kosong\", \"kosong\", \"kosong\", \"kosong\", \"kota\", \"ktm\", \"ktm\", \"ku\", \"ku\", \"ku\", \"ku\", \"kucing\", \"kucing\", \"kucing\", \"kucing\", \"kuliah\", \"kuliah\", \"kuliah\", \"kuliah\", \"kuliah\", \"kuliah\", \"kuliah\", \"kulit\", \"kunci\", \"kunci_motor\", \"kursi\", \"kwn\", \"l\", \"lab\", \"lagi\", \"lagi\", \"lagi\", \"lagi\", \"lagi\", \"lagi\", \"lagi\", \"lagi\", \"lagi\", \"lagi\", \"lagi\", \"lagi\", \"lagi\", \"lagi\", \"lagi\", \"lagi\", \"lagi\", \"lagi_butuh\", \"lagi_butuh\", \"lagi_nyari\", \"lagu\", \"lainnya\", \"lancar\", \"lancar\", \"lanjut\", \"lantai\", \"lantai\", \"laptop\", \"laptop\", \"laptop\", \"lebih\", \"lebih\", \"lebih\", \"lebih\", \"lebih\", \"lebih\", \"lebih_lanjut\", \"lewat\", \"lewat\", \"lewat\", \"lewat\", \"lewat\", \"lewat\", \"lg\", \"lg\", \"lg\", \"liat\", \"liat\", \"liat\", \"liat\", \"liat\", \"libur\", \"libur\", \"libur\", \"libur\", \"libur\", \"libur\", \"libur\", \"libur\", \"libur\", \"liburan\", \"liburan\", \"like\", \"like\", \"link\", \"link\", \"link\", \"linknya\", \"listrik\", \"login\", \"loh\", \"lolos\", \"lolos\", \"lt\", \"luar\", \"luar\", \"luar\", \"lumayan\", \"m\", \"maaf\", \"maaf\", \"maba\", \"maba\", \"maba\", \"maba\", \"maba\", \"maba\", \"maba\", \"maba\", \"maba\", \"maba\", \"maba\", \"maba\", \"maba\", \"maba\", \"maba\", \"maba\", \"mahasiswa\", \"mahasiswa\", \"mahasiswa\", \"mahasiswa\", \"mahasiswa\", \"mahasiswa\", \"mahasiswa\", \"makasi\", \"makasi\", \"makasi\", \"makasi\", \"makasii\", \"makasii\", \"makasii\", \"makasii\", \"makasii\", \"makasii\", \"makasii\", \"makasiii\", \"makasiii\", \"malah\", \"malah\", \"mana\", \"mana\", \"mana\", \"mana\", \"mana\", \"mana\", \"mana\", \"mana\", \"mana\", \"mana\", \"mana\", \"mana\", \"mandiri\", \"mandiri\", \"mantan\", \"maret\", \"mari\", \"masak\", \"masih\", \"masih\", \"masih\", \"masih\", \"masih\", \"masih\", \"masih\", \"masih\", \"masih\", \"masih\", \"masih\", \"masih\", \"masjid\", \"masmas\", \"masmba\", \"masmbak\", \"masmbak\", \"masmbak\", \"mat\", \"mat\", \"mat\", \"mata\", \"mata\", \"mata_kuliah\", \"matematika\", \"matematika\", \"materi\", \"materi\", \"matkul\", \"matkul\", \"matkul\", \"matkul\", \"matkul\", \"matkul\", \"matkul\", \"matkul\", \"matkul_pengayaan\", \"matkul_pengayaan\", \"mau\", \"mau\", \"mau\", \"mau\", \"mau\", \"mau\", \"mau\", \"mau\", \"mau\", \"mau\", \"mau\", \"mau\", \"mau\", \"mau\", \"mau\", \"mau\", \"mau\", \"mau\", \"mau\", \"mau_nanya\", \"mau_nanya\", \"mau_nanya\", \"mau_nanya\", \"mau_nanya\", \"mau_nanya\", \"mau_tanya\", \"mau_tanya\", \"mau_tanya\", \"mau_tanya\", \"mbakmas\", \"mbakmas\", \"me\", \"medcen\", \"memasuki\", \"membantu\", \"mending\", \"mending\", \"mending\", \"mengisi\", \"menurut\", \"menurut_kalian\", \"menurut_kalian\", \"menurut_kalian\", \"menurut_kalian\", \"menurut_kalian\", \"merah\", \"met\", \"metode\", \"minat\", \"minat\", \"minat\", \"minat\", \"minat\", \"minat\", \"minimal\", \"minimal\", \"minta\", \"minta\", \"minta\", \"minta\", \"minta\", \"minta\", \"minta\", \"minta\", \"minta\", \"minta_tolong\", \"minta_tolong\", \"minta_tolong\", \"minta_tolong\", \"mintol\", \"misal\", \"misi\", \"misi\", \"misi\", \"mk\", \"mo\", \"mo\", \"mo\", \"mohon\", \"mohon\", \"mohon\", \"mohon_bantuannya\", \"mohon_bantuannya\", \"msib\", \"mtk\", \"mu\", \"mudik\", \"mulai\", \"mulai\", \"mulai\", \"mulu\", \"mulyosari\", \"mungkin\", \"mungkin\", \"mungkin\", \"mungkin\", \"mungkin\", \"murah\", \"murah\", \"murah\", \"murah\", \"musim\", \"mutualan\", \"mutualan\", \"mutualan\", \"mw\", \"naik_bus\", \"naik_kereta\", \"naik_kereta\", \"nambah\", \"nambah\", \"nanti\", \"nanti\", \"nanti\", \"nanti\", \"nanti\", \"nanti\", \"nanti\", \"nanti\", \"nanti_aku\", \"nanti_aku\", \"nanti_sender\", \"nanya\", \"nanya\", \"nanya\", \"nanya\", \"nanya\", \"nanya\", \"nay\", \"ngadain\", \"ngajuin\", \"ngapain\", \"ngapain\", \"ngapain\", \"ngasih\", \"ngekos\", \"ngeprint\", \"ngerasa\", \"ngerasa\", \"ngga\", \"ngga\", \"ngga\", \"ngga\", \"ngga\", \"ngga\", \"ngga\", \"ngga\", \"ngga\", \"ngga\", \"ngga\", \"ngga\", \"ngga\", \"ngisi\", \"ngisi\", \"ngobrol\", \"ngulang\", \"ngulang\", \"ngurus\", \"nih\", \"nih\", \"nih\", \"nih\", \"nih\", \"nih\", \"nih\", \"nihh\", \"nilai\", \"nilai\", \"nilai\", \"nilai\", \"nilai\", \"nilai\", \"nilainya\", \"nnti\", \"nnti\", \"no\", \"no\", \"no_salty\", \"nomer\", \"nomer\", \"nrp\", \"nrp\", \"nt\", \"nunggu\", \"nya\", \"nya\", \"nya\", \"nya\", \"nya\", \"nya\", \"nya\", \"nya\", \"nya\", \"nya\", \"nya\", \"nyaa\", \"nyaa\", \"nyala\", \"nyaman\", \"nyari\", \"nyari\", \"nyari\", \"nyari\", \"nyari\", \"nyari\", \"nyari\", \"nyari_temen\", \"nyimpen\", \"obat\", \"of\", \"offline\", \"offline\", \"offline\", \"olahraga\", \"oleh\", \"on\", \"one\", \"online\", \"online\", \"online\", \"online\", \"oot\", \"open_jastip\", \"open_jastip\", \"oprec\", \"oprec\", \"or\", \"org\", \"organisasi\", \"pacar\", \"pacar\", \"pacar\", \"pacaran\", \"pada\", \"pada\", \"pada\", \"pada\", \"pada\", \"pada\", \"pada\", \"pada\", \"pada\", \"padahal\", \"padahal\", \"pak\", \"pak\", \"pakai\", \"pakai\", \"pake\", \"pake\", \"pake\", \"pake\", \"pake\", \"pake\", \"pake\", \"pake\", \"pake\", \"pake\", \"pake\", \"pake\", \"paket\", \"paling\", \"paling\", \"paling\", \"panas\", \"panas\", \"pap\", \"parkir_motor\", \"part\", \"part_time\", \"pen\", \"pen\", \"pendapat\", \"pengayaan\", \"pengayaan\", \"per\", \"per\", \"perkuliahan\", \"perkuliahan\", \"perlu\", \"permisi\", \"permisi\", \"permisi\", \"permisi_masmba\", \"pernah\", \"pernah\", \"pernah\", \"pernah\", \"pernah\", \"pernah\", \"pernah\", \"pernah\", \"pernah\", \"pernah\", \"pernah\", \"pernah\", \"pernah\", \"pertama\", \"pertama\", \"pertama\", \"pesan\", \"pesen\", \"pgn\", \"pindah\", \"pingin\", \"pkm\", \"pkm\", \"plis\", \"plis\", \"pliss\", \"pls\", \"pls\", \"porto\", \"poster\", \"praktikum\", \"preloved\", \"preloved\", \"preloved\", \"premium\", \"presentasi\", \"ps\", \"pulkam\", \"pulkam\", \"punya\", \"punya\", \"punya\", \"punya\", \"punya\", \"punya\", \"punya\", \"punya\", \"punya\", \"punya\", \"punya\", \"punya\", \"punya\", \"punya\", \"pusing\", \"putra\", \"putri\", \"putri\", \"putri\", \"pwk\", \"ramadhan\", \"random\", \"rantau\", \"raya\", \"rekkk\", \"rekkk\", \"rekkk\", \"rekom\", \"rekom\", \"rekom\", \"rekomen\", \"rekomen\", \"rekomen\", \"rekomen\", \"rekomendasi\", \"rekomendasi\", \"rekomendasi\", \"rekomin\", \"rencana\", \"rencana\", \"rep\", \"rep\", \"rep\", \"rep\", \"rep\", \"rep\", \"rep\", \"rep\", \"reply\", \"reply\", \"reply\", \"reply\", \"reply\", \"reply\", \"reply_yaa\", \"review\", \"review\", \"reviewnya\", \"rusak\", \"s\", \"sabar\", \"sakinah\", \"sakinah\", \"sakinah\", \"sakinah\", \"sakit\", \"sakit\", \"sakit\", \"salah\", \"salah\", \"salah\", \"salty\", \"sama\", \"sama\", \"sama\", \"sama\", \"sama\", \"sama\", \"sama\", \"sama\", \"sama\", \"sama\", \"sama\", \"sama\", \"sama\", \"sama\", \"sama\", \"sama_sekali\", \"sampai\", \"sampai\", \"sampai\", \"sampe\", \"sampe\", \"sampe\", \"sampe\", \"sampe\", \"sampe\", \"sampe\", \"sampe\", \"sampe_jam\", \"sana\", \"sana\", \"saran\", \"saran\", \"saran\", \"saran\", \"saran\", \"saran\", \"saran\", \"saran\", \"saran\", \"saran\", \"saran\", \"saran\", \"saran\", \"saranin\", \"saya\", \"sayur\", \"scientific\", \"se\", \"sebagai\", \"sebagai\", \"sebelah\", \"sebelum\", \"sebelum\", \"sebelum\", \"sebelum\", \"sebelumnya\", \"sebelumnya\", \"sebelumnya\", \"sebelumnya\", \"sebelumnyaa\", \"sebelumnyaa\", \"sebenernya\", \"seblak\", \"sebulan\", \"sedang\", \"sedih\", \"sekali\", \"sekalian\", \"sekalian\", \"sekitar\", \"sekitar\", \"sekitar\", \"sekitar\", \"sekitar\", \"sekitar\", \"sekitar\", \"sekitar\", \"sekitar\", \"sekitar\", \"sekitar\", \"sekitar\", \"sekitar_its\", \"sekitar_its\", \"sekitar_its\", \"sekitar_its\", \"sekitar_its\", \"sekitar_its\", \"sekitar_its\", \"sekitar_its\", \"sekitar_keputih\", \"sekitar_keputih\", \"sekitar_keputih\", \"sekitar_keputih\", \"sekitaran\", \"sekitaran\", \"sekitaran_its\", \"sekitarnya\", \"selama\", \"selama\", \"selama\", \"selama\", \"selasa\", \"selesai\", \"selesai\", \"sem\", \"sem\", \"semangat_buat\", \"semangat_buat\", \"semester\", \"semester\", \"semester\", \"semester\", \"semester\", \"semester\", \"semester\", \"semester\", \"semester\", \"semester\", \"seminggu\", \"semoga\", \"semua\", \"semua\", \"semua\", \"semua\", \"semua\", \"semua\", \"semua\", \"semuaa\", \"sender\", \"sender\", \"sender\", \"sender\", \"sender\", \"sender\", \"sender\", \"sender\", \"sender\", \"sender\", \"sender\", \"sender\", \"sender\", \"sender\", \"sender\", \"sender\", \"sender\", \"sender_dm\", \"sendiri\", \"sendiri\", \"sendiri\", \"sendiri\", \"seng\", \"senin\", \"senin\", \"sepatu\", \"sepeda\", \"serius\", \"seru\", \"service\", \"service\", \"sesuai\", \"sesuatu\", \"set\", \"set\", \"setelah\", \"sg\", \"share\", \"share\", \"siakad\", \"siap\", \"siapa\", \"siapa\", \"siapa\", \"siapa\", \"siapa\", \"siapa\", \"siapa\", \"siapa\", \"siapa\", \"siapa_tau\", \"sih\", \"sih\", \"sih\", \"sih\", \"sih\", \"sih\", \"sih\", \"sih\", \"sih\", \"sih\", \"sih\", \"sih\", \"sini\", \"sistem\", \"skem\", \"skemnya\", \"skor\", \"skpb\", \"sks\", \"sks\", \"smt\", \"snbt\", \"so\", \"spill\", \"spill\", \"spill\", \"spill\", \"spill\", \"sponsorship\", \"staff\", \"staff\", \"stand\", \"start\", \"stasiun\", \"stasiun\", \"stasiun_gubeng\", \"statistika\", \"statistika\", \"stiker\", \"stiker\", \"stnk_dengan\", \"stuck\", \"studi\", \"suatu\", \"suka\", \"suka\", \"suka\", \"suka\", \"suka\", \"suka\", \"super\", \"surat\", \"surat\", \"surat\", \"sy\", \"syarat\", \"ta\", \"ta\", \"ta\", \"tab\", \"tahun_ini\", \"tambah\", \"tangan\", \"tanggal\", \"tanggal\", \"tanggal\", \"tanggal\", \"tanggal\", \"tanggal_berapa\", \"tanpa\", \"tanya\", \"tanya\", \"tanya\", \"tanya\", \"tas\", \"tau_tempat\", \"tau_tempat\", \"tau_tempat\", \"tau_tempat\", \"tedx\", \"tekkim\", \"teknik\", \"teknik\", \"teknik\", \"teknik\", \"teknologi\", \"telah\", \"telat\", \"temenku\", \"tempat\", \"tempat\", \"tempat\", \"tempat\", \"tempat\", \"tempat\", \"tempat\", \"tempat\", \"tempat\", \"tempat\", \"tempat\", \"tenang\", \"tentang\", \"tentang\", \"tentang\", \"tentang\", \"terakhir\", \"terakhir\", \"terdekat\", \"terima_kasih\", \"terima_kasih\", \"termasuk\", \"terus\", \"terus\", \"terus\", \"terus\", \"terus\", \"tes\", \"thank\", \"thank\", \"thanks\", \"this\", \"tia\", \"tia\", \"tia\", \"tia\", \"tia\", \"tia\", \"tia\", \"tidak\", \"tidak\", \"tidak\", \"tidak\", \"tidak\", \"tiket_kereta\", \"tiket_kereta\", \"tim\", \"tim\", \"time\", \"timur\", \"tinggal\", \"tinggi\", \"tingkat\", \"tips\", \"tips\", \"tips\", \"tmn\", \"to\", \"to\", \"to\", \"tolong\", \"tolong\", \"tolong\", \"tolong\", \"tolong\", \"tolong\", \"tolong\", \"tolong\", \"tolong\", \"tolong\", \"tolong\", \"tombo\", \"trus\", \"trus\", \"ttg\", \"tu\", \"tu\", \"tu\", \"tu\", \"tu\", \"tua\", \"tugas\", \"tugas\", \"tugas\", \"tuh\", \"tuh\", \"tuh\", \"tuh\", \"tuh\", \"tuh\", \"tuh\", \"tuh\", \"tuh\", \"tuh\", \"tuh\", \"tuh\", \"tuh\", \"tukang\", \"turi\", \"tutor\", \"tutor\", \"tutorial\", \"tweet\", \"tws\", \"tws\", \"twt\", \"u\", \"u\", \"u\", \"uang\", \"uang\", \"uda\", \"uda\", \"uda\", \"udah\", \"udah\", \"udah\", \"udah\", \"udah\", \"udah\", \"udah\", \"udah\", \"udah\", \"udah\", \"udah\", \"udah\", \"udah\", \"udah\", \"udah\", \"udah\", \"ukm\", \"ukm\", \"ukm\", \"ukt\", \"ukt\", \"ukuran\", \"under_k\", \"up\", \"up\", \"upload\", \"upmb\", \"urgent\", \"utk\", \"utk\", \"verifikasi\", \"verifikasi\", \"vokasi\", \"wa\", \"wajib\", \"wajib\", \"wangi\", \"war\", \"wdyt\", \"wisuda\", \"wisuda\", \"with\", \"with\", \"wkwk\", \"wkwk\", \"wkwk\", \"word\", \"worth\", \"worth_it\", \"wts\", \"yaa\", \"yaa\", \"yaa\", \"yaa\", \"yaa\", \"yaa\", \"yaa\", \"yaa\", \"yaa\", \"yaa\", \"yaa\", \"yaa\", \"yaa\", \"yaa\", \"yaa\", \"yaa\", \"yaa\", \"yaa\", \"yaaa\", \"yaaa\", \"yaaa\", \"yaaa\", \"yaaa\", \"yaaa\", \"yah\", \"yah\", \"yak\", \"yay\", \"yay\", \"yay_or\", \"yaynay\", \"yo\", \"yok\", \"you\", \"you\", \"you\", \"yu\", \"yuk\", \"yuk\", \"yuu\"]}, \"R\": 30, \"lambda.step\": 0.01, \"plot.opts\": {\"xlab\": \"PC1\", \"ylab\": \"PC2\"}, \"topic.order\": [2, 1, 9, 8, 20, 14, 11, 3, 17, 6, 5, 10, 7, 4, 18, 15, 19, 16, 13, 12]};\n",
              "\n",
              "function LDAvis_load_lib(url, callback){\n",
              "  var s = document.createElement('script');\n",
              "  s.src = url;\n",
              "  s.async = true;\n",
              "  s.onreadystatechange = s.onload = callback;\n",
              "  s.onerror = function(){console.warn(\"failed to load library \" + url);};\n",
              "  document.getElementsByTagName(\"head\")[0].appendChild(s);\n",
              "}\n",
              "\n",
              "if(typeof(LDAvis) !== \"undefined\"){\n",
              "   // already loaded: just create the visualization\n",
              "   !function(LDAvis){\n",
              "       new LDAvis(\"#\" + \"ldavis_el20501397626795767524359154258\", ldavis_el20501397626795767524359154258_data);\n",
              "   }(LDAvis);\n",
              "}else if(typeof define === \"function\" && define.amd){\n",
              "   // require.js is available: use it to load d3/LDAvis\n",
              "   require.config({paths: {d3: \"https://d3js.org/d3.v5\"}});\n",
              "   require([\"d3\"], function(d3){\n",
              "      window.d3 = d3;\n",
              "      LDAvis_load_lib(\"https://cdn.jsdelivr.net/gh/bmabey/pyLDAvis@3.4.0/pyLDAvis/js/ldavis.v3.0.0.js\", function(){\n",
              "        new LDAvis(\"#\" + \"ldavis_el20501397626795767524359154258\", ldavis_el20501397626795767524359154258_data);\n",
              "      });\n",
              "    });\n",
              "}else{\n",
              "    // require.js not available: dynamically load d3 & LDAvis\n",
              "    LDAvis_load_lib(\"https://d3js.org/d3.v5.js\", function(){\n",
              "         LDAvis_load_lib(\"https://cdn.jsdelivr.net/gh/bmabey/pyLDAvis@3.4.0/pyLDAvis/js/ldavis.v3.0.0.js\", function(){\n",
              "                 new LDAvis(\"#\" + \"ldavis_el20501397626795767524359154258\", ldavis_el20501397626795767524359154258_data);\n",
              "            })\n",
              "         });\n",
              "}\n",
              "</script>"
            ]
          },
          "metadata": {},
          "execution_count": 11
        }
      ]
    }
  ]
}